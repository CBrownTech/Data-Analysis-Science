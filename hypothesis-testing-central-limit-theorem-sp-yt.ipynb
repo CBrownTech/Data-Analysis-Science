{
 "cells": [
  {
   "cell_type": "markdown",
   "id": "f179a70a",
   "metadata": {
    "papermill": {
     "duration": 0.021012,
     "end_time": "2023-07-10T09:59:24.029751",
     "exception": false,
     "start_time": "2023-07-10T09:59:24.008739",
     "status": "completed"
    },
    "tags": []
   },
   "source": [
    "# Comparative Analysis of Streaming Numbers and YouTube Viewership\n",
    "\n",
    "#### *This project aims to analyze and compare various factors related to streaming numbers and YouTube viewership in the music industry. The analysis focuses on four main categories:*\n",
    "\n",
    "* ##### **Comparing Streaming Numbers and YouTube Viewership** \n",
    "\n",
    "* ##### **Comparing Numbers between Albums and Singles** \n",
    "\n",
    "* ##### **Comparing Numbers between Major and Minor Keys** \n",
    "\n",
    "* ##### **Comparing Numbers between Music Artists**\n",
    "\n",
    "#### *This project employs statistical techniques such as A/B testing, the Central Limit Theorem, hypothesis testing, and data visualization to derive meaningful insights and draw comparisons between the aforementioned categories.*"
   ]
  },
  {
   "cell_type": "markdown",
   "id": "81382ffa",
   "metadata": {
    "papermill": {
     "duration": 0.019742,
     "end_time": "2023-07-10T09:59:24.069880",
     "exception": false,
     "start_time": "2023-07-10T09:59:24.050138",
     "status": "completed"
    },
    "tags": []
   },
   "source": [
    "### Libraries Used in the Project\n",
    "\n",
    "*  **Pandas (`import pandas as pd`):** Pandas is a powerful data manipulation library that provides high-performance data structures and data analysis tools. It is used in this project to read and handle the dataset, perform data grouping and aggregation, and facilitate data preprocessing tasks.\n",
    "\n",
    "*  **NumPy (`import numpy as np`):** NumPy is a fundamental library for numerical computing in Python. It provides efficient arrays and mathematical operations on arrays. NumPy is utilized in this project for array manipulation, generating random samples for the Central Limit Theorem, and performing statistical calculations.\n",
    "\n",
    "*  **Matplotlib (`import matplotlib.pyplot as plt`):** Matplotlib is a popular data visualization library in Python. It provides a wide range of plotting functions and capabilities. Matplotlib is used in this project to create various types of visualizations, including histograms, bar charts, and scatter plots, to analyze and present the data visually.\n",
    "\n",
    "* **SciPy (`from scipy.stats import ...`):** SciPy is a scientific computing library in Python that provides a wide range of statistical functions and tools. In this project, various functions from the scipy.stats module are imported:\n",
    " \n",
    " * ***ttest_ind:*** This function is used to perform an independent two-sample t-test, comparing the means of two groups.\n",
    " * ***ttest_rel:*** This function is used to perform a paired t-test, comparing the means of two related groups.\n",
    " * ***ttest_1samp:*** This function is used to perform a one-sample t-test, comparing the mean of a single group to a specified value.\n",
    " * ***norm:*** This class represents a normal distribution, which is used for generating random samples from a normal distribution in the Central Limit Theorem."
   ]
  },
  {
   "cell_type": "code",
   "execution_count": 1,
   "id": "e6da7819",
   "metadata": {
    "execution": {
     "iopub.execute_input": "2023-07-10T09:59:24.111695Z",
     "iopub.status.busy": "2023-07-10T09:59:24.111230Z",
     "iopub.status.idle": "2023-07-10T09:59:25.117786Z",
     "shell.execute_reply": "2023-07-10T09:59:25.116937Z"
    },
    "executionCancelledAt": null,
    "executionTime": 48,
    "lastExecutedAt": 1688819996281,
    "lastScheduledRunId": null,
    "lastSuccessfullyExecutedCode": "import pandas as pd\nimport numpy as np\nimport matplotlib.pyplot as plt\nfrom scipy.stats import ttest_ind",
    "papermill": {
     "duration": 1.030528,
     "end_time": "2023-07-10T09:59:25.120484",
     "exception": false,
     "start_time": "2023-07-10T09:59:24.089956",
     "status": "completed"
    },
    "tags": []
   },
   "outputs": [],
   "source": [
    "import pandas as pd\n",
    "import numpy as np\n",
    "import matplotlib.pyplot as plt\n",
    "from scipy.stats import ttest_ind\n",
    "from scipy.stats import ttest_rel\n",
    "from scipy.stats import ttest_1samp\n",
    "from scipy.stats import norm"
   ]
  },
  {
   "cell_type": "code",
   "execution_count": 2,
   "id": "34f1091d",
   "metadata": {
    "execution": {
     "iopub.execute_input": "2023-07-10T09:59:25.162932Z",
     "iopub.status.busy": "2023-07-10T09:59:25.162306Z",
     "iopub.status.idle": "2023-07-10T09:59:26.434469Z",
     "shell.execute_reply": "2023-07-10T09:59:26.433375Z"
    },
    "executionCancelledAt": null,
    "executionTime": 472,
    "lastExecutedAt": 1688819996753,
    "lastScheduledRunId": null,
    "lastSuccessfullyExecutedCode": "df = pd.read_csv('Spotify_Youtube.csv')\ndf",
    "papermill": {
     "duration": 1.29645,
     "end_time": "2023-07-10T09:59:26.437493",
     "exception": false,
     "start_time": "2023-07-10T09:59:25.141043",
     "status": "completed"
    },
    "tags": []
   },
   "outputs": [
    {
     "data": {
      "text/html": [
       "<div>\n",
       "<style scoped>\n",
       "    .dataframe tbody tr th:only-of-type {\n",
       "        vertical-align: middle;\n",
       "    }\n",
       "\n",
       "    .dataframe tbody tr th {\n",
       "        vertical-align: top;\n",
       "    }\n",
       "\n",
       "    .dataframe thead th {\n",
       "        text-align: right;\n",
       "    }\n",
       "</style>\n",
       "<table border=\"1\" class=\"dataframe\">\n",
       "  <thead>\n",
       "    <tr style=\"text-align: right;\">\n",
       "      <th></th>\n",
       "      <th>Unnamed: 0</th>\n",
       "      <th>Artist</th>\n",
       "      <th>Url_spotify</th>\n",
       "      <th>Track</th>\n",
       "      <th>Album</th>\n",
       "      <th>Album_type</th>\n",
       "      <th>Uri</th>\n",
       "      <th>Danceability</th>\n",
       "      <th>Energy</th>\n",
       "      <th>Key</th>\n",
       "      <th>...</th>\n",
       "      <th>Url_youtube</th>\n",
       "      <th>Title</th>\n",
       "      <th>Channel</th>\n",
       "      <th>Views</th>\n",
       "      <th>Likes</th>\n",
       "      <th>Comments</th>\n",
       "      <th>Description</th>\n",
       "      <th>Licensed</th>\n",
       "      <th>official_video</th>\n",
       "      <th>Stream</th>\n",
       "    </tr>\n",
       "  </thead>\n",
       "  <tbody>\n",
       "    <tr>\n",
       "      <th>0</th>\n",
       "      <td>0</td>\n",
       "      <td>Gorillaz</td>\n",
       "      <td>https://open.spotify.com/artist/3AA28KZvwAUcZu...</td>\n",
       "      <td>Feel Good Inc.</td>\n",
       "      <td>Demon Days</td>\n",
       "      <td>album</td>\n",
       "      <td>spotify:track:0d28khcov6AiegSCpG5TuT</td>\n",
       "      <td>0.818</td>\n",
       "      <td>0.705</td>\n",
       "      <td>6.0</td>\n",
       "      <td>...</td>\n",
       "      <td>https://www.youtube.com/watch?v=HyHNuVaZJ-k</td>\n",
       "      <td>Gorillaz - Feel Good Inc. (Official Video)</td>\n",
       "      <td>Gorillaz</td>\n",
       "      <td>693555221.0</td>\n",
       "      <td>6220896.0</td>\n",
       "      <td>169907.0</td>\n",
       "      <td>Official HD Video for Gorillaz' fantastic trac...</td>\n",
       "      <td>True</td>\n",
       "      <td>True</td>\n",
       "      <td>1.040235e+09</td>\n",
       "    </tr>\n",
       "    <tr>\n",
       "      <th>1</th>\n",
       "      <td>1</td>\n",
       "      <td>Gorillaz</td>\n",
       "      <td>https://open.spotify.com/artist/3AA28KZvwAUcZu...</td>\n",
       "      <td>Rhinestone Eyes</td>\n",
       "      <td>Plastic Beach</td>\n",
       "      <td>album</td>\n",
       "      <td>spotify:track:1foMv2HQwfQ2vntFf9HFeG</td>\n",
       "      <td>0.676</td>\n",
       "      <td>0.703</td>\n",
       "      <td>8.0</td>\n",
       "      <td>...</td>\n",
       "      <td>https://www.youtube.com/watch?v=yYDmaexVHic</td>\n",
       "      <td>Gorillaz - Rhinestone Eyes [Storyboard Film] (...</td>\n",
       "      <td>Gorillaz</td>\n",
       "      <td>72011645.0</td>\n",
       "      <td>1079128.0</td>\n",
       "      <td>31003.0</td>\n",
       "      <td>The official video for Gorillaz - Rhinestone E...</td>\n",
       "      <td>True</td>\n",
       "      <td>True</td>\n",
       "      <td>3.100837e+08</td>\n",
       "    </tr>\n",
       "    <tr>\n",
       "      <th>2</th>\n",
       "      <td>2</td>\n",
       "      <td>Gorillaz</td>\n",
       "      <td>https://open.spotify.com/artist/3AA28KZvwAUcZu...</td>\n",
       "      <td>New Gold (feat. Tame Impala and Bootie Brown)</td>\n",
       "      <td>New Gold (feat. Tame Impala and Bootie Brown)</td>\n",
       "      <td>single</td>\n",
       "      <td>spotify:track:64dLd6rVqDLtkXFYrEUHIU</td>\n",
       "      <td>0.695</td>\n",
       "      <td>0.923</td>\n",
       "      <td>1.0</td>\n",
       "      <td>...</td>\n",
       "      <td>https://www.youtube.com/watch?v=qJa-VFwPpYA</td>\n",
       "      <td>Gorillaz - New Gold ft. Tame Impala &amp; Bootie B...</td>\n",
       "      <td>Gorillaz</td>\n",
       "      <td>8435055.0</td>\n",
       "      <td>282142.0</td>\n",
       "      <td>7399.0</td>\n",
       "      <td>Gorillaz - New Gold ft. Tame Impala &amp; Bootie B...</td>\n",
       "      <td>True</td>\n",
       "      <td>True</td>\n",
       "      <td>6.306347e+07</td>\n",
       "    </tr>\n",
       "    <tr>\n",
       "      <th>3</th>\n",
       "      <td>3</td>\n",
       "      <td>Gorillaz</td>\n",
       "      <td>https://open.spotify.com/artist/3AA28KZvwAUcZu...</td>\n",
       "      <td>On Melancholy Hill</td>\n",
       "      <td>Plastic Beach</td>\n",
       "      <td>album</td>\n",
       "      <td>spotify:track:0q6LuUqGLUiCPP1cbdwFs3</td>\n",
       "      <td>0.689</td>\n",
       "      <td>0.739</td>\n",
       "      <td>2.0</td>\n",
       "      <td>...</td>\n",
       "      <td>https://www.youtube.com/watch?v=04mfKJWDSzI</td>\n",
       "      <td>Gorillaz - On Melancholy Hill (Official Video)</td>\n",
       "      <td>Gorillaz</td>\n",
       "      <td>211754952.0</td>\n",
       "      <td>1788577.0</td>\n",
       "      <td>55229.0</td>\n",
       "      <td>Follow Gorillaz online:\\nhttp://gorillaz.com \\...</td>\n",
       "      <td>True</td>\n",
       "      <td>True</td>\n",
       "      <td>4.346636e+08</td>\n",
       "    </tr>\n",
       "    <tr>\n",
       "      <th>4</th>\n",
       "      <td>4</td>\n",
       "      <td>Gorillaz</td>\n",
       "      <td>https://open.spotify.com/artist/3AA28KZvwAUcZu...</td>\n",
       "      <td>Clint Eastwood</td>\n",
       "      <td>Gorillaz</td>\n",
       "      <td>album</td>\n",
       "      <td>spotify:track:7yMiX7n9SBvadzox8T5jzT</td>\n",
       "      <td>0.663</td>\n",
       "      <td>0.694</td>\n",
       "      <td>10.0</td>\n",
       "      <td>...</td>\n",
       "      <td>https://www.youtube.com/watch?v=1V_xRb0x9aw</td>\n",
       "      <td>Gorillaz - Clint Eastwood (Official Video)</td>\n",
       "      <td>Gorillaz</td>\n",
       "      <td>618480958.0</td>\n",
       "      <td>6197318.0</td>\n",
       "      <td>155930.0</td>\n",
       "      <td>The official music video for Gorillaz - Clint ...</td>\n",
       "      <td>True</td>\n",
       "      <td>True</td>\n",
       "      <td>6.172597e+08</td>\n",
       "    </tr>\n",
       "  </tbody>\n",
       "</table>\n",
       "<p>5 rows × 28 columns</p>\n",
       "</div>"
      ],
      "text/plain": [
       "   Unnamed: 0    Artist                                        Url_spotify  \\\n",
       "0           0  Gorillaz  https://open.spotify.com/artist/3AA28KZvwAUcZu...   \n",
       "1           1  Gorillaz  https://open.spotify.com/artist/3AA28KZvwAUcZu...   \n",
       "2           2  Gorillaz  https://open.spotify.com/artist/3AA28KZvwAUcZu...   \n",
       "3           3  Gorillaz  https://open.spotify.com/artist/3AA28KZvwAUcZu...   \n",
       "4           4  Gorillaz  https://open.spotify.com/artist/3AA28KZvwAUcZu...   \n",
       "\n",
       "                                           Track  \\\n",
       "0                                 Feel Good Inc.   \n",
       "1                                Rhinestone Eyes   \n",
       "2  New Gold (feat. Tame Impala and Bootie Brown)   \n",
       "3                             On Melancholy Hill   \n",
       "4                                 Clint Eastwood   \n",
       "\n",
       "                                           Album Album_type  \\\n",
       "0                                     Demon Days      album   \n",
       "1                                  Plastic Beach      album   \n",
       "2  New Gold (feat. Tame Impala and Bootie Brown)     single   \n",
       "3                                  Plastic Beach      album   \n",
       "4                                       Gorillaz      album   \n",
       "\n",
       "                                    Uri  Danceability  Energy   Key  ...  \\\n",
       "0  spotify:track:0d28khcov6AiegSCpG5TuT         0.818   0.705   6.0  ...   \n",
       "1  spotify:track:1foMv2HQwfQ2vntFf9HFeG         0.676   0.703   8.0  ...   \n",
       "2  spotify:track:64dLd6rVqDLtkXFYrEUHIU         0.695   0.923   1.0  ...   \n",
       "3  spotify:track:0q6LuUqGLUiCPP1cbdwFs3         0.689   0.739   2.0  ...   \n",
       "4  spotify:track:7yMiX7n9SBvadzox8T5jzT         0.663   0.694  10.0  ...   \n",
       "\n",
       "                                   Url_youtube  \\\n",
       "0  https://www.youtube.com/watch?v=HyHNuVaZJ-k   \n",
       "1  https://www.youtube.com/watch?v=yYDmaexVHic   \n",
       "2  https://www.youtube.com/watch?v=qJa-VFwPpYA   \n",
       "3  https://www.youtube.com/watch?v=04mfKJWDSzI   \n",
       "4  https://www.youtube.com/watch?v=1V_xRb0x9aw   \n",
       "\n",
       "                                               Title   Channel        Views  \\\n",
       "0         Gorillaz - Feel Good Inc. (Official Video)  Gorillaz  693555221.0   \n",
       "1  Gorillaz - Rhinestone Eyes [Storyboard Film] (...  Gorillaz   72011645.0   \n",
       "2  Gorillaz - New Gold ft. Tame Impala & Bootie B...  Gorillaz    8435055.0   \n",
       "3     Gorillaz - On Melancholy Hill (Official Video)  Gorillaz  211754952.0   \n",
       "4         Gorillaz - Clint Eastwood (Official Video)  Gorillaz  618480958.0   \n",
       "\n",
       "       Likes  Comments                                        Description  \\\n",
       "0  6220896.0  169907.0  Official HD Video for Gorillaz' fantastic trac...   \n",
       "1  1079128.0   31003.0  The official video for Gorillaz - Rhinestone E...   \n",
       "2   282142.0    7399.0  Gorillaz - New Gold ft. Tame Impala & Bootie B...   \n",
       "3  1788577.0   55229.0  Follow Gorillaz online:\\nhttp://gorillaz.com \\...   \n",
       "4  6197318.0  155930.0  The official music video for Gorillaz - Clint ...   \n",
       "\n",
       "   Licensed official_video        Stream  \n",
       "0      True           True  1.040235e+09  \n",
       "1      True           True  3.100837e+08  \n",
       "2      True           True  6.306347e+07  \n",
       "3      True           True  4.346636e+08  \n",
       "4      True           True  6.172597e+08  \n",
       "\n",
       "[5 rows x 28 columns]"
      ]
     },
     "execution_count": 2,
     "metadata": {},
     "output_type": "execute_result"
    }
   ],
   "source": [
    "df = pd.read_csv('/kaggle/input/spotify-and-youtube/Spotify_Youtube.csv')\n",
    "df.head()"
   ]
  },
  {
   "cell_type": "markdown",
   "id": "de2dcf80",
   "metadata": {
    "papermill": {
     "duration": 0.020165,
     "end_time": "2023-07-10T09:59:26.479321",
     "exception": false,
     "start_time": "2023-07-10T09:59:26.459156",
     "status": "completed"
    },
    "tags": []
   },
   "source": [
    "## Comparing Streaming Numbers and YouTube Views: \n",
    "\n",
    "The project examines the relationship between the streaming numbers on Spotify and the viewership of official music videos on YouTube for individual songs. By comparing these metrics, insights can be gained into the popularity and consumption patterns of music across the two platforms.\n",
    "\n",
    "* **Null Hypothesis (H0):** There is no significant difference between the mean streaming numbers and mean YouTube views for songs in the dataset.\n",
    "* **Alternative Hypothesis (H1):** There is a significant difference between the mean streaming numbers and mean YouTube views for songs in the dataset."
   ]
  },
  {
   "cell_type": "code",
   "execution_count": 3,
   "id": "c073091c",
   "metadata": {
    "execution": {
     "iopub.execute_input": "2023-07-10T09:59:26.522713Z",
     "iopub.status.busy": "2023-07-10T09:59:26.521830Z",
     "iopub.status.idle": "2023-07-10T09:59:26.526054Z",
     "shell.execute_reply": "2023-07-10T09:59:26.525459Z"
    },
    "executionCancelledAt": null,
    "executionTime": 48,
    "lastExecutedAt": 1688819996801,
    "lastScheduledRunId": null,
    "lastSuccessfullyExecutedCode": "spotify_streaming = df['Stream']\nyoutube_views = df['Views']",
    "papermill": {
     "duration": 0.02794,
     "end_time": "2023-07-10T09:59:26.527792",
     "exception": false,
     "start_time": "2023-07-10T09:59:26.499852",
     "status": "completed"
    },
    "tags": []
   },
   "outputs": [],
   "source": [
    "spotify_streaming = df['Stream']\n",
    "youtube_views = df['Views']"
   ]
  },
  {
   "cell_type": "markdown",
   "id": "b1667db0",
   "metadata": {
    "papermill": {
     "duration": 0.020226,
     "end_time": "2023-07-10T09:59:26.568673",
     "exception": false,
     "start_time": "2023-07-10T09:59:26.548447",
     "status": "completed"
    },
    "tags": []
   },
   "source": [
    "To compare the streaming numbers and YouTube views, the code line `spotify_streaming = df['Stream']` and `youtube_views = df['Views']` is used.\n",
    "\n",
    "These assignments allow us to access and work with the streaming numbers and YouTube views as separate variables, enabling us to explore their relationships, calculate statistics, and create visualizations to gain insights into the popularity and consumption patterns of songs across the Spotify and YouTube platforms."
   ]
  },
  {
   "cell_type": "code",
   "execution_count": 4,
   "id": "2a45d40e",
   "metadata": {
    "execution": {
     "iopub.execute_input": "2023-07-10T09:59:26.610423Z",
     "iopub.status.busy": "2023-07-10T09:59:26.610008Z",
     "iopub.status.idle": "2023-07-10T09:59:26.617961Z",
     "shell.execute_reply": "2023-07-10T09:59:26.617252Z"
    },
    "executionCancelledAt": null,
    "executionTime": 56,
    "lastExecutedAt": 1688819996857,
    "lastScheduledRunId": null,
    "lastSuccessfullyExecutedCode": "youtube_views\nspotify_streaming",
    "papermill": {
     "duration": 0.030624,
     "end_time": "2023-07-10T09:59:26.619718",
     "exception": false,
     "start_time": "2023-07-10T09:59:26.589094",
     "status": "completed"
    },
    "tags": []
   },
   "outputs": [
    {
     "data": {
      "text/plain": [
       "0    1.040235e+09\n",
       "1    3.100837e+08\n",
       "2    6.306347e+07\n",
       "3    4.346636e+08\n",
       "4    6.172597e+08\n",
       "Name: Stream, dtype: float64"
      ]
     },
     "execution_count": 4,
     "metadata": {},
     "output_type": "execute_result"
    }
   ],
   "source": [
    "youtube_views.head()\n",
    "spotify_streaming.head()"
   ]
  },
  {
   "cell_type": "markdown",
   "id": "8ff15810",
   "metadata": {
    "papermill": {
     "duration": 0.020337,
     "end_time": "2023-07-10T09:59:26.660921",
     "exception": false,
     "start_time": "2023-07-10T09:59:26.640584",
     "status": "completed"
    },
    "tags": []
   },
   "source": [
    "### Checking and Cleaning NaN Values\n",
    "\n",
    "To ensure data integrity and handle missing values, the following code lines are used to check for NaN values and perform data cleaning:"
   ]
  },
  {
   "cell_type": "code",
   "execution_count": 5,
   "id": "bc0d42a8",
   "metadata": {
    "execution": {
     "iopub.execute_input": "2023-07-10T09:59:26.706308Z",
     "iopub.status.busy": "2023-07-10T09:59:26.705583Z",
     "iopub.status.idle": "2023-07-10T09:59:26.713799Z",
     "shell.execute_reply": "2023-07-10T09:59:26.712417Z"
    },
    "executionCancelledAt": null,
    "executionTime": 49,
    "lastExecutedAt": 1688819996906,
    "lastScheduledRunId": null,
    "lastSuccessfullyExecutedCode": "# Check for NaN values in spotify_streaming\nspotify_has_nans = np.isnan(spotify_streaming).any()\nif spotify_has_nans:\n    print(\"spotify_streaming contains NaN values.\")\nelse:\n    print(\"spotify_streaming does not contain NaN values.\")\n\n# Check for NaN values in youtube_views\nyoutube_has_nans = np.isnan(youtube_views).any()\nif youtube_has_nans:\n    print(\"youtube_views contains NaN values.\")\nelse:\n    print(\"youtube_views does not contain NaN values.\")",
    "papermill": {
     "duration": 0.033805,
     "end_time": "2023-07-10T09:59:26.715806",
     "exception": false,
     "start_time": "2023-07-10T09:59:26.682001",
     "status": "completed"
    },
    "tags": []
   },
   "outputs": [
    {
     "name": "stdout",
     "output_type": "stream",
     "text": [
      "spotify_streaming contains NaN values.\n",
      "youtube_views contains NaN values.\n"
     ]
    }
   ],
   "source": [
    "# Check for NaN values in spotify_streaming\n",
    "spotify_has_nans = np.isnan(spotify_streaming).any()\n",
    "if spotify_has_nans:\n",
    "    print(\"spotify_streaming contains NaN values.\")\n",
    "else:\n",
    "    print(\"spotify_streaming does not contain NaN values.\")\n",
    "\n",
    "# Check for NaN values in youtube_views\n",
    "youtube_has_nans = np.isnan(youtube_views).any()\n",
    "if youtube_has_nans:\n",
    "    print(\"youtube_views contains NaN values.\")\n",
    "else:\n",
    "    print(\"youtube_views does not contain NaN values.\")"
   ]
  },
  {
   "cell_type": "markdown",
   "id": "7ba8fd8b",
   "metadata": {
    "papermill": {
     "duration": 0.021005,
     "end_time": "2023-07-10T09:59:26.758537",
     "exception": false,
     "start_time": "2023-07-10T09:59:26.737532",
     "status": "completed"
    },
    "tags": []
   },
   "source": [
    "##### Filling NaN values with zero:\n",
    "This code line uses the fillna() method to replace any NaN values in spotify_streaming and youtube_views with zeros (0). This data cleaning step ensures consistency in the dataset and prevents any potential issues or errors in further analysis. This data cleaning method will be applied to the rest of the categories:"
   ]
  },
  {
   "cell_type": "code",
   "execution_count": 6,
   "id": "e9141ca9",
   "metadata": {
    "execution": {
     "iopub.execute_input": "2023-07-10T09:59:26.802174Z",
     "iopub.status.busy": "2023-07-10T09:59:26.801801Z",
     "iopub.status.idle": "2023-07-10T09:59:26.808829Z",
     "shell.execute_reply": "2023-07-10T09:59:26.808116Z"
    },
    "executionCancelledAt": null,
    "executionTime": 47,
    "lastExecutedAt": 1688819996953,
    "lastScheduledRunId": null,
    "lastSuccessfullyExecutedCode": "# Fill NaN values with zero\nspotify_streaming = spotify_streaming.fillna(0)\nyoutube_views = youtube_views.fillna(0)\n",
    "papermill": {
     "duration": 0.030955,
     "end_time": "2023-07-10T09:59:26.810739",
     "exception": false,
     "start_time": "2023-07-10T09:59:26.779784",
     "status": "completed"
    },
    "tags": []
   },
   "outputs": [],
   "source": [
    "# Fill NaN values with zero\n",
    "spotify_streaming = spotify_streaming.fillna(0)\n",
    "youtube_views = youtube_views.fillna(0)\n"
   ]
  },
  {
   "cell_type": "code",
   "execution_count": 7,
   "id": "f5154443",
   "metadata": {
    "execution": {
     "iopub.execute_input": "2023-07-10T09:59:26.854873Z",
     "iopub.status.busy": "2023-07-10T09:59:26.854283Z",
     "iopub.status.idle": "2023-07-10T09:59:26.858733Z",
     "shell.execute_reply": "2023-07-10T09:59:26.858052Z"
    },
    "executionCancelledAt": null,
    "executionTime": 51,
    "lastExecutedAt": 1688819997005,
    "lastScheduledRunId": null,
    "lastSuccessfullyExecutedCode": "# Step 6: Perform statistical analysis using the Central Limit Theorem\n\n# Set the number of iterations and the sample size for each iteration\nnum_iterations = 1000\nsample_size = 30",
    "papermill": {
     "duration": 0.028669,
     "end_time": "2023-07-10T09:59:26.860668",
     "exception": false,
     "start_time": "2023-07-10T09:59:26.831999",
     "status": "completed"
    },
    "tags": []
   },
   "outputs": [],
   "source": [
    "# Perform statistical analysis using the Central Limit Theorem\n",
    "\n",
    "# Set the number of iterations and the sample size for each iteration\n",
    "num_iterations = 1000\n",
    "sample_size = 30"
   ]
  },
  {
   "cell_type": "code",
   "execution_count": 8,
   "id": "2af99d08",
   "metadata": {
    "execution": {
     "iopub.execute_input": "2023-07-10T09:59:26.903907Z",
     "iopub.status.busy": "2023-07-10T09:59:26.903302Z",
     "iopub.status.idle": "2023-07-10T09:59:26.907846Z",
     "shell.execute_reply": "2023-07-10T09:59:26.907169Z"
    },
    "executionCancelledAt": null,
    "executionTime": 47,
    "lastExecutedAt": 1688819997053,
    "lastScheduledRunId": null,
    "lastSuccessfullyExecutedCode": "# Create an array to store the sample means\nsample_means = np.zeros(num_iterations)",
    "papermill": {
     "duration": 0.0288,
     "end_time": "2023-07-10T09:59:26.909702",
     "exception": false,
     "start_time": "2023-07-10T09:59:26.880902",
     "status": "completed"
    },
    "tags": []
   },
   "outputs": [],
   "source": [
    "# Create an array to store the sample means\n",
    "sample_means = np.zeros(num_iterations)"
   ]
  },
  {
   "cell_type": "code",
   "execution_count": 9,
   "id": "39ee4d32",
   "metadata": {
    "execution": {
     "iopub.execute_input": "2023-07-10T09:59:26.955606Z",
     "iopub.status.busy": "2023-07-10T09:59:26.954718Z",
     "iopub.status.idle": "2023-07-10T09:59:27.070497Z",
     "shell.execute_reply": "2023-07-10T09:59:27.069608Z"
    },
    "executionCancelledAt": null,
    "executionTime": 111,
    "lastExecutedAt": 1688819997165,
    "lastScheduledRunId": null,
    "lastSuccessfullyExecutedCode": "# Iterate through the specified number of iterations\nfor i in range(num_iterations):\n    # Randomly sample from Spotify streaming and calculate the sample mean\n    spotify_sample = np.random.choice(spotify_streaming, size=sample_size, replace=True)\n    spotify_sample_mean = np.mean(spotify_sample)\n\n    # Randomly sample from YouTube views and calculate the sample mean\n    youtube_sample = np.random.choice(youtube_views, size=sample_size, replace=True)\n    youtube_sample_mean = np.mean(youtube_sample)\n\n    # Calculate the difference in sample means\n    sample_means[i] = spotify_sample_mean - youtube_sample_mean",
    "papermill": {
     "duration": 0.140714,
     "end_time": "2023-07-10T09:59:27.072719",
     "exception": false,
     "start_time": "2023-07-10T09:59:26.932005",
     "status": "completed"
    },
    "tags": []
   },
   "outputs": [],
   "source": [
    "# Iterate through the specified number of iterations\n",
    "for i in range(num_iterations):\n",
    "    # Randomly sample from Spotify streaming and calculate the sample mean\n",
    "    spotify_sample = np.random.choice(spotify_streaming, size=sample_size, replace=True)\n",
    "    spotify_sample_mean = np.mean(spotify_sample)\n",
    "\n",
    "    # Randomly sample from YouTube views and calculate the sample mean\n",
    "    youtube_sample = np.random.choice(youtube_views, size=sample_size, replace=True)\n",
    "    youtube_sample_mean = np.mean(youtube_sample)\n",
    "\n",
    "    # Calculate the difference in sample means\n",
    "    sample_means[i] = spotify_sample_mean - youtube_sample_mean"
   ]
  },
  {
   "cell_type": "code",
   "execution_count": 10,
   "id": "a99c3e51",
   "metadata": {
    "execution": {
     "iopub.execute_input": "2023-07-10T09:59:27.116915Z",
     "iopub.status.busy": "2023-07-10T09:59:27.116177Z",
     "iopub.status.idle": "2023-07-10T09:59:27.125390Z",
     "shell.execute_reply": "2023-07-10T09:59:27.124347Z"
    },
    "executionCancelledAt": null,
    "executionTime": 48,
    "lastExecutedAt": 1688819997213,
    "lastScheduledRunId": null,
    "lastSuccessfullyExecutedCode": "# Perform statistical test on the original data\nt_stat, p_value = ttest_ind(spotify_streaming, youtube_views)\nt_stat, p_value",
    "papermill": {
     "duration": 0.033168,
     "end_time": "2023-07-10T09:59:27.127407",
     "exception": false,
     "start_time": "2023-07-10T09:59:27.094239",
     "status": "completed"
    },
    "tags": []
   },
   "outputs": [
    {
     "data": {
      "text/plain": [
       "(15.966448914758043, 3.244680051127646e-57)"
      ]
     },
     "execution_count": 10,
     "metadata": {},
     "output_type": "execute_result"
    }
   ],
   "source": [
    "# Perform statistical test on the original data\n",
    "t_stat, p_value = ttest_ind(spotify_streaming, youtube_views)\n",
    "t_stat, p_value"
   ]
  },
  {
   "cell_type": "code",
   "execution_count": 11,
   "id": "d137c89f",
   "metadata": {
    "execution": {
     "iopub.execute_input": "2023-07-10T09:59:27.171648Z",
     "iopub.status.busy": "2023-07-10T09:59:27.171311Z",
     "iopub.status.idle": "2023-07-10T09:59:27.569390Z",
     "shell.execute_reply": "2023-07-10T09:59:27.568316Z"
    },
    "papermill": {
     "duration": 0.423325,
     "end_time": "2023-07-10T09:59:27.572031",
     "exception": false,
     "start_time": "2023-07-10T09:59:27.148706",
     "status": "completed"
    },
    "tags": []
   },
   "outputs": [
    {
     "data": {
      "image/png": "[encoded data removed]",
      "text/plain": [
       "<Figure size 640x480 with 1 Axes>"
      ]
     },
     "metadata": {},
     "output_type": "display_data"
    }
   ],
   "source": [
    "# Plot a histogram of the sampling distribution\n",
    "plt.hist(sample_means, bins=30, alpha=0.5, edgecolor='black')\n",
    "plt.xlabel('Difference in Sample Means')\n",
    "plt.ylabel('Frequency')\n",
    "plt.title('Sampling Distribution of Difference in Sample Means')\n",
    "plt.grid(True)\n",
    "\n",
    "# Add a vertical line to represent the observed difference in sample means\n",
    "observed_diff = np.mean(spotify_streaming) - np.mean(youtube_views)\n",
    "plt.axvline(x=observed_diff, color='red', linestyle='--', label='Observed Difference')\n",
    "plt.legend()\n",
    "\n",
    "plt.show()"
   ]
  },
  {
   "cell_type": "code",
   "execution_count": 12,
   "id": "7cb360d0",
   "metadata": {
    "execution": {
     "iopub.execute_input": "2023-07-10T09:59:27.616337Z",
     "iopub.status.busy": "2023-07-10T09:59:27.615957Z",
     "iopub.status.idle": "2023-07-10T09:59:27.621002Z",
     "shell.execute_reply": "2023-07-10T09:59:27.620220Z"
    },
    "executionCancelledAt": null,
    "executionTime": 50,
    "lastExecutedAt": 1688819997263,
    "lastScheduledRunId": null,
    "lastSuccessfullyExecutedCode": "# Step 7: Interpret the results\nalpha = 0.05  # Significance level\nif p_value < alpha:\n    print(\"There is a significant difference between Spotify streaming and YouTube views.\")\nelse:\n    print(\"There is no significant difference between Spotify streaming and YouTube views.\")\n",
    "papermill": {
     "duration": 0.029901,
     "end_time": "2023-07-10T09:59:27.623246",
     "exception": false,
     "start_time": "2023-07-10T09:59:27.593345",
     "status": "completed"
    },
    "tags": []
   },
   "outputs": [
    {
     "name": "stdout",
     "output_type": "stream",
     "text": [
      "There is a significant difference between Spotify streaming and YouTube views.\n"
     ]
    }
   ],
   "source": [
    "# Interpret the results\n",
    "alpha = 0.05  # Significance level\n",
    "if p_value < alpha:\n",
    "    print(\"There is a significant difference between Spotify streaming and YouTube views.\")\n",
    "else:\n",
    "    print(\"There is no significant difference between Spotify streaming and YouTube views.\")\n"
   ]
  },
  {
   "cell_type": "code",
   "execution_count": 13,
   "id": "feaaf5a3",
   "metadata": {
    "execution": {
     "iopub.execute_input": "2023-07-10T09:59:27.667796Z",
     "iopub.status.busy": "2023-07-10T09:59:27.666848Z",
     "iopub.status.idle": "2023-07-10T09:59:27.673432Z",
     "shell.execute_reply": "2023-07-10T09:59:27.672632Z"
    },
    "executionCancelledAt": null,
    "executionTime": 50,
    "lastExecutedAt": 1688819997313,
    "lastScheduledRunId": null,
    "lastSuccessfullyExecutedCode": "# Additional analysis\nspotify_mean = np.mean(spotify_streaming)\nyoutube_mean = np.mean(youtube_views)\nprint(\"Mean Spotify streaming:\", spotify_mean)\nprint(\"Mean YouTube views:\", youtube_mean)\n",
    "papermill": {
     "duration": 0.030369,
     "end_time": "2023-07-10T09:59:27.675351",
     "exception": false,
     "start_time": "2023-07-10T09:59:27.644982",
     "status": "completed"
    },
    "tags": []
   },
   "outputs": [
    {
     "name": "stdout",
     "output_type": "stream",
     "text": [
      "Mean Spotify streaming: 132162737.65295878\n",
      "Mean YouTube views: 91806786.48069312\n"
     ]
    }
   ],
   "source": [
    "# Additional analysis\n",
    "spotify_mean = np.mean(spotify_streaming)\n",
    "youtube_mean = np.mean(youtube_views)\n",
    "print(\"Mean Spotify streaming:\", spotify_mean)\n",
    "print(\"Mean YouTube views:\", youtube_mean)\n"
   ]
  },
  {
   "cell_type": "code",
   "execution_count": 14,
   "id": "443f49fb",
   "metadata": {
    "execution": {
     "iopub.execute_input": "2023-07-10T09:59:27.722618Z",
     "iopub.status.busy": "2023-07-10T09:59:27.721966Z",
     "iopub.status.idle": "2023-07-10T09:59:27.729042Z",
     "shell.execute_reply": "2023-07-10T09:59:27.728216Z"
    },
    "executionCancelledAt": null,
    "executionTime": 49,
    "lastExecutedAt": 1688819997362,
    "lastScheduledRunId": null,
    "lastSuccessfullyExecutedCode": "# Step 8: Calculate the mean and standard deviation of the sampling distribution\nsampling_mean = np.mean(sample_means)\nsampling_std = np.std(sample_means)\nsampling_mean, sampling_std",
    "papermill": {
     "duration": 0.033383,
     "end_time": "2023-07-10T09:59:27.730932",
     "exception": false,
     "start_time": "2023-07-10T09:59:27.697549",
     "status": "completed"
    },
    "tags": []
   },
   "outputs": [
    {
     "data": {
      "text/plain": [
       "(37608557.919866666, 62208331.59808229)"
      ]
     },
     "execution_count": 14,
     "metadata": {},
     "output_type": "execute_result"
    }
   ],
   "source": [
    "# Calculate the mean and standard deviation of the sampling distribution\n",
    "sampling_mean = np.mean(sample_means)\n",
    "sampling_std = np.std(sample_means)\n",
    "sampling_mean, sampling_std"
   ]
  },
  {
   "cell_type": "code",
   "execution_count": 15,
   "id": "e5cd37ab",
   "metadata": {
    "execution": {
     "iopub.execute_input": "2023-07-10T09:59:27.777377Z",
     "iopub.status.busy": "2023-07-10T09:59:27.776667Z",
     "iopub.status.idle": "2023-07-10T09:59:27.784539Z",
     "shell.execute_reply": "2023-07-10T09:59:27.783662Z"
    },
    "executionCancelledAt": null,
    "executionTime": 48,
    "lastExecutedAt": 1688819997410,
    "lastScheduledRunId": null,
    "lastSuccessfullyExecutedCode": "# Step 9: Hypothesis testing on the sampling distribution\nfrom scipy.stats import ttest_1samp\n\nhypothesized_mean_diff = 0  # hypothesized difference in means (null hypothesis)\nt_stat_sampling, p_value_sampling = ttest_1samp(sample_means, hypothesized_mean_diff)\nt_stat_sampling, p_value_sampling",
    "papermill": {
     "duration": 0.033285,
     "end_time": "2023-07-10T09:59:27.786569",
     "exception": false,
     "start_time": "2023-07-10T09:59:27.753284",
     "status": "completed"
    },
    "tags": []
   },
   "outputs": [
    {
     "data": {
      "text/plain": [
       "(19.108248085536385, 1.2893092486066508e-69)"
      ]
     },
     "execution_count": 15,
     "metadata": {},
     "output_type": "execute_result"
    }
   ],
   "source": [
    "# Hypothesis testing on the sampling distribution\n",
    "\n",
    "hypothesized_mean_diff = 0  # hypothesized difference in means (null hypothesis)\n",
    "t_stat_sampling, p_value_sampling = ttest_1samp(sample_means, hypothesized_mean_diff)\n",
    "t_stat_sampling, p_value_sampling"
   ]
  },
  {
   "cell_type": "code",
   "execution_count": 16,
   "id": "fa7cb680",
   "metadata": {
    "execution": {
     "iopub.execute_input": "2023-07-10T09:59:27.832284Z",
     "iopub.status.busy": "2023-07-10T09:59:27.831693Z",
     "iopub.status.idle": "2023-07-10T09:59:27.837919Z",
     "shell.execute_reply": "2023-07-10T09:59:27.836902Z"
    },
    "executionCancelledAt": null,
    "executionTime": 47,
    "lastExecutedAt": 1688819997457,
    "lastScheduledRunId": null,
    "lastSuccessfullyExecutedCode": "# Step 10: Interpret the results of hypothesis testing\nif p_value_sampling < alpha:\n    print(\"There is a significant difference between Spotify streaming and YouTube views based on the sampling distribution.\")\nelse:\n    print(\"There is no significant difference between Spotify streaming and YouTube views based on the sampling distribution.\")\n\nprint(\"Sampling Mean:\", sampling_mean)\nprint(\"Sampling Standard Deviation:\", sampling_std)",
    "papermill": {
     "duration": 0.031932,
     "end_time": "2023-07-10T09:59:27.840346",
     "exception": false,
     "start_time": "2023-07-10T09:59:27.808414",
     "status": "completed"
    },
    "tags": []
   },
   "outputs": [
    {
     "name": "stdout",
     "output_type": "stream",
     "text": [
      "There is a significant difference between Spotify streaming and YouTube views based on the sampling distribution.\n",
      "Sampling Mean: 37608557.919866666\n",
      "Sampling Standard Deviation: 62208331.59808229\n"
     ]
    }
   ],
   "source": [
    "# Interpret the results of hypothesis testing\n",
    "if p_value_sampling < alpha:\n",
    "    print(\"There is a significant difference between Spotify streaming and YouTube views based on the sampling distribution.\")\n",
    "else:\n",
    "    print(\"There is no significant difference between Spotify streaming and YouTube views based on the sampling distribution.\")\n",
    "\n",
    "print(\"Sampling Mean:\", sampling_mean)\n",
    "print(\"Sampling Standard Deviation:\", sampling_std)"
   ]
  },
  {
   "cell_type": "code",
   "execution_count": 17,
   "id": "07b118b5",
   "metadata": {
    "execution": {
     "iopub.execute_input": "2023-07-10T09:59:27.885501Z",
     "iopub.status.busy": "2023-07-10T09:59:27.885125Z",
     "iopub.status.idle": "2023-07-10T09:59:28.130533Z",
     "shell.execute_reply": "2023-07-10T09:59:28.129121Z"
    },
    "executionCancelledAt": null,
    "executionTime": 180,
    "lastExecutedAt": 1688819997637,
    "lastScheduledRunId": null,
    "lastSuccessfullyExecutedCode": "# Step 11: Create a bar chart to display the results of Step 7\nlabels = ['Spotify Streaming', 'YouTube Views']\nvalues = [spotify_mean, youtube_mean]\n\nplt.bar(labels, values)\nplt.xlabel('Platforms')\nplt.ylabel('Avg')\nplt.title('Comparison of Avg Streaming/Viewing')\nplt.show()",
    "papermill": {
     "duration": 0.27101,
     "end_time": "2023-07-10T09:59:28.132697",
     "exception": false,
     "start_time": "2023-07-10T09:59:27.861687",
     "status": "completed"
    },
    "tags": []
   },
   "outputs": [
    {
     "data": {
      "image/png": "[encoded data removed]",
      "text/plain": [
       "<Figure size 640x480 with 1 Axes>"
      ]
     },
     "metadata": {},
     "output_type": "display_data"
    }
   ],
   "source": [
    "# Create a bar chart to display the results \n",
    "labels = ['Spotify Streaming', 'YouTube Views']\n",
    "values = [spotify_mean, youtube_mean]\n",
    "\n",
    "plt.bar(labels, values)\n",
    "plt.xlabel('Platforms')\n",
    "plt.ylabel('Avg')\n",
    "plt.title('Comparison of Avg Streaming/Viewing')\n",
    "plt.show()"
   ]
  },
  {
   "cell_type": "code",
   "execution_count": 18,
   "id": "c23b4861",
   "metadata": {
    "execution": {
     "iopub.execute_input": "2023-07-10T09:59:28.180526Z",
     "iopub.status.busy": "2023-07-10T09:59:28.179450Z",
     "iopub.status.idle": "2023-07-10T09:59:28.184492Z",
     "shell.execute_reply": "2023-07-10T09:59:28.183560Z"
    },
    "papermill": {
     "duration": 0.030818,
     "end_time": "2023-07-10T09:59:28.186606",
     "exception": false,
     "start_time": "2023-07-10T09:59:28.155788",
     "status": "completed"
    },
    "tags": []
   },
   "outputs": [],
   "source": [
    "# Apply Central Limit Theorem, but w/ Sample Sizing and Normal Distribution\n",
    "sample_size = 1000  # Define the sample size\n",
    "num_samples = 1000  # Define the number of samples"
   ]
  },
  {
   "cell_type": "code",
   "execution_count": 19,
   "id": "58cf5b03",
   "metadata": {
    "execution": {
     "iopub.execute_input": "2023-07-10T09:59:28.233813Z",
     "iopub.status.busy": "2023-07-10T09:59:28.233445Z",
     "iopub.status.idle": "2023-07-10T09:59:28.284106Z",
     "shell.execute_reply": "2023-07-10T09:59:28.283140Z"
    },
    "papermill": {
     "duration": 0.077144,
     "end_time": "2023-07-10T09:59:28.286501",
     "exception": false,
     "start_time": "2023-07-10T09:59:28.209357",
     "status": "completed"
    },
    "tags": []
   },
   "outputs": [],
   "source": [
    "# Generate random samples for streaming numbers and YouTube views\n",
    "streaming_samples = np.random.choice(df['Stream'].dropna(), size=(num_samples, sample_size))\n",
    "youtube_samples = np.random.choice(df['Views'].dropna(), size=(num_samples, sample_size))"
   ]
  },
  {
   "cell_type": "code",
   "execution_count": 20,
   "id": "bb18d7fc",
   "metadata": {
    "execution": {
     "iopub.execute_input": "2023-07-10T09:59:28.333344Z",
     "iopub.status.busy": "2023-07-10T09:59:28.332948Z",
     "iopub.status.idle": "2023-07-10T09:59:28.347144Z",
     "shell.execute_reply": "2023-07-10T09:59:28.346228Z"
    },
    "papermill": {
     "duration": 0.040417,
     "end_time": "2023-07-10T09:59:28.349551",
     "exception": false,
     "start_time": "2023-07-10T09:59:28.309134",
     "status": "completed"
    },
    "tags": []
   },
   "outputs": [],
   "source": [
    "# Calculate the means and standard deviations of the samples\n",
    "sample_means_streaming = np.mean(streaming_samples, axis=1)\n",
    "sample_means_youtube = np.mean(youtube_samples, axis=1)\n",
    "sample_std_streaming = np.std(streaming_samples, axis=1, ddof=1)\n",
    "sample_std_youtube = np.std(youtube_samples, axis=1, ddof=1)"
   ]
  },
  {
   "cell_type": "code",
   "execution_count": 21,
   "id": "5b304fee",
   "metadata": {
    "execution": {
     "iopub.execute_input": "2023-07-10T09:59:28.398894Z",
     "iopub.status.busy": "2023-07-10T09:59:28.398167Z",
     "iopub.status.idle": "2023-07-10T09:59:28.404106Z",
     "shell.execute_reply": "2023-07-10T09:59:28.403231Z"
    },
    "papermill": {
     "duration": 0.032786,
     "end_time": "2023-07-10T09:59:28.406254",
     "exception": false,
     "start_time": "2023-07-10T09:59:28.373468",
     "status": "completed"
    },
    "tags": []
   },
   "outputs": [],
   "source": [
    "# Perform statistical analysis on sample means\n",
    "t_stat, p_value = ttest_rel(sample_means_streaming, sample_means)"
   ]
  },
  {
   "cell_type": "code",
   "execution_count": 22,
   "id": "72c05bbb",
   "metadata": {
    "execution": {
     "iopub.execute_input": "2023-07-10T09:59:28.456299Z",
     "iopub.status.busy": "2023-07-10T09:59:28.455935Z",
     "iopub.status.idle": "2023-07-10T09:59:29.328253Z",
     "shell.execute_reply": "2023-07-10T09:59:29.327579Z"
    },
    "papermill": {
     "duration": 0.903581,
     "end_time": "2023-07-10T09:59:29.333301",
     "exception": false,
     "start_time": "2023-07-10T09:59:28.429720",
     "status": "completed"
    },
    "tags": []
   },
   "outputs": [
    {
     "data": {
      "image/png": "[encoded data removed]",
      "text/plain": [
       "<Figure size 1000x600 with 2 Axes>"
      ]
     },
     "metadata": {},
     "output_type": "display_data"
    }
   ],
   "source": [
    "# Visualize the distributions of sample means\n",
    "plt.figure(figsize=(10, 6))\n",
    "\n",
    "# Plot the histogram of sample means for streaming numbers\n",
    "plt.subplot(1, 2, 1)\n",
    "plt.hist(sample_means_streaming, bins=30, alpha=0.5, density=True, color='blue')\n",
    "plt.xlabel('Streaming Numbers')\n",
    "plt.ylabel('Density')\n",
    "plt.title('Distribution of Sample Means for Streaming Numbers')\n",
    "plt.grid(True)\n",
    "\n",
    "# Plot the theoretical normal distribution for streaming numbers\n",
    "x = np.linspace(np.min(sample_means_streaming), np.max(sample_means_streaming), 100)\n",
    "pdf_streaming = norm.pdf(x, loc=np.mean(sample_means_streaming), scale=np.std(sample_means_streaming, ddof=1))\n",
    "plt.plot(x, pdf_streaming, color='red', label='Normal Distribution')\n",
    "plt.legend()\n",
    "\n",
    "# Plot the histogram of sample means for YouTube views\n",
    "plt.subplot(1, 2, 2)\n",
    "plt.hist(sample_means_youtube, bins=30, alpha=0.5, density=True, color='green')\n",
    "plt.xlabel('YouTube Views')\n",
    "plt.ylabel('Density')\n",
    "plt.title('Distribution of Sample Means for YouTube Views')\n",
    "plt.grid(True)\n",
    "\n",
    "# Plot the theoretical normal distribution for YouTube views\n",
    "pdf_youtube = norm.pdf(x, loc=np.mean(sample_means_youtube), scale=np.std(sample_means_youtube, ddof=1))\n",
    "plt.plot(x, pdf_youtube, color='red', label='Normal Distribution')\n",
    "plt.legend()\n",
    "\n",
    "plt.tight_layout()\n",
    "plt.show()"
   ]
  },
  {
   "cell_type": "markdown",
   "id": "34a525ce",
   "metadata": {
    "papermill": {
     "duration": 0.024561,
     "end_time": "2023-07-10T09:59:29.385401",
     "exception": false,
     "start_time": "2023-07-10T09:59:29.360840",
     "status": "completed"
    },
    "tags": []
   },
   "source": [
    "## Comparing Numbers on Albums and Singles:\n",
    "\n",
    "The analysis delves into the differences in streaming numbers and YouTube viewership between albums and singles. This comparison allows for an understanding of the varying preferences and consumption patterns of listeners and viewers for different types of music releases.\n",
    "\n",
    "* **Null Hypothesis (H0):** There is no significant difference between the mean streaming numbers of songs categorized as albums and mean streaming numbers of songs categorized as singles.\n",
    "* **Alternative Hypothesis (H1):** There is a significant difference between the mean streaming numbers of songs categorized as albums and mean streaming numbers of songs categorized as singles."
   ]
  },
  {
   "cell_type": "code",
   "execution_count": 23,
   "id": "5b71b1d9",
   "metadata": {
    "execution": {
     "iopub.execute_input": "2023-07-10T09:59:29.432990Z",
     "iopub.status.busy": "2023-07-10T09:59:29.431894Z",
     "iopub.status.idle": "2023-07-10T09:59:29.452495Z",
     "shell.execute_reply": "2023-07-10T09:59:29.451617Z"
    },
    "executionCancelledAt": null,
    "executionTime": 47,
    "lastExecutedAt": 1688819997685,
    "lastScheduledRunId": null,
    "lastSuccessfullyExecutedCode": "# Filter the data for albums and singles\nalbums = df[df['Album_type'] == 'album']\nsingles = df[df['Album_type'] == 'single']",
    "papermill": {
     "duration": 0.047099,
     "end_time": "2023-07-10T09:59:29.454701",
     "exception": false,
     "start_time": "2023-07-10T09:59:29.407602",
     "status": "completed"
    },
    "tags": []
   },
   "outputs": [],
   "source": [
    "# Filter the data for albums and singles\n",
    "albums = df[df['Album_type'] == 'album']\n",
    "singles = df[df['Album_type'] == 'single']"
   ]
  },
  {
   "cell_type": "code",
   "execution_count": 24,
   "id": "211e912a",
   "metadata": {
    "execution": {
     "iopub.execute_input": "2023-07-10T09:59:29.502837Z",
     "iopub.status.busy": "2023-07-10T09:59:29.501823Z",
     "iopub.status.idle": "2023-07-10T09:59:29.506360Z",
     "shell.execute_reply": "2023-07-10T09:59:29.505633Z"
    },
    "executionCancelledAt": null,
    "executionTime": 51,
    "lastExecutedAt": 1688819997737,
    "lastScheduledRunId": null,
    "lastSuccessfullyExecutedCode": "# Extract the streaming numbers for albums and singles\nalbum_streaming = albums['Stream']\nsingle_streaming = singles['Stream']",
    "papermill": {
     "duration": 0.030659,
     "end_time": "2023-07-10T09:59:29.508269",
     "exception": false,
     "start_time": "2023-07-10T09:59:29.477610",
     "status": "completed"
    },
    "tags": []
   },
   "outputs": [],
   "source": [
    "# Extract the streaming numbers for albums and singles\n",
    "album_streaming = albums['Stream']\n",
    "single_streaming = singles['Stream']"
   ]
  },
  {
   "cell_type": "code",
   "execution_count": 25,
   "id": "52918262",
   "metadata": {
    "execution": {
     "iopub.execute_input": "2023-07-10T09:59:29.556883Z",
     "iopub.status.busy": "2023-07-10T09:59:29.555930Z",
     "iopub.status.idle": "2023-07-10T09:59:29.560327Z",
     "shell.execute_reply": "2023-07-10T09:59:29.559599Z"
    },
    "executionCancelledAt": null,
    "executionTime": 47,
    "lastExecutedAt": 1688819997785,
    "lastScheduledRunId": null,
    "lastSuccessfullyExecutedCode": "# Extract the viewership numbers for albums and singles on YouTube\nalbum_views = albums['Views']\nsingle_views = singles['Views']\n",
    "papermill": {
     "duration": 0.030572,
     "end_time": "2023-07-10T09:59:29.562174",
     "exception": false,
     "start_time": "2023-07-10T09:59:29.531602",
     "status": "completed"
    },
    "tags": []
   },
   "outputs": [],
   "source": [
    "# Extract the viewership numbers for albums and singles on YouTube\n",
    "album_views = albums['Views']\n",
    "single_views = singles['Views']\n"
   ]
  },
  {
   "cell_type": "code",
   "execution_count": 26,
   "id": "17a2c9b9",
   "metadata": {
    "execution": {
     "iopub.execute_input": "2023-07-10T09:59:29.609987Z",
     "iopub.status.busy": "2023-07-10T09:59:29.609198Z",
     "iopub.status.idle": "2023-07-10T09:59:29.619350Z",
     "shell.execute_reply": "2023-07-10T09:59:29.618248Z"
    },
    "executionCancelledAt": null,
    "executionTime": 52,
    "lastExecutedAt": 1688819997838,
    "lastScheduledRunId": null,
    "lastSuccessfullyExecutedCode": "# Check for NaN values in album_streaming\nalbum_streaming_has_nans = np.isnan(album_streaming).any()\nif album_streaming_has_nans:\n    print(\"album_streaming contains NaN values.\")\nelse:\n    print(\"album_streaming does not contain NaN values.\")\n\n# Check for NaN values in single_streaming\nsingle_streaming_has_nans = np.isnan(single_streaming).any()\nif single_streaming_has_nans:\n    print(\"single_streaming contains NaN values.\")\nelse:\n    print(\"single_streaming does not contain NaN values.\")\n\n# Check for NaN values in album_views\nalbum_views_has_nans = np.isnan(album_views).any()\nif album_views_has_nans:\n    print(\"album_views contains NaN values.\")\nelse:\n    print(\"album_views does not contain NaN values.\")\n\n# Check for NaN values in single_views\nsingle_views_has_nans = np.isnan(single_views).any()\nif single_views_has_nans:\n    print(\"single_views contains NaN values.\")\nelse:\n    print(\"single_views does not contain NaN values.\")\n",
    "papermill": {
     "duration": 0.036043,
     "end_time": "2023-07-10T09:59:29.621341",
     "exception": false,
     "start_time": "2023-07-10T09:59:29.585298",
     "status": "completed"
    },
    "tags": []
   },
   "outputs": [
    {
     "name": "stdout",
     "output_type": "stream",
     "text": [
      "album_streaming contains NaN values.\n",
      "single_streaming contains NaN values.\n",
      "album_views contains NaN values.\n",
      "single_views contains NaN values.\n"
     ]
    }
   ],
   "source": [
    "# Check for NaN values in album_streaming\n",
    "album_streaming_has_nans = np.isnan(album_streaming).any()\n",
    "if album_streaming_has_nans:\n",
    "    print(\"album_streaming contains NaN values.\")\n",
    "else:\n",
    "    print(\"album_streaming does not contain NaN values.\")\n",
    "\n",
    "# Check for NaN values in single_streaming\n",
    "single_streaming_has_nans = np.isnan(single_streaming).any()\n",
    "if single_streaming_has_nans:\n",
    "    print(\"single_streaming contains NaN values.\")\n",
    "else:\n",
    "    print(\"single_streaming does not contain NaN values.\")\n",
    "\n",
    "# Check for NaN values in album_views\n",
    "album_views_has_nans = np.isnan(album_views).any()\n",
    "if album_views_has_nans:\n",
    "    print(\"album_views contains NaN values.\")\n",
    "else:\n",
    "    print(\"album_views does not contain NaN values.\")\n",
    "\n",
    "# Check for NaN values in single_views\n",
    "single_views_has_nans = np.isnan(single_views).any()\n",
    "if single_views_has_nans:\n",
    "    print(\"single_views contains NaN values.\")\n",
    "else:\n",
    "    print(\"single_views does not contain NaN values.\")\n"
   ]
  },
  {
   "cell_type": "code",
   "execution_count": 27,
   "id": "4af4120f",
   "metadata": {
    "execution": {
     "iopub.execute_input": "2023-07-10T09:59:29.668860Z",
     "iopub.status.busy": "2023-07-10T09:59:29.668169Z",
     "iopub.status.idle": "2023-07-10T09:59:29.675164Z",
     "shell.execute_reply": "2023-07-10T09:59:29.674141Z"
    },
    "executionCancelledAt": null,
    "executionTime": 47,
    "lastExecutedAt": 1688819997885,
    "lastScheduledRunId": null,
    "lastSuccessfullyExecutedCode": "# Fill NaN values with the mean of album_streaming, single_streaming, album_views, single_views\nalbum_streaming = album_streaming.fillna(0)\nsingle_streaming = single_streaming.fillna(0)\nalbum_views = album_views.fillna(0)\nsingle_views = single_views.fillna(0)\n",
    "papermill": {
     "duration": 0.032884,
     "end_time": "2023-07-10T09:59:29.677512",
     "exception": false,
     "start_time": "2023-07-10T09:59:29.644628",
     "status": "completed"
    },
    "tags": []
   },
   "outputs": [],
   "source": [
    "# Fill NaN values with the mean of album_streaming, single_streaming, album_views, single_views\n",
    "album_streaming = album_streaming.fillna(0)\n",
    "single_streaming = single_streaming.fillna(0)\n",
    "album_views = album_views.fillna(0)\n",
    "single_views = single_views.fillna(0)\n"
   ]
  },
  {
   "cell_type": "code",
   "execution_count": 28,
   "id": "e48a4872",
   "metadata": {
    "execution": {
     "iopub.execute_input": "2023-07-10T09:59:29.726341Z",
     "iopub.status.busy": "2023-07-10T09:59:29.725812Z",
     "iopub.status.idle": "2023-07-10T09:59:29.733594Z",
     "shell.execute_reply": "2023-07-10T09:59:29.732617Z"
    },
    "executionCancelledAt": null,
    "executionTime": 49,
    "lastExecutedAt": 1688819997934,
    "lastScheduledRunId": null,
    "lastSuccessfullyExecutedCode": "# Step 6: Perform statistical analysis\nt_stat_spotify, p_value_spotify = ttest_ind(album_streaming, single_streaming)\nt_stat_spotify, p_value_spotify",
    "papermill": {
     "duration": 0.034873,
     "end_time": "2023-07-10T09:59:29.735805",
     "exception": false,
     "start_time": "2023-07-10T09:59:29.700932",
     "status": "completed"
    },
    "tags": []
   },
   "outputs": [
    {
     "data": {
      "text/plain": [
       "(11.964357598084991, 7.079423605181845e-33)"
      ]
     },
     "execution_count": 28,
     "metadata": {},
     "output_type": "execute_result"
    }
   ],
   "source": [
    "# Perform statistical analysis\n",
    "t_stat_spotify, p_value_spotify = ttest_ind(album_streaming, single_streaming)\n",
    "t_stat_spotify, p_value_spotify"
   ]
  },
  {
   "cell_type": "code",
   "execution_count": 29,
   "id": "c42f3fc9",
   "metadata": {
    "execution": {
     "iopub.execute_input": "2023-07-10T09:59:29.783094Z",
     "iopub.status.busy": "2023-07-10T09:59:29.782713Z",
     "iopub.status.idle": "2023-07-10T09:59:29.788591Z",
     "shell.execute_reply": "2023-07-10T09:59:29.787220Z"
    },
    "executionCancelledAt": null,
    "executionTime": 48,
    "lastExecutedAt": 1688819997982,
    "lastScheduledRunId": null,
    "lastSuccessfullyExecutedCode": "# Step 7: Interpret the results for Spotify streaming\nalpha = 0.05  # Significance level\nif p_value_spotify < alpha:\n    print(\"There is a significant difference between album streaming and single streaming on Spotify.\")\nelse:\n    print(\"There is no significant difference between album streaming and single streaming on Spotify.\")",
    "papermill": {
     "duration": 0.031829,
     "end_time": "2023-07-10T09:59:29.790424",
     "exception": false,
     "start_time": "2023-07-10T09:59:29.758595",
     "status": "completed"
    },
    "tags": []
   },
   "outputs": [
    {
     "name": "stdout",
     "output_type": "stream",
     "text": [
      "There is a significant difference between album streaming and single streaming on Spotify.\n"
     ]
    }
   ],
   "source": [
    "# Interpret the results for Spotify streaming\n",
    "alpha = 0.05  # Significance level\n",
    "if p_value_spotify < alpha:\n",
    "    print(\"There is a significant difference between album streaming and single streaming on Spotify.\")\n",
    "else:\n",
    "    print(\"There is no significant difference between album streaming and single streaming on Spotify.\")"
   ]
  },
  {
   "cell_type": "code",
   "execution_count": 30,
   "id": "c09b1535",
   "metadata": {
    "execution": {
     "iopub.execute_input": "2023-07-10T09:59:29.838007Z",
     "iopub.status.busy": "2023-07-10T09:59:29.837647Z",
     "iopub.status.idle": "2023-07-10T09:59:29.843764Z",
     "shell.execute_reply": "2023-07-10T09:59:29.842708Z"
    },
    "executionCancelledAt": null,
    "executionTime": 47,
    "lastExecutedAt": 1688819998029,
    "lastScheduledRunId": null,
    "lastSuccessfullyExecutedCode": "# Additional analysis for Spotify streaming\nalbum_mean_spotify = np.mean(album_streaming)\nsingle_mean_spotify = np.mean(single_streaming)\nprint(\"Mean album streaming on Spotify:\", album_mean_spotify)\nprint(\"Mean single streaming on Spotify:\", single_mean_spotify)",
    "papermill": {
     "duration": 0.032602,
     "end_time": "2023-07-10T09:59:29.845544",
     "exception": false,
     "start_time": "2023-07-10T09:59:29.812942",
     "status": "completed"
    },
    "tags": []
   },
   "outputs": [
    {
     "name": "stdout",
     "output_type": "stream",
     "text": [
      "Mean album streaming on Spotify: 146280492.262361\n",
      "Mean single streaming on Spotify: 98541809.00519584\n"
     ]
    }
   ],
   "source": [
    "# Additional analysis for Spotify streaming\n",
    "album_mean_spotify = np.mean(album_streaming)\n",
    "single_mean_spotify = np.mean(single_streaming)\n",
    "print(\"Mean album streaming on Spotify:\", album_mean_spotify)\n",
    "print(\"Mean single streaming on Spotify:\", single_mean_spotify)"
   ]
  },
  {
   "cell_type": "code",
   "execution_count": 31,
   "id": "1e24621c",
   "metadata": {
    "execution": {
     "iopub.execute_input": "2023-07-10T09:59:29.891677Z",
     "iopub.status.busy": "2023-07-10T09:59:29.891379Z",
     "iopub.status.idle": "2023-07-10T09:59:29.897771Z",
     "shell.execute_reply": "2023-07-10T09:59:29.897147Z"
    },
    "executionCancelledAt": null,
    "executionTime": 53,
    "lastExecutedAt": 1688819998082,
    "lastScheduledRunId": null,
    "lastSuccessfullyExecutedCode": "# Step 6: Perform statistical analysis on YouTube views\nt_stat_youtube, p_value_youtube = ttest_ind(album_views, single_views)\nt_stat_youtube, p_value_youtube",
    "papermill": {
     "duration": 0.031488,
     "end_time": "2023-07-10T09:59:29.899501",
     "exception": false,
     "start_time": "2023-07-10T09:59:29.868013",
     "status": "completed"
    },
    "tags": []
   },
   "outputs": [
    {
     "data": {
      "text/plain": [
       "(3.597286946205988, 0.000322331767882382)"
      ]
     },
     "execution_count": 31,
     "metadata": {},
     "output_type": "execute_result"
    }
   ],
   "source": [
    "# Perform statistical analysis on YouTube views\n",
    "t_stat_youtube, p_value_youtube = ttest_ind(album_views, single_views)\n",
    "t_stat_youtube, p_value_youtube"
   ]
  },
  {
   "cell_type": "code",
   "execution_count": 32,
   "id": "7ffd4dca",
   "metadata": {
    "execution": {
     "iopub.execute_input": "2023-07-10T09:59:29.947670Z",
     "iopub.status.busy": "2023-07-10T09:59:29.947318Z",
     "iopub.status.idle": "2023-07-10T09:59:29.952847Z",
     "shell.execute_reply": "2023-07-10T09:59:29.951969Z"
    },
    "executionCancelledAt": null,
    "executionTime": 47,
    "lastExecutedAt": 1688819998129,
    "lastScheduledRunId": null,
    "lastSuccessfullyExecutedCode": "# Step 7: Interpret the results for YouTube views\nif p_value_youtube < alpha:\n    print(\"There is a significant difference between album views and single views on YouTube.\")\nelse:\n    print(\"There is no significant difference between album views and single views on YouTube.\")\n",
    "papermill": {
     "duration": 0.032183,
     "end_time": "2023-07-10T09:59:29.954717",
     "exception": false,
     "start_time": "2023-07-10T09:59:29.922534",
     "status": "completed"
    },
    "tags": []
   },
   "outputs": [
    {
     "name": "stdout",
     "output_type": "stream",
     "text": [
      "There is a significant difference between album views and single views on YouTube.\n"
     ]
    }
   ],
   "source": [
    "# Interpret the results for YouTube views\n",
    "if p_value_youtube < alpha:\n",
    "    print(\"There is a significant difference between album views and single views on YouTube.\")\n",
    "else:\n",
    "    print(\"There is no significant difference between album views and single views on YouTube.\")\n"
   ]
  },
  {
   "cell_type": "code",
   "execution_count": 33,
   "id": "fc126eab",
   "metadata": {
    "execution": {
     "iopub.execute_input": "2023-07-10T09:59:30.002888Z",
     "iopub.status.busy": "2023-07-10T09:59:30.002547Z",
     "iopub.status.idle": "2023-07-10T09:59:30.008153Z",
     "shell.execute_reply": "2023-07-10T09:59:30.007454Z"
    },
    "executionCancelledAt": null,
    "executionTime": 49,
    "lastExecutedAt": 1688819998178,
    "lastScheduledRunId": null,
    "lastSuccessfullyExecutedCode": "# Additional analysis for YouTube views\nalbum_mean_youtube = np.mean(album_views)\nsingle_mean_youtube = np.mean(single_views)\nprint(\"Mean album views on YouTube:\", album_mean_youtube)\nprint(\"Mean single views on YouTube:\", single_mean_youtube)",
    "papermill": {
     "duration": 0.032916,
     "end_time": "2023-07-10T09:59:30.010754",
     "exception": false,
     "start_time": "2023-07-10T09:59:29.977838",
     "status": "completed"
    },
    "tags": []
   },
   "outputs": [
    {
     "name": "stdout",
     "output_type": "stream",
     "text": [
      "Mean album views on YouTube: 96402925.03946134\n",
      "Mean single views on YouTube: 80319036.05295764\n"
     ]
    }
   ],
   "source": [
    "# Additional analysis for YouTube views\n",
    "album_mean_youtube = np.mean(album_views)\n",
    "single_mean_youtube = np.mean(single_views)\n",
    "print(\"Mean album views on YouTube:\", album_mean_youtube)\n",
    "print(\"Mean single views on YouTube:\", single_mean_youtube)"
   ]
  },
  {
   "cell_type": "code",
   "execution_count": 34,
   "id": "07fb2e6d",
   "metadata": {
    "execution": {
     "iopub.execute_input": "2023-07-10T09:59:30.060420Z",
     "iopub.status.busy": "2023-07-10T09:59:30.059999Z",
     "iopub.status.idle": "2023-07-10T09:59:30.680577Z",
     "shell.execute_reply": "2023-07-10T09:59:30.679241Z"
    },
    "executionCancelledAt": null,
    "executionTime": 300,
    "lastExecutedAt": 1688819998478,
    "lastScheduledRunId": null,
    "lastSuccessfullyExecutedCode": "# Calculate mean streaming numbers or views\nalbum_mean_streaming = album_streaming.mean()\nsingle_mean_streaming = single_streaming.mean()\nalbum_mean_views = album_views.mean()\nsingle_mean_views = single_views.mean()\n\n# Create a bar plot\ncategories = ['Albums', 'Singles']\nmean_values_streaming = [album_mean_streaming, single_mean_streaming]\nmean_values_views = [album_mean_views, single_mean_views]\n\nplt.subplot(1, 2, 1)\nplt.bar(categories, mean_values_streaming)\nplt.xlabel('Category')\nplt.ylabel('Avg Streaming Numbers')\nplt.title('Comparison of Avg Streaming Numbers')\n\nplt.subplot(1, 2, 2)\nplt.bar(categories, mean_values_views)\nplt.xlabel('Category')\nplt.ylabel('Avg Views')\nplt.title('Comparison of Avg Views')\n\nplt.tight_layout()\nplt.show()",
    "papermill": {
     "duration": 0.650021,
     "end_time": "2023-07-10T09:59:30.684801",
     "exception": false,
     "start_time": "2023-07-10T09:59:30.034780",
     "status": "completed"
    },
    "tags": []
   },
   "outputs": [
    {
     "data": {
      "image/png": "[encoded data removed]",
      "text/plain": [
       "<Figure size 640x480 with 2 Axes>"
      ]
     },
     "metadata": {},
     "output_type": "display_data"
    }
   ],
   "source": [
    "# Calculate mean streaming numbers or views\n",
    "album_mean_streaming = album_streaming.mean()\n",
    "single_mean_streaming = single_streaming.mean()\n",
    "album_mean_views = album_views.mean()\n",
    "single_mean_views = single_views.mean()\n",
    "\n",
    "# Create a bar plot\n",
    "categories = ['Albums', 'Singles']\n",
    "mean_values_streaming = [album_mean_streaming, single_mean_streaming]\n",
    "mean_values_views = [album_mean_views, single_mean_views]\n",
    "\n",
    "plt.subplot(1, 2, 1)\n",
    "plt.bar(categories, mean_values_streaming)\n",
    "plt.xlabel('Category')\n",
    "plt.ylabel('Avg Streaming Numbers')\n",
    "plt.title('Comparison of Avg Streaming Numbers')\n",
    "\n",
    "plt.subplot(1, 2, 2)\n",
    "plt.bar(categories, mean_values_views)\n",
    "plt.xlabel('Category')\n",
    "plt.ylabel('Avg Views')\n",
    "plt.title('Comparison of Avg Views')\n",
    "\n",
    "plt.tight_layout()\n",
    "plt.show()"
   ]
  },
  {
   "cell_type": "code",
   "execution_count": 35,
   "id": "8b9f4f5d",
   "metadata": {
    "execution": {
     "iopub.execute_input": "2023-07-10T09:59:30.748678Z",
     "iopub.status.busy": "2023-07-10T09:59:30.748036Z",
     "iopub.status.idle": "2023-07-10T09:59:31.280063Z",
     "shell.execute_reply": "2023-07-10T09:59:31.279394Z"
    },
    "papermill": {
     "duration": 0.560485,
     "end_time": "2023-07-10T09:59:31.282221",
     "exception": false,
     "start_time": "2023-07-10T09:59:30.721736",
     "status": "completed"
    },
    "tags": []
   },
   "outputs": [
    {
     "data": {
      "image/png": "[encoded data removed]",
      "text/plain": [
       "<Figure size 640x480 with 1 Axes>"
      ]
     },
     "metadata": {},
     "output_type": "display_data"
    }
   ],
   "source": [
    "\n",
    "# Set the number of iterations and the sample size for each iteration\n",
    "num_iterations = 1000\n",
    "sample_size = 30\n",
    "\n",
    "# Create an array to store the sample means\n",
    "album_sample_means = np.zeros(num_iterations)\n",
    "single_sample_means = np.zeros(num_iterations)\n",
    "\n",
    "# Iterate through the specified number of iterations\n",
    "for i in range(num_iterations):\n",
    "    # Randomly sample from album streaming and calculate the sample mean\n",
    "    album_sample = np.random.choice(album_streaming, size=sample_size, replace=True)\n",
    "    album_sample_mean = np.mean(album_sample)\n",
    "\n",
    "    # Randomly sample from single streaming and calculate the sample mean\n",
    "    single_sample = np.random.choice(single_streaming, size=sample_size, replace=True)\n",
    "    single_sample_mean = np.mean(single_sample)\n",
    "\n",
    "    # Calculate the difference in sample means\n",
    "    album_sample_means[i] = album_sample_mean\n",
    "    single_sample_means[i] = single_sample_mean\n",
    "\n",
    "# Perform statistical test on the sampling distribution\n",
    "t_stat, p_value = ttest_ind(album_streaming, single_streaming)\n",
    "\n",
    "# Plot a histogram of the sampling distribution\n",
    "plt.hist(album_sample_means, bins=30, alpha=0.5, edgecolor='black', label='Albums')\n",
    "plt.hist(single_sample_means, bins=30, alpha=0.5, edgecolor='black', label='Singles')\n",
    "plt.xlabel('Difference in Sample Means')\n",
    "plt.ylabel('Frequency')\n",
    "plt.title('Sampling Distribution of Difference in Sample Means (Albums vs Singles)')\n",
    "plt.grid(True)\n",
    "plt.legend()\n",
    "\n",
    "# Add a vertical line to represent the observed difference in sample means\n",
    "observed_diff = np.mean(album_streaming) - np.mean(single_streaming)\n",
    "plt.axvline(x=observed_diff, color='red', linestyle='--', label='Observed Difference')\n",
    "\n",
    "plt.show()"
   ]
  },
  {
   "cell_type": "markdown",
   "id": "8710392c",
   "metadata": {
    "papermill": {
     "duration": 0.024471,
     "end_time": "2023-07-10T09:59:31.332036",
     "exception": false,
     "start_time": "2023-07-10T09:59:31.307565",
     "status": "completed"
    },
    "tags": []
   },
   "source": [
    "## Comparing Numbers between Major and Minor Keys:\n",
    "\n",
    "The project explores the impact of musical key (represented using standard Pitch Class notation) on streaming numbers and YouTube viewership. By analyzing the differences between songs in major keys and songs in minor keys, insights can be gained into the potential influence of musical tonality on audience engagement.\n",
    "\n",
    "* **Null Hypothesis (H0):** There is no significant difference between the mean streaming numbers of songs in major keys and mean streaming numbers of songs in minor keys.\n",
    "* **Alternative Hypothesis (H1):** There is a significant difference between the mean streaming numbers of songs in major keys and mean streaming numbers of songs in minor keys."
   ]
  },
  {
   "cell_type": "code",
   "execution_count": 36,
   "id": "a0099940",
   "metadata": {
    "execution": {
     "iopub.execute_input": "2023-07-10T09:59:31.384235Z",
     "iopub.status.busy": "2023-07-10T09:59:31.383651Z",
     "iopub.status.idle": "2023-07-10T09:59:31.404097Z",
     "shell.execute_reply": "2023-07-10T09:59:31.403369Z"
    },
    "executionCancelledAt": null,
    "executionTime": 52,
    "lastExecutedAt": 1688819998530,
    "lastScheduledRunId": null,
    "lastSuccessfullyExecutedCode": "# Filter the data for major keys and minor keys\nmajor_keys = df[df['Key'].isin([0, 2, 4, 5, 7, 9, 11])]  # Filter for major keys (0, 2, 4, 5, 7, 9, 11)\nminor_keys = df[df['Key'].isin([1, 3, 6, 8, 10])]  # Filter for minor keys (1, 3, 6, 8, 10)\nprint(major_keys)",
    "papermill": {
     "duration": 0.049166,
     "end_time": "2023-07-10T09:59:31.406195",
     "exception": false,
     "start_time": "2023-07-10T09:59:31.357029",
     "status": "completed"
    },
    "tags": []
   },
   "outputs": [],
   "source": [
    "# Filter the data for major keys and minor keys using the Pitch Class notation\n",
    "major_keys = df[df['Key'].isin([0, 2, 4, 5, 7, 9, 11])]  # Filter for major keys (0, 2, 4, 5, 7, 9, 11)\n",
    "minor_keys = df[df['Key'].isin([1, 3, 6, 8, 10])]  # Filter for minor keys (1, 3, 6, 8, 10)"
   ]
  },
  {
   "cell_type": "code",
   "execution_count": 37,
   "id": "6111cd34",
   "metadata": {
    "execution": {
     "iopub.execute_input": "2023-07-10T09:59:31.458789Z",
     "iopub.status.busy": "2023-07-10T09:59:31.458260Z",
     "iopub.status.idle": "2023-07-10T09:59:31.462077Z",
     "shell.execute_reply": "2023-07-10T09:59:31.461399Z"
    },
    "executionCancelledAt": null,
    "executionTime": 49,
    "lastExecutedAt": 1688819998626,
    "lastScheduledRunId": null,
    "lastSuccessfullyExecutedCode": "# Extract the streaming numbers for major keys and minor keys\nmajor_key_streaming = major_keys['Stream']\nminor_key_streaming = minor_keys['Stream']",
    "papermill": {
     "duration": 0.03261,
     "end_time": "2023-07-10T09:59:31.463960",
     "exception": false,
     "start_time": "2023-07-10T09:59:31.431350",
     "status": "completed"
    },
    "tags": []
   },
   "outputs": [],
   "source": [
    "# Extract the streaming numbers for major keys and minor keys\n",
    "major_key_streaming = major_keys['Stream']\n",
    "minor_key_streaming = minor_keys['Stream']"
   ]
  },
  {
   "cell_type": "code",
   "execution_count": 38,
   "id": "92bdb90d",
   "metadata": {
    "execution": {
     "iopub.execute_input": "2023-07-10T09:59:31.515551Z",
     "iopub.status.busy": "2023-07-10T09:59:31.514972Z",
     "iopub.status.idle": "2023-07-10T09:59:31.602230Z",
     "shell.execute_reply": "2023-07-10T09:59:31.601064Z"
    },
    "executionCancelledAt": null,
    "executionTime": 48,
    "lastExecutedAt": 1688819998674,
    "lastScheduledRunId": null,
    "lastSuccessfullyExecutedCode": "# Check for NaN values in major_keys\nmajor_keys_has_nans = major_keys.isnull().any().any()\nif major_keys_has_nans:\n    print(\"major_keys contains NaN values.\")\nelse:\n    print(\"major_keys does not contain NaN values.\")\n\n# Check for NaN values in minor_keys\nminor_keys_has_nans = minor_keys.isnull().any().any()\nif minor_keys_has_nans:\n    print(\"minor_keys contains NaN values.\")\nelse:\n    print(\"minor_keys does not contain NaN values.\")\n",
    "papermill": {
     "duration": 0.115894,
     "end_time": "2023-07-10T09:59:31.604492",
     "exception": false,
     "start_time": "2023-07-10T09:59:31.488598",
     "status": "completed"
    },
    "tags": []
   },
   "outputs": [
    {
     "name": "stdout",
     "output_type": "stream",
     "text": [
      "major_keys contains NaN values.\n",
      "minor_keys contains NaN values.\n"
     ]
    }
   ],
   "source": [
    "# Check for NaN values in major_keys\n",
    "major_keys_has_nans = major_keys.isnull().any().any()\n",
    "if major_keys_has_nans:\n",
    "    print(\"major_keys contains NaN values.\")\n",
    "else:\n",
    "    print(\"major_keys does not contain NaN values.\")\n",
    "\n",
    "# Check for NaN values in minor_keys\n",
    "minor_keys_has_nans = minor_keys.isnull().any().any()\n",
    "if minor_keys_has_nans:\n",
    "    print(\"minor_keys contains NaN values.\")\n",
    "else:\n",
    "    print(\"minor_keys does not contain NaN values.\")\n"
   ]
  },
  {
   "cell_type": "code",
   "execution_count": 39,
   "id": "6e40e38b",
   "metadata": {
    "execution": {
     "iopub.execute_input": "2023-07-10T09:59:31.656703Z",
     "iopub.status.busy": "2023-07-10T09:59:31.656306Z",
     "iopub.status.idle": "2023-07-10T09:59:31.662732Z",
     "shell.execute_reply": "2023-07-10T09:59:31.661740Z"
    },
    "executionCancelledAt": null,
    "executionTime": 47,
    "lastExecutedAt": 1688819998721,
    "lastScheduledRunId": null,
    "lastSuccessfullyExecutedCode": "# Fill NaN values of major_keys and minor_keys datasets with zero\nmajor_key_streaming = major_key_streaming.fillna(0)\nminor_key_streaming = minor_key_streaming.fillna(0)",
    "papermill": {
     "duration": 0.035094,
     "end_time": "2023-07-10T09:59:31.664877",
     "exception": false,
     "start_time": "2023-07-10T09:59:31.629783",
     "status": "completed"
    },
    "tags": []
   },
   "outputs": [],
   "source": [
    "# Fill NaN values of major_keys and minor_keys datasets with zero\n",
    "major_key_streaming = major_key_streaming.fillna(0)\n",
    "minor_key_streaming = minor_key_streaming.fillna(0)"
   ]
  },
  {
   "cell_type": "code",
   "execution_count": 40,
   "id": "bd304639",
   "metadata": {
    "execution": {
     "iopub.execute_input": "2023-07-10T09:59:31.716685Z",
     "iopub.status.busy": "2023-07-10T09:59:31.716316Z",
     "iopub.status.idle": "2023-07-10T09:59:31.720684Z",
     "shell.execute_reply": "2023-07-10T09:59:31.719708Z"
    },
    "executionCancelledAt": null,
    "executionTime": 47,
    "lastExecutedAt": 1688819998769,
    "lastScheduledRunId": null,
    "lastSuccessfullyExecutedCode": "# Step 6: Apply Central Limit Theorem - Sampling\nsample_size = 1000  # Define the sample size\nnum_samples = 500  # Define the number of samples",
    "papermill": {
     "duration": 0.032916,
     "end_time": "2023-07-10T09:59:31.722668",
     "exception": false,
     "start_time": "2023-07-10T09:59:31.689752",
     "status": "completed"
    },
    "tags": []
   },
   "outputs": [],
   "source": [
    "# Step 6: Apply Central Limit Theorem - Sampling\n",
    "sample_size = 1000  # Define the sample size\n",
    "num_samples = 500  # Define the number of samples"
   ]
  },
  {
   "cell_type": "code",
   "execution_count": 41,
   "id": "f791b361",
   "metadata": {
    "execution": {
     "iopub.execute_input": "2023-07-10T09:59:31.775484Z",
     "iopub.status.busy": "2023-07-10T09:59:31.775126Z",
     "iopub.status.idle": "2023-07-10T09:59:31.779642Z",
     "shell.execute_reply": "2023-07-10T09:59:31.778745Z"
    },
    "executionCancelledAt": null,
    "executionTime": 47,
    "lastExecutedAt": 1688819998817,
    "lastScheduledRunId": null,
    "lastSuccessfullyExecutedCode": "# Initialize arrays to store sample means\nmajor_key_sample_means = np.zeros(num_samples)\nminor_key_sample_means = np.zeros(num_samples)",
    "papermill": {
     "duration": 0.033102,
     "end_time": "2023-07-10T09:59:31.781672",
     "exception": false,
     "start_time": "2023-07-10T09:59:31.748570",
     "status": "completed"
    },
    "tags": []
   },
   "outputs": [],
   "source": [
    "# Initialize arrays to store sample means\n",
    "major_key_sample_means = np.zeros(num_samples)\n",
    "minor_key_sample_means = np.zeros(num_samples)"
   ]
  },
  {
   "cell_type": "code",
   "execution_count": 42,
   "id": "36680f8a",
   "metadata": {
    "execution": {
     "iopub.execute_input": "2023-07-10T09:59:31.833320Z",
     "iopub.status.busy": "2023-07-10T09:59:31.832898Z",
     "iopub.status.idle": "2023-07-10T09:59:31.896098Z",
     "shell.execute_reply": "2023-07-10T09:59:31.895096Z"
    },
    "executionCancelledAt": null,
    "executionTime": 47,
    "lastExecutedAt": 1688819998865,
    "lastScheduledRunId": null,
    "lastSuccessfullyExecutedCode": "# Generate samples and calculate sample means\nfor i in range(num_samples):\n    major_key_sample = np.random.choice(major_key_streaming, size=sample_size, replace=True)\n    minor_key_sample = np.random.choice(minor_key_streaming, size=sample_size, replace=True)\n    major_key_sample_means[i] = np.mean(major_key_sample)\n    minor_key_sample_means[i] = np.mean(minor_key_sample)",
    "papermill": {
     "duration": 0.091956,
     "end_time": "2023-07-10T09:59:31.898511",
     "exception": false,
     "start_time": "2023-07-10T09:59:31.806555",
     "status": "completed"
    },
    "tags": []
   },
   "outputs": [],
   "source": [
    "# Generate samples and calculate sample means\n",
    "for i in range(num_samples):\n",
    "    major_key_sample = np.random.choice(major_key_streaming, size=sample_size, replace=True)\n",
    "    minor_key_sample = np.random.choice(minor_key_streaming, size=sample_size, replace=True)\n",
    "    major_key_sample_means[i] = np.mean(major_key_sample)\n",
    "    minor_key_sample_means[i] = np.mean(minor_key_sample)"
   ]
  },
  {
   "cell_type": "code",
   "execution_count": 43,
   "id": "f43fb8a1",
   "metadata": {
    "execution": {
     "iopub.execute_input": "2023-07-10T09:59:31.950208Z",
     "iopub.status.busy": "2023-07-10T09:59:31.949820Z",
     "iopub.status.idle": "2023-07-10T09:59:31.955078Z",
     "shell.execute_reply": "2023-07-10T09:59:31.954105Z"
    },
    "executionCancelledAt": null,
    "executionTime": 47,
    "lastExecutedAt": 1688819998961,
    "lastScheduledRunId": null,
    "lastSuccessfullyExecutedCode": "# Step 7: Perform statistical analysis on sample means\nt_stat, p_value = ttest_ind(major_key_sample_means, minor_key_sample_means)",
    "papermill": {
     "duration": 0.03362,
     "end_time": "2023-07-10T09:59:31.957087",
     "exception": false,
     "start_time": "2023-07-10T09:59:31.923467",
     "status": "completed"
    },
    "tags": []
   },
   "outputs": [],
   "source": [
    "# Perform statistical analysis on sample means\n",
    "t_stat, p_value = ttest_ind(major_key_sample_means, minor_key_sample_means)"
   ]
  },
  {
   "cell_type": "code",
   "execution_count": 44,
   "id": "43181610",
   "metadata": {
    "execution": {
     "iopub.execute_input": "2023-07-10T09:59:32.008588Z",
     "iopub.status.busy": "2023-07-10T09:59:32.008147Z",
     "iopub.status.idle": "2023-07-10T09:59:32.364205Z",
     "shell.execute_reply": "2023-07-10T09:59:32.362933Z"
    },
    "executionCancelledAt": null,
    "executionTime": 189,
    "lastExecutedAt": 1688819999151,
    "lastScheduledRunId": null,
    "lastSuccessfullyExecutedCode": "# Step 8: Visualize the distributions of sample means\nplt.hist(major_key_sample_means, alpha=0.5, label='Major Keys')\nplt.hist(minor_key_sample_means, alpha=0.5, label='Minor Keys')\nplt.xlabel('Sample Mean Streaming Numbers')\nplt.ylabel('Frequency')\nplt.title('Distribution of Sample Means for Major Keys vs. Minor Keys')\nplt.legend()\n\nplt.show()",
    "papermill": {
     "duration": 0.385237,
     "end_time": "2023-07-10T09:59:32.367122",
     "exception": false,
     "start_time": "2023-07-10T09:59:31.981885",
     "status": "completed"
    },
    "tags": []
   },
   "outputs": [
    {
     "data": {
      "image/png": "[encoded data removed]",
      "text/plain": [
       "<Figure size 640x480 with 1 Axes>"
      ]
     },
     "metadata": {},
     "output_type": "display_data"
    }
   ],
   "source": [
    "# Visualize the distributions of sample means\n",
    "plt.hist(major_key_sample_means, alpha=0.5, label='Major Keys')\n",
    "plt.hist(minor_key_sample_means, alpha=0.5, label='Minor Keys')\n",
    "plt.xlabel('Sample Mean Streaming Numbers')\n",
    "plt.ylabel('Frequency')\n",
    "plt.title('Distribution of Sample Means for Major Keys vs. Minor Keys')\n",
    "plt.legend()\n",
    "\n",
    "plt.show()"
   ]
  },
  {
   "cell_type": "code",
   "execution_count": 45,
   "id": "0c66bf30",
   "metadata": {
    "execution": {
     "iopub.execute_input": "2023-07-10T09:59:32.422517Z",
     "iopub.status.busy": "2023-07-10T09:59:32.422136Z",
     "iopub.status.idle": "2023-07-10T09:59:32.427585Z",
     "shell.execute_reply": "2023-07-10T09:59:32.426632Z"
    },
    "executionCancelledAt": null,
    "executionTime": 51,
    "lastExecutedAt": 1688819999202,
    "lastScheduledRunId": null,
    "lastSuccessfullyExecutedCode": "# Step 9: Interpret the results\nalpha = 0.05  # Significance level\nif p_value < alpha:\n    print(\"There is a significant difference between major key streaming and minor key streaming.\")\nelse:\n    print(\"There is no significant difference between major key streaming and minor key streaming.\")",
    "papermill": {
     "duration": 0.035597,
     "end_time": "2023-07-10T09:59:32.429525",
     "exception": false,
     "start_time": "2023-07-10T09:59:32.393928",
     "status": "completed"
    },
    "tags": []
   },
   "outputs": [
    {
     "name": "stdout",
     "output_type": "stream",
     "text": [
      "There is a significant difference between major key streaming and minor key streaming.\n"
     ]
    }
   ],
   "source": [
    "# Interpret the results\n",
    "alpha = 0.05  # Significance level\n",
    "if p_value < alpha:\n",
    "    print(\"There is a significant difference between major key streaming and minor key streaming.\")\n",
    "else:\n",
    "    print(\"There is no significant difference between major key streaming and minor key streaming.\")"
   ]
  },
  {
   "cell_type": "code",
   "execution_count": 46,
   "id": "02dc58a4",
   "metadata": {
    "execution": {
     "iopub.execute_input": "2023-07-10T09:59:32.484257Z",
     "iopub.status.busy": "2023-07-10T09:59:32.483855Z",
     "iopub.status.idle": "2023-07-10T09:59:32.492390Z",
     "shell.execute_reply": "2023-07-10T09:59:32.491584Z"
    },
    "executionCancelledAt": null,
    "executionTime": 52,
    "lastExecutedAt": 1688819999254,
    "lastScheduledRunId": null,
    "lastSuccessfullyExecutedCode": "# Additional Analysis\nmajor_key_mean = np.mean(major_key_streaming)\nminor_key_mean = np.mean(minor_key_streaming)\n\nmajor_key_sampling_mean = np.mean(major_key_sample_means)\nminor_key_sampling_mean = np.mean(minor_key_sample_means)\n\nmajor_key_sampling_std = np.std(major_key_sample_means)\nminor_key_sampling_std = np.std(minor_key_sample_means)\n\nprint(\"Mean streaming in major keys:\", major_key_mean)\nprint(\"Mean streaming in minor keys:\", minor_key_mean)\n\nprint(\"Sampling mean of major keys:\", major_key_sampling_mean)\nprint(\"Sampling mean of minor keys:\", minor_key_sampling_mean)\n\nprint(\"Sampling standard deviation of major keys:\", major_key_sampling_std)\nprint(\"Sampling standard deviation of minor keys:\", minor_key_sampling_std)",
    "papermill": {
     "duration": 0.038807,
     "end_time": "2023-07-10T09:59:32.494176",
     "exception": false,
     "start_time": "2023-07-10T09:59:32.455369",
     "status": "completed"
    },
    "tags": []
   },
   "outputs": [
    {
     "name": "stdout",
     "output_type": "stream",
     "text": [
      "Mean streaming in Major keys: 127775589.63622865\n",
      "Mean streaming in Minor keys: 140319434.7960254\n",
      "\n",
      "Sampling mean of Major keys: 127839035.83731799\n",
      "Sampling mean of Minor keys: 140126956.868948\n",
      "\n",
      "Sampling standard deviation of Major keys: 7363203.072310138\n",
      "Sampling standard deviation of Minor keys: 8403833.519888576\n"
     ]
    }
   ],
   "source": [
    "# Additional Analysis\n",
    "major_key_mean = np.mean(major_key_streaming)\n",
    "minor_key_mean = np.mean(minor_key_streaming)\n",
    "\n",
    "major_key_sampling_mean = np.mean(major_key_sample_means)\n",
    "minor_key_sampling_mean = np.mean(minor_key_sample_means)\n",
    "\n",
    "major_key_sampling_std = np.std(major_key_sample_means)\n",
    "minor_key_sampling_std = np.std(minor_key_sample_means)\n",
    "\n",
    "print(\"Mean streaming in Major keys:\", major_key_mean)\n",
    "print(\"Mean streaming in Minor keys:\", minor_key_mean)\n",
    "\n",
    "print(\"\\nSampling mean of Major keys:\", major_key_sampling_mean)\n",
    "print(\"Sampling mean of Minor keys:\", minor_key_sampling_mean)\n",
    "\n",
    "print(\"\\nSampling standard deviation of Major keys:\", major_key_sampling_std)\n",
    "print(\"Sampling standard deviation of Minor keys:\", minor_key_sampling_std)"
   ]
  },
  {
   "cell_type": "markdown",
   "id": "1306b641",
   "metadata": {
    "papermill": {
     "duration": 0.03208,
     "end_time": "2023-07-10T09:59:32.556156",
     "exception": false,
     "start_time": "2023-07-10T09:59:32.524076",
     "status": "completed"
    },
    "tags": []
   },
   "source": [
    "## Comparing Numbers between Music Artists:\n",
    "\n",
    "The analysis extends to comparing streaming numbers and YouTube viewership across different music artists. By examining the variations in popularity and viewership between artists, it becomes possible to identify trends and factors contributing to their respective levels of success.\n",
    "\n",
    "* **Null Hypothesis (H0):** There is no significant difference between the mean streaming numbers and mean YouTube views for songs by different music artists in the dataset.\n",
    "* **Alternative Hypothesis (H1):** There is a significant difference between the mean streaming numbers and mean YouTube views for songs by different music artists in the dataset."
   ]
  },
  {
   "cell_type": "code",
   "execution_count": 47,
   "id": "91e8522a",
   "metadata": {
    "execution": {
     "iopub.execute_input": "2023-07-10T09:59:32.624105Z",
     "iopub.status.busy": "2023-07-10T09:59:32.623130Z",
     "iopub.status.idle": "2023-07-10T09:59:32.647503Z",
     "shell.execute_reply": "2023-07-10T09:59:32.646529Z"
    },
    "executionCancelledAt": null,
    "executionTime": 83,
    "lastExecutedAt": 1688819999337,
    "lastScheduledRunId": null,
    "lastSuccessfullyExecutedCode": "# Group the data by artist and calculate the mean streaming numbers and YouTube views for each artist\nartist_stats = df.groupby('Artist').agg({'Stream': 'mean', 'Views': 'mean'})\nartist_stats",
    "papermill": {
     "duration": 0.060292,
     "end_time": "2023-07-10T09:59:32.649607",
     "exception": false,
     "start_time": "2023-07-10T09:59:32.589315",
     "status": "completed"
    },
    "tags": []
   },
   "outputs": [
    {
     "data": {
      "text/html": [
       "<div>\n",
       "<style scoped>\n",
       "    .dataframe tbody tr th:only-of-type {\n",
       "        vertical-align: middle;\n",
       "    }\n",
       "\n",
       "    .dataframe tbody tr th {\n",
       "        vertical-align: top;\n",
       "    }\n",
       "\n",
       "    .dataframe thead th {\n",
       "        text-align: right;\n",
       "    }\n",
       "</style>\n",
       "<table border=\"1\" class=\"dataframe\">\n",
       "  <thead>\n",
       "    <tr style=\"text-align: right;\">\n",
       "      <th></th>\n",
       "      <th>Stream</th>\n",
       "      <th>Views</th>\n",
       "    </tr>\n",
       "    <tr>\n",
       "      <th>Artist</th>\n",
       "      <th></th>\n",
       "      <th></th>\n",
       "    </tr>\n",
       "  </thead>\n",
       "  <tbody>\n",
       "    <tr>\n",
       "      <th>$NOT</th>\n",
       "      <td>112763800.2</td>\n",
       "      <td>11078490.3</td>\n",
       "    </tr>\n",
       "    <tr>\n",
       "      <th>$uicideboy$</th>\n",
       "      <td>212674813.0</td>\n",
       "      <td>33413510.8</td>\n",
       "    </tr>\n",
       "    <tr>\n",
       "      <th>(G)I-DLE</th>\n",
       "      <td>130421245.8</td>\n",
       "      <td>175495394.1</td>\n",
       "    </tr>\n",
       "    <tr>\n",
       "      <th>*NSYNC</th>\n",
       "      <td>142783375.6</td>\n",
       "      <td>102783286.2</td>\n",
       "    </tr>\n",
       "    <tr>\n",
       "      <th>070 Shake</th>\n",
       "      <td>46474861.7</td>\n",
       "      <td>9609935.9</td>\n",
       "    </tr>\n",
       "  </tbody>\n",
       "</table>\n",
       "</div>"
      ],
      "text/plain": [
       "                  Stream        Views\n",
       "Artist                               \n",
       "$NOT         112763800.2   11078490.3\n",
       "$uicideboy$  212674813.0   33413510.8\n",
       "(G)I-DLE     130421245.8  175495394.1\n",
       "*NSYNC       142783375.6  102783286.2\n",
       "070 Shake     46474861.7    9609935.9"
      ]
     },
     "execution_count": 47,
     "metadata": {},
     "output_type": "execute_result"
    }
   ],
   "source": [
    "# Group the data by artist and calculate the mean streaming numbers and YouTube views for each artist\n",
    "artist_stats = df.groupby('Artist').agg({'Stream': 'mean', 'Views': 'mean'})\n",
    "artist_stats.head()"
   ]
  },
  {
   "cell_type": "code",
   "execution_count": 48,
   "id": "2ef74e62",
   "metadata": {
    "execution": {
     "iopub.execute_input": "2023-07-10T09:59:32.704438Z",
     "iopub.status.busy": "2023-07-10T09:59:32.703361Z",
     "iopub.status.idle": "2023-07-10T09:59:32.707852Z",
     "shell.execute_reply": "2023-07-10T09:59:32.707221Z"
    },
    "executionCancelledAt": null,
    "executionTime": 48,
    "lastExecutedAt": 1688819999385,
    "lastScheduledRunId": null,
    "lastSuccessfullyExecutedCode": "# Extract the streaming numbers and YouTube views for each artist\nstreaming_numbers = artist_stats['Stream']\nyoutube_views = artist_stats['Views']",
    "papermill": {
     "duration": 0.033664,
     "end_time": "2023-07-10T09:59:32.709560",
     "exception": false,
     "start_time": "2023-07-10T09:59:32.675896",
     "status": "completed"
    },
    "tags": []
   },
   "outputs": [],
   "source": [
    "# Extract the streaming numbers and YouTube views for each artist\n",
    "streaming_numbers = artist_stats['Stream']\n",
    "youtube_views = artist_stats['Views']"
   ]
  },
  {
   "cell_type": "code",
   "execution_count": 49,
   "id": "5341fae6",
   "metadata": {
    "execution": {
     "iopub.execute_input": "2023-07-10T09:59:32.764421Z",
     "iopub.status.busy": "2023-07-10T09:59:32.763465Z",
     "iopub.status.idle": "2023-07-10T09:59:32.769473Z",
     "shell.execute_reply": "2023-07-10T09:59:32.768638Z"
    },
    "papermill": {
     "duration": 0.036064,
     "end_time": "2023-07-10T09:59:32.771824",
     "exception": false,
     "start_time": "2023-07-10T09:59:32.735760",
     "status": "completed"
    },
    "tags": []
   },
   "outputs": [],
   "source": [
    "# Sort artists based on streaming numbers and YouTube views\n",
    "artists_sorted_by_streaming = artist_stats.sort_values(by='Stream', ascending=False)\n",
    "artists_sorted_by_views = artist_stats.sort_values(by='Views', ascending=False)\n"
   ]
  },
  {
   "cell_type": "code",
   "execution_count": 50,
   "id": "81f97145",
   "metadata": {
    "execution": {
     "iopub.execute_input": "2023-07-10T09:59:32.825799Z",
     "iopub.status.busy": "2023-07-10T09:59:32.825433Z",
     "iopub.status.idle": "2023-07-10T09:59:32.829951Z",
     "shell.execute_reply": "2023-07-10T09:59:32.829073Z"
    },
    "papermill": {
     "duration": 0.033772,
     "end_time": "2023-07-10T09:59:32.831915",
     "exception": false,
     "start_time": "2023-07-10T09:59:32.798143",
     "status": "completed"
    },
    "tags": []
   },
   "outputs": [],
   "source": [
    "# Get the artists with the most streaming numbers and YouTube views\n",
    "top_streaming_artists = artists_sorted_by_streaming.head(5)\n",
    "top_views_artists = artists_sorted_by_views.head(5)"
   ]
  },
  {
   "cell_type": "code",
   "execution_count": 51,
   "id": "16c6a4bc",
   "metadata": {
    "execution": {
     "iopub.execute_input": "2023-07-10T09:59:32.886257Z",
     "iopub.status.busy": "2023-07-10T09:59:32.885866Z",
     "iopub.status.idle": "2023-07-10T09:59:32.890830Z",
     "shell.execute_reply": "2023-07-10T09:59:32.890119Z"
    },
    "papermill": {
     "duration": 0.034212,
     "end_time": "2023-07-10T09:59:32.892663",
     "exception": false,
     "start_time": "2023-07-10T09:59:32.858451",
     "status": "completed"
    },
    "tags": []
   },
   "outputs": [],
   "source": [
    "# Fill NaN values with zero\n",
    "streaming_numbers = spotify_streaming.fillna(0)\n",
    "youtube_views = youtube_views.fillna(0)"
   ]
  },
  {
   "cell_type": "code",
   "execution_count": 52,
   "id": "2b9684ee",
   "metadata": {
    "execution": {
     "iopub.execute_input": "2023-07-10T09:59:32.945697Z",
     "iopub.status.busy": "2023-07-10T09:59:32.945364Z",
     "iopub.status.idle": "2023-07-10T09:59:32.949951Z",
     "shell.execute_reply": "2023-07-10T09:59:32.948844Z"
    },
    "executionCancelledAt": null,
    "executionTime": 46,
    "lastExecutedAt": 1688820041885,
    "lastScheduledRunId": null,
    "lastSuccessfullyExecutedCode": "# Step 6: Apply Central Limit Theorem - Sampling\nsample_size = 1000  # Define the sample size\nnum_samples = 500  # Define the number of samples\n",
    "papermill": {
     "duration": 0.033689,
     "end_time": "2023-07-10T09:59:32.952055",
     "exception": false,
     "start_time": "2023-07-10T09:59:32.918366",
     "status": "completed"
    },
    "tags": []
   },
   "outputs": [],
   "source": [
    "# Apply Central Limit Theorem - Sampling\n",
    "sample_size = 1000  # Define the sample size\n",
    "num_samples = 500  # Define the number of samples\n"
   ]
  },
  {
   "cell_type": "code",
   "execution_count": 53,
   "id": "1143e539",
   "metadata": {
    "execution": {
     "iopub.execute_input": "2023-07-10T09:59:33.005236Z",
     "iopub.status.busy": "2023-07-10T09:59:33.004558Z",
     "iopub.status.idle": "2023-07-10T09:59:33.009489Z",
     "shell.execute_reply": "2023-07-10T09:59:33.008688Z"
    },
    "executionCancelledAt": null,
    "executionTime": 9,
    "lastExecutedAt": 1688820044674,
    "lastScheduledRunId": null,
    "lastSuccessfullyExecutedCode": "# Initialize arrays to store sample means\nsample_means_streaming = []\nsample_means_youtube = []",
    "papermill": {
     "duration": 0.034218,
     "end_time": "2023-07-10T09:59:33.011659",
     "exception": false,
     "start_time": "2023-07-10T09:59:32.977441",
     "status": "completed"
    },
    "tags": []
   },
   "outputs": [],
   "source": [
    "# Initialize arrays to store sample means\n",
    "sample_means_streaming = []\n",
    "sample_means_youtube = []"
   ]
  },
  {
   "cell_type": "code",
   "execution_count": 54,
   "id": "e5a1c248",
   "metadata": {
    "execution": {
     "iopub.execute_input": "2023-07-10T09:59:33.066332Z",
     "iopub.status.busy": "2023-07-10T09:59:33.065303Z",
     "iopub.status.idle": "2023-07-10T10:00:34.371956Z",
     "shell.execute_reply": "2023-07-10T10:00:34.371120Z"
    },
    "executionCancelledAt": null,
    "executionTime": 43366,
    "lastExecutedAt": 1688820238573,
    "lastScheduledRunId": null,
    "lastSuccessfullyExecutedCode": "# Generate samples and calculate sample means for streaming numbers and YouTube views\nfor artist, streaming, views in zip(artist_stats.index, streaming_numbers, youtube_views):\n    streaming_samples = np.random.normal(loc=streaming, scale=np.std(streaming),\n                                         size=(num_samples, sample_size))\n    youtube_samples = np.random.normal(loc=views, scale=np.std(views),\n                                       size=(num_samples, sample_size))\n    sample_means_streaming.extend(np.mean(streaming_samples, axis=1))\n    sample_means_youtube.extend(np.mean(youtube_samples, axis=1))",
    "papermill": {
     "duration": 61.336509,
     "end_time": "2023-07-10T10:00:34.374512",
     "exception": false,
     "start_time": "2023-07-10T09:59:33.038003",
     "status": "completed"
    },
    "tags": []
   },
   "outputs": [],
   "source": [
    "# Generate samples and calculate sample means for streaming numbers and YouTube views\n",
    "for artist, streaming, views in zip(artist_stats.index, streaming_numbers, youtube_views):\n",
    "    streaming_samples = np.random.normal(loc=streaming, scale=np.std(streaming),\n",
    "                                         size=(num_samples, sample_size))\n",
    "    youtube_samples = np.random.normal(loc=views, scale=np.std(views),\n",
    "                                       size=(num_samples, sample_size))\n",
    "    sample_means_streaming.extend(np.mean(streaming_samples, axis=1))\n",
    "    sample_means_youtube.extend(np.mean(youtube_samples, axis=1))"
   ]
  },
  {
   "cell_type": "code",
   "execution_count": 55,
   "id": "480a806f",
   "metadata": {
    "execution": {
     "iopub.execute_input": "2023-07-10T10:00:34.427568Z",
     "iopub.status.busy": "2023-07-10T10:00:34.427109Z",
     "iopub.status.idle": "2023-07-10T10:00:34.621447Z",
     "shell.execute_reply": "2023-07-10T10:00:34.620389Z"
    },
    "executionCancelledAt": null,
    "executionTime": 110,
    "lastExecutedAt": 1688820288223,
    "lastScheduledRunId": null,
    "lastSuccessfullyExecutedCode": "# Step 7: Perform statistical analysis on sample means\nfrom scipy.stats import ttest_rel\n\nt_stat, p_value = ttest_rel(sample_means_streaming, sample_means_youtube)\nt_stat, p_value",
    "papermill": {
     "duration": 0.223001,
     "end_time": "2023-07-10T10:00:34.623706",
     "exception": false,
     "start_time": "2023-07-10T10:00:34.400705",
     "status": "completed"
    },
    "tags": []
   },
   "outputs": [
    {
     "data": {
      "text/plain": [
       "(411.5797650789638, 0.0)"
      ]
     },
     "execution_count": 55,
     "metadata": {},
     "output_type": "execute_result"
    }
   ],
   "source": [
    "# Perform statistical analysis on sample means\n",
    "from scipy.stats import ttest_rel\n",
    "\n",
    "t_stat, p_value = ttest_rel(sample_means_streaming, sample_means_youtube)\n",
    "t_stat, p_value"
   ]
  },
  {
   "cell_type": "code",
   "execution_count": 56,
   "id": "6aed068e",
   "metadata": {
    "execution": {
     "iopub.execute_input": "2023-07-10T10:00:34.676803Z",
     "iopub.status.busy": "2023-07-10T10:00:34.676433Z",
     "iopub.status.idle": "2023-07-10T10:00:44.378824Z",
     "shell.execute_reply": "2023-07-10T10:00:44.377175Z"
    },
    "papermill": {
     "duration": 9.731274,
     "end_time": "2023-07-10T10:00:44.381086",
     "exception": false,
     "start_time": "2023-07-10T10:00:34.649812",
     "status": "completed"
    },
    "tags": []
   },
   "outputs": [
    {
     "data": {
      "image/png": "[encoded data removed]",
      "text/plain": [
       "<Figure size 640x480 with 1 Axes>"
      ]
     },
     "metadata": {},
     "output_type": "display_data"
    }
   ],
   "source": [
    "# Visualize the distributions of sample means\n",
    "plt.hist(sample_means_streaming, alpha=0.5, label='Streaming Numbers')\n",
    "plt.hist(sample_means_youtube, alpha=0.5, label='YouTube Views')\n",
    "plt.xlabel('Sample Mean')\n",
    "plt.ylabel('Frequency')\n",
    "plt.title('Distribution of Sample Means for Streaming Numbers vs. YouTube Views')\n",
    "plt.legend()\n",
    "plt.show()\n"
   ]
  },
  {
   "cell_type": "markdown",
   "id": "f8767412",
   "metadata": {
    "papermill": {
     "duration": 0.026503,
     "end_time": "2023-07-10T10:00:44.433812",
     "exception": false,
     "start_time": "2023-07-10T10:00:44.407309",
     "status": "completed"
    },
    "tags": []
   },
   "source": [
    "### Comparison of Avg Streaming Numbers and Avg YouTube Views Among Music Artists:"
   ]
  },
  {
   "cell_type": "code",
   "execution_count": 57,
   "id": "af4ad528",
   "metadata": {
    "execution": {
     "iopub.execute_input": "2023-07-10T10:00:44.488662Z",
     "iopub.status.busy": "2023-07-10T10:00:44.487943Z",
     "iopub.status.idle": "2023-07-10T10:00:44.953799Z",
     "shell.execute_reply": "2023-07-10T10:00:44.951814Z"
    },
    "papermill": {
     "duration": 0.495507,
     "end_time": "2023-07-10T10:00:44.955855",
     "exception": false,
     "start_time": "2023-07-10T10:00:44.460348",
     "status": "completed"
    },
    "tags": []
   },
   "outputs": [
    {
     "data": {
      "image/png": "[encoded data removed]",
      "text/plain": [
       "<Figure size 1000x600 with 1 Axes>"
      ]
     },
     "metadata": {},
     "output_type": "display_data"
    },
    {
     "data": {
      "image/png": "[encoded data removed]",
      "text/plain": [
       "<Figure size 1000x600 with 1 Axes>"
      ]
     },
     "metadata": {},
     "output_type": "display_data"
    }
   ],
   "source": [
    "# Data visualizations for top streaming artists\n",
    "plt.figure(figsize=(10, 6))\n",
    "plt.bar(top_streaming_artists.index, top_streaming_artists['Stream'])\n",
    "plt.xlabel('Artist')\n",
    "plt.ylabel('Mean Streaming Numbers')\n",
    "plt.title('Top Artists by Streaming Numbers')\n",
    "plt.xticks(rotation=45)\n",
    "plt.show()\n",
    "\n",
    "# Data visualizations for top artists with the most YouTube views \n",
    "plt.figure(figsize=(10, 6))\n",
    "plt.bar(top_views_artists.index, top_views_artists['Views'])\n",
    "plt.xlabel('Artist')\n",
    "plt.ylabel('Mean YouTube Views')\n",
    "plt.title('Top Artists by YouTube Views')\n",
    "plt.xticks(rotation=45)\n",
    "plt.show()\n"
   ]
  },
  {
   "cell_type": "code",
   "execution_count": 58,
   "id": "c4716b1a",
   "metadata": {
    "execution": {
     "iopub.execute_input": "2023-07-10T10:00:45.012932Z",
     "iopub.status.busy": "2023-07-10T10:00:45.012548Z",
     "iopub.status.idle": "2023-07-10T10:00:45.039021Z",
     "shell.execute_reply": "2023-07-10T10:00:45.037691Z"
    },
    "papermill": {
     "duration": 0.057757,
     "end_time": "2023-07-10T10:00:45.041171",
     "exception": false,
     "start_time": "2023-07-10T10:00:44.983414",
     "status": "completed"
    },
    "tags": []
   },
   "outputs": [
    {
     "name": "stdout",
     "output_type": "stream",
     "text": [
      "Top Artists with Highest Streaming Numbers:\n",
      "\n",
      "Post Malone: Avg Streaming Numbers = 1525126385.3\n",
      "\n",
      "Ed Sheeran: Avg Streaming Numbers = 1439488155.7\n",
      "\n",
      "Dua Lipa: Avg Streaming Numbers = 1340807627.4\n",
      "\n",
      "XXXTENTACION: Avg Streaming Numbers = 1322435169.9\n",
      "\n",
      "The Weeknd: Avg Streaming Numbers = 1303197337.6\n",
      "\n",
      "\n",
      "Top Artists with Highest YouTube Views:\n",
      "\n",
      "Ed Sheeran: Avg YouTube Views = 1546020776.9\n",
      "\n",
      "CoComelon: Avg YouTube Views = 1460167121.1\n",
      "\n",
      "Katy Perry: Avg YouTube Views = 1312063207.5\n",
      "\n",
      "Charlie Puth: Avg YouTube Views = 1216759419.1\n",
      "\n",
      "Luis Fonsi: Avg YouTube Views = 1162811303.1\n",
      "\n"
     ]
    }
   ],
   "source": [
    "# Calculate the mean streaming numbers and mean YouTube views for each music artist\n",
    "artist_mean_streaming = df.groupby('Artist')['Stream'].mean()\n",
    "artist_mean_youtube = df.groupby('Artist')['Views'].mean()\n",
    "\n",
    "# Get the top five music artists with the highest streaming numbers\n",
    "top_streaming_artists = artist_mean_streaming.nlargest(5).index.tolist()\n",
    "\n",
    "# Get the top five music artists with the highest YouTube views\n",
    "top_youtube_artists = artist_mean_youtube.nlargest(5).index.tolist()\n",
    "\n",
    "# Compare the mean streaming numbers and mean YouTube views for the top artists\n",
    "print(\"Top Artists with Highest Streaming Numbers:\\n\")\n",
    "for artist in top_streaming_artists:\n",
    "    streaming_mean = artist_mean_streaming[artist]\n",
    "    print(f\"{artist}: Avg Streaming Numbers = {streaming_mean}\\n\")\n",
    "\n",
    "print(\"\\nTop Artists with Highest YouTube Views:\\n\")\n",
    "for artist in top_youtube_artists:\n",
    "    youtube_mean = artist_mean_youtube[artist]\n",
    "    print(f\"{artist}: Avg YouTube Views = {youtube_mean}\\n\")\n",
    "\n",
    "\n"
   ]
  },
  {
   "cell_type": "code",
   "execution_count": 59,
   "id": "27a70dcb",
   "metadata": {
    "execution": {
     "iopub.execute_input": "2023-07-10T10:00:45.097089Z",
     "iopub.status.busy": "2023-07-10T10:00:45.096752Z",
     "iopub.status.idle": "2023-07-10T10:00:45.101845Z",
     "shell.execute_reply": "2023-07-10T10:00:45.100821Z"
    },
    "papermill": {
     "duration": 0.034978,
     "end_time": "2023-07-10T10:00:45.103653",
     "exception": false,
     "start_time": "2023-07-10T10:00:45.068675",
     "status": "completed"
    },
    "tags": []
   },
   "outputs": [
    {
     "name": "stdout",
     "output_type": "stream",
     "text": [
      "There is a significant difference between streaming numbers and YouTube views.\n"
     ]
    }
   ],
   "source": [
    "# Interpret the results\n",
    "alpha = 0.05  # Significance level\n",
    "if p_value < alpha:\n",
    "    print(\"There is a significant difference between streaming numbers and YouTube views.\")\n",
    "else:\n",
    "    print(\"There is no significant difference between streaming numbers and YouTube views.\")"
   ]
  },
  {
   "cell_type": "markdown",
   "id": "c6e782d8",
   "metadata": {
    "papermill": {
     "duration": 0.027103,
     "end_time": "2023-07-10T10:00:45.157974",
     "exception": false,
     "start_time": "2023-07-10T10:00:45.130871",
     "status": "completed"
    },
    "tags": []
   },
   "source": [
    "### Correlation Analysis between Streaming Numbers and YouTube Views Among Music Artists:"
   ]
  },
  {
   "cell_type": "code",
   "execution_count": 60,
   "id": "54b39f8f",
   "metadata": {
    "execution": {
     "iopub.execute_input": "2023-07-10T10:00:45.213133Z",
     "iopub.status.busy": "2023-07-10T10:00:45.212758Z",
     "iopub.status.idle": "2023-07-10T10:00:45.220119Z",
     "shell.execute_reply": "2023-07-10T10:00:45.219064Z"
    },
    "papermill": {
     "duration": 0.037624,
     "end_time": "2023-07-10T10:00:45.222073",
     "exception": false,
     "start_time": "2023-07-10T10:00:45.184449",
     "status": "completed"
    },
    "tags": []
   },
   "outputs": [
    {
     "name": "stdout",
     "output_type": "stream",
     "text": [
      "Correlation between Avg Streaming Numbers and Avg YouTube Views Among the Top Music Artists: 94.53%\n"
     ]
    }
   ],
   "source": [
    "# Create arrays for streaming numbers and YouTube views for the top artists\n",
    "streaming_numbers_top = np.array([artist_mean_streaming[artist] for artist in top_streaming_artists])\n",
    "youtube_views_top = np.array([artist_mean_youtube[artist] for artist in top_youtube_artists])\n",
    "\n",
    "# Perform correlation analysis\n",
    "correlation = np.corrcoef(streaming_numbers_top, youtube_views_top)[0, 1]\n",
    "correlation_percentage = correlation ** 2 * 100\n",
    "\n",
    "print(\"Correlation between Avg Streaming Numbers and Avg YouTube Views Among the Top Music Artists: {:.2f}%\".format(correlation_percentage))\n",
    "\n"
   ]
  }
 ],
 "metadata": {
  "kernelspec": {
   "display_name": "Python 3",
   "language": "python",
   "name": "python3"
  },
  "language_info": {
   "codemirror_mode": {
    "name": "ipython",
    "version": 3
   },
   "file_extension": ".py",
   "mimetype": "text/x-python",
   "name": "python",
   "nbconvert_exporter": "python",
   "pygments_lexer": "ipython3",
   "version": "3.10.10"
  },
  "papermill": {
   "default_parameters": {},
   "duration": 92.720112,
   "end_time": "2023-07-10T10:00:46.169679",
   "environment_variables": {},
   "exception": null,
   "input_path": "__notebook__.ipynb",
   "output_path": "__notebook__.ipynb",
   "parameters": {},
   "start_time": "2023-07-10T09:59:13.449567",
   "version": "2.4.0"
  }
 },
 "nbformat": 4,
 "nbformat_minor": 5
}
