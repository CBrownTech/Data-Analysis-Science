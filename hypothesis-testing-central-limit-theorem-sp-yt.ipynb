{
 "cells": [
  {
   "cell_type": "markdown",
   "id": "09c77d7e",
   "metadata": {
    "papermill": {
     "duration": 0.023271,
     "end_time": "2023-07-10T10:12:39.326599",
     "exception": false,
     "start_time": "2023-07-10T10:12:39.303328",
     "status": "completed"
    },
    "tags": []
   },
   "source": [
    "# Comparative Analysis of Streaming Numbers and YouTube Viewership\n",
    "\n",
    "#### *This project aims to analyze and compare various factors related to streaming numbers and YouTube viewership in the music industry. The analysis focuses on four main categories:*\n",
    "\n",
    "* ##### **Comparing Streaming Numbers and YouTube Viewership** \n",
    "\n",
    "* ##### **Comparing Numbers between Albums and Singles** \n",
    "\n",
    "* ##### **Comparing Numbers between Major and Minor Keys** \n",
    "\n",
    "* ##### **Comparing Numbers between Music Artists**\n",
    "\n",
    "#### *This project employs statistical techniques such as A/B testing, the Central Limit Theorem, hypothesis testing, and data visualization to derive meaningful insights and draw comparisons between the aforementioned categories.*"
   ]
  },
  {
   "cell_type": "markdown",
   "id": "397466d8",
   "metadata": {
    "papermill": {
     "duration": 0.021883,
     "end_time": "2023-07-10T10:12:39.371230",
     "exception": false,
     "start_time": "2023-07-10T10:12:39.349347",
     "status": "completed"
    },
    "tags": []
   },
   "source": [
    "### Libraries Used in the Project\n",
    "\n",
    "*  **Pandas (`import pandas as pd`):** Pandas is a powerful data manipulation library that provides high-performance data structures and data analysis tools. It is used in this project to read and handle the dataset, perform data grouping and aggregation, and facilitate data preprocessing tasks.\n",
    "\n",
    "*  **NumPy (`import numpy as np`):** NumPy is a fundamental library for numerical computing in Python. It provides efficient arrays and mathematical operations on arrays. NumPy is utilized in this project for array manipulation, generating random samples for the Central Limit Theorem, and performing statistical calculations.\n",
    "\n",
    "*  **Matplotlib (`import matplotlib.pyplot as plt`):** Matplotlib is a popular data visualization library in Python. It provides a wide range of plotting functions and capabilities. Matplotlib is used in this project to create various types of visualizations, including histograms, bar charts, and scatter plots, to analyze and present the data visually.\n",
    "\n",
    "* **SciPy (`from scipy.stats import ...`):** SciPy is a scientific computing library in Python that provides a wide range of statistical functions and tools. In this project, various functions from the scipy.stats module are imported:\n",
    " \n",
    " * ***ttest_ind:*** This function is used to perform an independent two-sample t-test, comparing the means of two groups.\n",
    " * ***ttest_rel:*** This function is used to perform a paired t-test, comparing the means of two related groups.\n",
    " * ***ttest_1samp:*** This function is used to perform a one-sample t-test, comparing the mean of a single group to a specified value.\n",
    " * ***norm:*** This class represents a normal distribution, which is used for generating random samples from a normal distribution in the Central Limit Theorem."
   ]
  },
  {
   "cell_type": "code",
   "execution_count": 1,
   "id": "07e6fe95",
   "metadata": {
    "execution": {
     "iopub.execute_input": "2023-07-10T10:12:39.418322Z",
     "iopub.status.busy": "2023-07-10T10:12:39.417568Z",
     "iopub.status.idle": "2023-07-10T10:12:40.748286Z",
     "shell.execute_reply": "2023-07-10T10:12:40.746995Z"
    },
    "executionCancelledAt": null,
    "executionTime": 48,
    "lastExecutedAt": 1688819996281,
    "lastScheduledRunId": null,
    "lastSuccessfullyExecutedCode": "import pandas as pd\nimport numpy as np\nimport matplotlib.pyplot as plt\nfrom scipy.stats import ttest_ind",
    "papermill": {
     "duration": 1.357946,
     "end_time": "2023-07-10T10:12:40.751321",
     "exception": false,
     "start_time": "2023-07-10T10:12:39.393375",
     "status": "completed"
    },
    "tags": []
   },
   "outputs": [],
   "source": [
    "import pandas as pd\n",
    "import numpy as np\n",
    "import matplotlib.pyplot as plt\n",
    "from scipy.stats import ttest_ind\n",
    "from scipy.stats import ttest_rel\n",
    "from scipy.stats import ttest_1samp\n",
    "from scipy.stats import norm"
   ]
  },
  {
   "cell_type": "code",
   "execution_count": 2,
   "id": "556c6af1",
   "metadata": {
    "execution": {
     "iopub.execute_input": "2023-07-10T10:12:40.799197Z",
     "iopub.status.busy": "2023-07-10T10:12:40.798784Z",
     "iopub.status.idle": "2023-07-10T10:12:41.980783Z",
     "shell.execute_reply": "2023-07-10T10:12:41.979606Z"
    },
    "executionCancelledAt": null,
    "executionTime": 472,
    "lastExecutedAt": 1688819996753,
    "lastScheduledRunId": null,
    "lastSuccessfullyExecutedCode": "df = pd.read_csv('Spotify_Youtube.csv')\ndf",
    "papermill": {
     "duration": 1.209186,
     "end_time": "2023-07-10T10:12:41.984084",
     "exception": false,
     "start_time": "2023-07-10T10:12:40.774898",
     "status": "completed"
    },
    "tags": []
   },
   "outputs": [
    {
     "data": {
      "text/html": [
       "<div>\n",
       "<style scoped>\n",
       "    .dataframe tbody tr th:only-of-type {\n",
       "        vertical-align: middle;\n",
       "    }\n",
       "\n",
       "    .dataframe tbody tr th {\n",
       "        vertical-align: top;\n",
       "    }\n",
       "\n",
       "    .dataframe thead th {\n",
       "        text-align: right;\n",
       "    }\n",
       "</style>\n",
       "<table border=\"1\" class=\"dataframe\">\n",
       "  <thead>\n",
       "    <tr style=\"text-align: right;\">\n",
       "      <th></th>\n",
       "      <th>Unnamed: 0</th>\n",
       "      <th>Artist</th>\n",
       "      <th>Url_spotify</th>\n",
       "      <th>Track</th>\n",
       "      <th>Album</th>\n",
       "      <th>Album_type</th>\n",
       "      <th>Uri</th>\n",
       "      <th>Danceability</th>\n",
       "      <th>Energy</th>\n",
       "      <th>Key</th>\n",
       "      <th>...</th>\n",
       "      <th>Url_youtube</th>\n",
       "      <th>Title</th>\n",
       "      <th>Channel</th>\n",
       "      <th>Views</th>\n",
       "      <th>Likes</th>\n",
       "      <th>Comments</th>\n",
       "      <th>Description</th>\n",
       "      <th>Licensed</th>\n",
       "      <th>official_video</th>\n",
       "      <th>Stream</th>\n",
       "    </tr>\n",
       "  </thead>\n",
       "  <tbody>\n",
       "    <tr>\n",
       "      <th>0</th>\n",
       "      <td>0</td>\n",
       "      <td>Gorillaz</td>\n",
       "      <td>https://open.spotify.com/artist/3AA28KZvwAUcZu...</td>\n",
       "      <td>Feel Good Inc.</td>\n",
       "      <td>Demon Days</td>\n",
       "      <td>album</td>\n",
       "      <td>spotify:track:0d28khcov6AiegSCpG5TuT</td>\n",
       "      <td>0.818</td>\n",
       "      <td>0.705</td>\n",
       "      <td>6.0</td>\n",
       "      <td>...</td>\n",
       "      <td>https://www.youtube.com/watch?v=HyHNuVaZJ-k</td>\n",
       "      <td>Gorillaz - Feel Good Inc. (Official Video)</td>\n",
       "      <td>Gorillaz</td>\n",
       "      <td>693555221.0</td>\n",
       "      <td>6220896.0</td>\n",
       "      <td>169907.0</td>\n",
       "      <td>Official HD Video for Gorillaz' fantastic trac...</td>\n",
       "      <td>True</td>\n",
       "      <td>True</td>\n",
       "      <td>1.040235e+09</td>\n",
       "    </tr>\n",
       "    <tr>\n",
       "      <th>1</th>\n",
       "      <td>1</td>\n",
       "      <td>Gorillaz</td>\n",
       "      <td>https://open.spotify.com/artist/3AA28KZvwAUcZu...</td>\n",
       "      <td>Rhinestone Eyes</td>\n",
       "      <td>Plastic Beach</td>\n",
       "      <td>album</td>\n",
       "      <td>spotify:track:1foMv2HQwfQ2vntFf9HFeG</td>\n",
       "      <td>0.676</td>\n",
       "      <td>0.703</td>\n",
       "      <td>8.0</td>\n",
       "      <td>...</td>\n",
       "      <td>https://www.youtube.com/watch?v=yYDmaexVHic</td>\n",
       "      <td>Gorillaz - Rhinestone Eyes [Storyboard Film] (...</td>\n",
       "      <td>Gorillaz</td>\n",
       "      <td>72011645.0</td>\n",
       "      <td>1079128.0</td>\n",
       "      <td>31003.0</td>\n",
       "      <td>The official video for Gorillaz - Rhinestone E...</td>\n",
       "      <td>True</td>\n",
       "      <td>True</td>\n",
       "      <td>3.100837e+08</td>\n",
       "    </tr>\n",
       "    <tr>\n",
       "      <th>2</th>\n",
       "      <td>2</td>\n",
       "      <td>Gorillaz</td>\n",
       "      <td>https://open.spotify.com/artist/3AA28KZvwAUcZu...</td>\n",
       "      <td>New Gold (feat. Tame Impala and Bootie Brown)</td>\n",
       "      <td>New Gold (feat. Tame Impala and Bootie Brown)</td>\n",
       "      <td>single</td>\n",
       "      <td>spotify:track:64dLd6rVqDLtkXFYrEUHIU</td>\n",
       "      <td>0.695</td>\n",
       "      <td>0.923</td>\n",
       "      <td>1.0</td>\n",
       "      <td>...</td>\n",
       "      <td>https://www.youtube.com/watch?v=qJa-VFwPpYA</td>\n",
       "      <td>Gorillaz - New Gold ft. Tame Impala &amp; Bootie B...</td>\n",
       "      <td>Gorillaz</td>\n",
       "      <td>8435055.0</td>\n",
       "      <td>282142.0</td>\n",
       "      <td>7399.0</td>\n",
       "      <td>Gorillaz - New Gold ft. Tame Impala &amp; Bootie B...</td>\n",
       "      <td>True</td>\n",
       "      <td>True</td>\n",
       "      <td>6.306347e+07</td>\n",
       "    </tr>\n",
       "    <tr>\n",
       "      <th>3</th>\n",
       "      <td>3</td>\n",
       "      <td>Gorillaz</td>\n",
       "      <td>https://open.spotify.com/artist/3AA28KZvwAUcZu...</td>\n",
       "      <td>On Melancholy Hill</td>\n",
       "      <td>Plastic Beach</td>\n",
       "      <td>album</td>\n",
       "      <td>spotify:track:0q6LuUqGLUiCPP1cbdwFs3</td>\n",
       "      <td>0.689</td>\n",
       "      <td>0.739</td>\n",
       "      <td>2.0</td>\n",
       "      <td>...</td>\n",
       "      <td>https://www.youtube.com/watch?v=04mfKJWDSzI</td>\n",
       "      <td>Gorillaz - On Melancholy Hill (Official Video)</td>\n",
       "      <td>Gorillaz</td>\n",
       "      <td>211754952.0</td>\n",
       "      <td>1788577.0</td>\n",
       "      <td>55229.0</td>\n",
       "      <td>Follow Gorillaz online:\\nhttp://gorillaz.com \\...</td>\n",
       "      <td>True</td>\n",
       "      <td>True</td>\n",
       "      <td>4.346636e+08</td>\n",
       "    </tr>\n",
       "    <tr>\n",
       "      <th>4</th>\n",
       "      <td>4</td>\n",
       "      <td>Gorillaz</td>\n",
       "      <td>https://open.spotify.com/artist/3AA28KZvwAUcZu...</td>\n",
       "      <td>Clint Eastwood</td>\n",
       "      <td>Gorillaz</td>\n",
       "      <td>album</td>\n",
       "      <td>spotify:track:7yMiX7n9SBvadzox8T5jzT</td>\n",
       "      <td>0.663</td>\n",
       "      <td>0.694</td>\n",
       "      <td>10.0</td>\n",
       "      <td>...</td>\n",
       "      <td>https://www.youtube.com/watch?v=1V_xRb0x9aw</td>\n",
       "      <td>Gorillaz - Clint Eastwood (Official Video)</td>\n",
       "      <td>Gorillaz</td>\n",
       "      <td>618480958.0</td>\n",
       "      <td>6197318.0</td>\n",
       "      <td>155930.0</td>\n",
       "      <td>The official music video for Gorillaz - Clint ...</td>\n",
       "      <td>True</td>\n",
       "      <td>True</td>\n",
       "      <td>6.172597e+08</td>\n",
       "    </tr>\n",
       "  </tbody>\n",
       "</table>\n",
       "<p>5 rows × 28 columns</p>\n",
       "</div>"
      ],
      "text/plain": [
       "   Unnamed: 0    Artist                                        Url_spotify  \\\n",
       "0           0  Gorillaz  https://open.spotify.com/artist/3AA28KZvwAUcZu...   \n",
       "1           1  Gorillaz  https://open.spotify.com/artist/3AA28KZvwAUcZu...   \n",
       "2           2  Gorillaz  https://open.spotify.com/artist/3AA28KZvwAUcZu...   \n",
       "3           3  Gorillaz  https://open.spotify.com/artist/3AA28KZvwAUcZu...   \n",
       "4           4  Gorillaz  https://open.spotify.com/artist/3AA28KZvwAUcZu...   \n",
       "\n",
       "                                           Track  \\\n",
       "0                                 Feel Good Inc.   \n",
       "1                                Rhinestone Eyes   \n",
       "2  New Gold (feat. Tame Impala and Bootie Brown)   \n",
       "3                             On Melancholy Hill   \n",
       "4                                 Clint Eastwood   \n",
       "\n",
       "                                           Album Album_type  \\\n",
       "0                                     Demon Days      album   \n",
       "1                                  Plastic Beach      album   \n",
       "2  New Gold (feat. Tame Impala and Bootie Brown)     single   \n",
       "3                                  Plastic Beach      album   \n",
       "4                                       Gorillaz      album   \n",
       "\n",
       "                                    Uri  Danceability  Energy   Key  ...  \\\n",
       "0  spotify:track:0d28khcov6AiegSCpG5TuT         0.818   0.705   6.0  ...   \n",
       "1  spotify:track:1foMv2HQwfQ2vntFf9HFeG         0.676   0.703   8.0  ...   \n",
       "2  spotify:track:64dLd6rVqDLtkXFYrEUHIU         0.695   0.923   1.0  ...   \n",
       "3  spotify:track:0q6LuUqGLUiCPP1cbdwFs3         0.689   0.739   2.0  ...   \n",
       "4  spotify:track:7yMiX7n9SBvadzox8T5jzT         0.663   0.694  10.0  ...   \n",
       "\n",
       "                                   Url_youtube  \\\n",
       "0  https://www.youtube.com/watch?v=HyHNuVaZJ-k   \n",
       "1  https://www.youtube.com/watch?v=yYDmaexVHic   \n",
       "2  https://www.youtube.com/watch?v=qJa-VFwPpYA   \n",
       "3  https://www.youtube.com/watch?v=04mfKJWDSzI   \n",
       "4  https://www.youtube.com/watch?v=1V_xRb0x9aw   \n",
       "\n",
       "                                               Title   Channel        Views  \\\n",
       "0         Gorillaz - Feel Good Inc. (Official Video)  Gorillaz  693555221.0   \n",
       "1  Gorillaz - Rhinestone Eyes [Storyboard Film] (...  Gorillaz   72011645.0   \n",
       "2  Gorillaz - New Gold ft. Tame Impala & Bootie B...  Gorillaz    8435055.0   \n",
       "3     Gorillaz - On Melancholy Hill (Official Video)  Gorillaz  211754952.0   \n",
       "4         Gorillaz - Clint Eastwood (Official Video)  Gorillaz  618480958.0   \n",
       "\n",
       "       Likes  Comments                                        Description  \\\n",
       "0  6220896.0  169907.0  Official HD Video for Gorillaz' fantastic trac...   \n",
       "1  1079128.0   31003.0  The official video for Gorillaz - Rhinestone E...   \n",
       "2   282142.0    7399.0  Gorillaz - New Gold ft. Tame Impala & Bootie B...   \n",
       "3  1788577.0   55229.0  Follow Gorillaz online:\\nhttp://gorillaz.com \\...   \n",
       "4  6197318.0  155930.0  The official music video for Gorillaz - Clint ...   \n",
       "\n",
       "   Licensed official_video        Stream  \n",
       "0      True           True  1.040235e+09  \n",
       "1      True           True  3.100837e+08  \n",
       "2      True           True  6.306347e+07  \n",
       "3      True           True  4.346636e+08  \n",
       "4      True           True  6.172597e+08  \n",
       "\n",
       "[5 rows x 28 columns]"
      ]
     },
     "execution_count": 2,
     "metadata": {},
     "output_type": "execute_result"
    }
   ],
   "source": [
    "df = pd.read_csv('/kaggle/input/spotify-and-youtube/Spotify_Youtube.csv')\n",
    "df.head()"
   ]
  },
  {
   "cell_type": "markdown",
   "id": "962bc407",
   "metadata": {
    "papermill": {
     "duration": 0.022662,
     "end_time": "2023-07-10T10:12:42.031123",
     "exception": false,
     "start_time": "2023-07-10T10:12:42.008461",
     "status": "completed"
    },
    "tags": []
   },
   "source": [
    "## Comparing Streaming Numbers and YouTube Views: \n",
    "\n",
    "The project examines the relationship between the streaming numbers on Spotify and the viewership of official music videos on YouTube for individual songs. By comparing these metrics, insights can be gained into the popularity and consumption patterns of music across the two platforms.\n",
    "\n",
    "* **Null Hypothesis (H0):** There is no significant difference between the mean streaming numbers and mean YouTube views for songs in the dataset.\n",
    "* **Alternative Hypothesis (H1):** There is a significant difference between the mean streaming numbers and mean YouTube views for songs in the dataset."
   ]
  },
  {
   "cell_type": "code",
   "execution_count": 3,
   "id": "1698d390",
   "metadata": {
    "execution": {
     "iopub.execute_input": "2023-07-10T10:12:42.079135Z",
     "iopub.status.busy": "2023-07-10T10:12:42.078700Z",
     "iopub.status.idle": "2023-07-10T10:12:42.083606Z",
     "shell.execute_reply": "2023-07-10T10:12:42.082777Z"
    },
    "executionCancelledAt": null,
    "executionTime": 48,
    "lastExecutedAt": 1688819996801,
    "lastScheduledRunId": null,
    "lastSuccessfullyExecutedCode": "spotify_streaming = df['Stream']\nyoutube_views = df['Views']",
    "papermill": {
     "duration": 0.031126,
     "end_time": "2023-07-10T10:12:42.085665",
     "exception": false,
     "start_time": "2023-07-10T10:12:42.054539",
     "status": "completed"
    },
    "tags": []
   },
   "outputs": [],
   "source": [
    "spotify_streaming = df['Stream']\n",
    "youtube_views = df['Views']"
   ]
  },
  {
   "cell_type": "markdown",
   "id": "4214de3c",
   "metadata": {
    "papermill": {
     "duration": 0.022513,
     "end_time": "2023-07-10T10:12:42.130876",
     "exception": false,
     "start_time": "2023-07-10T10:12:42.108363",
     "status": "completed"
    },
    "tags": []
   },
   "source": [
    "To compare the streaming numbers and YouTube views, the code line `spotify_streaming = df['Stream']` and `youtube_views = df['Views']` is used.\n",
    "\n",
    "These assignments allow us to access and work with the streaming numbers and YouTube views as separate variables, enabling us to explore their relationships, calculate statistics, and create visualizations to gain insights into the popularity and consumption patterns of songs across the Spotify and YouTube platforms."
   ]
  },
  {
   "cell_type": "code",
   "execution_count": 4,
   "id": "cbf102b3",
   "metadata": {
    "execution": {
     "iopub.execute_input": "2023-07-10T10:12:42.180124Z",
     "iopub.status.busy": "2023-07-10T10:12:42.179377Z",
     "iopub.status.idle": "2023-07-10T10:12:42.187469Z",
     "shell.execute_reply": "2023-07-10T10:12:42.186242Z"
    },
    "executionCancelledAt": null,
    "executionTime": 56,
    "lastExecutedAt": 1688819996857,
    "lastScheduledRunId": null,
    "lastSuccessfullyExecutedCode": "youtube_views\nspotify_streaming",
    "papermill": {
     "duration": 0.036097,
     "end_time": "2023-07-10T10:12:42.189888",
     "exception": false,
     "start_time": "2023-07-10T10:12:42.153791",
     "status": "completed"
    },
    "tags": []
   },
   "outputs": [
    {
     "data": {
      "text/plain": [
       "0    1.040235e+09\n",
       "1    3.100837e+08\n",
       "2    6.306347e+07\n",
       "3    4.346636e+08\n",
       "4    6.172597e+08\n",
       "Name: Stream, dtype: float64"
      ]
     },
     "execution_count": 4,
     "metadata": {},
     "output_type": "execute_result"
    }
   ],
   "source": [
    "youtube_views.head()\n",
    "spotify_streaming.head()"
   ]
  },
  {
   "cell_type": "markdown",
   "id": "3de0ed91",
   "metadata": {
    "papermill": {
     "duration": 0.022658,
     "end_time": "2023-07-10T10:12:42.235494",
     "exception": false,
     "start_time": "2023-07-10T10:12:42.212836",
     "status": "completed"
    },
    "tags": []
   },
   "source": [
    "### Checking and Cleaning NaN Values\n",
    "\n",
    "To ensure data integrity and handle missing values, the following code lines are used to check for NaN values and perform data cleaning:"
   ]
  },
  {
   "cell_type": "code",
   "execution_count": 5,
   "id": "101da220",
   "metadata": {
    "execution": {
     "iopub.execute_input": "2023-07-10T10:12:42.283936Z",
     "iopub.status.busy": "2023-07-10T10:12:42.283201Z",
     "iopub.status.idle": "2023-07-10T10:12:42.291848Z",
     "shell.execute_reply": "2023-07-10T10:12:42.290495Z"
    },
    "executionCancelledAt": null,
    "executionTime": 49,
    "lastExecutedAt": 1688819996906,
    "lastScheduledRunId": null,
    "lastSuccessfullyExecutedCode": "# Check for NaN values in spotify_streaming\nspotify_has_nans = np.isnan(spotify_streaming).any()\nif spotify_has_nans:\n    print(\"spotify_streaming contains NaN values.\")\nelse:\n    print(\"spotify_streaming does not contain NaN values.\")\n\n# Check for NaN values in youtube_views\nyoutube_has_nans = np.isnan(youtube_views).any()\nif youtube_has_nans:\n    print(\"youtube_views contains NaN values.\")\nelse:\n    print(\"youtube_views does not contain NaN values.\")",
    "papermill": {
     "duration": 0.036087,
     "end_time": "2023-07-10T10:12:42.294593",
     "exception": false,
     "start_time": "2023-07-10T10:12:42.258506",
     "status": "completed"
    },
    "tags": []
   },
   "outputs": [
    {
     "name": "stdout",
     "output_type": "stream",
     "text": [
      "spotify_streaming contains NaN values.\n",
      "youtube_views contains NaN values.\n"
     ]
    }
   ],
   "source": [
    "# Check for NaN values in spotify_streaming\n",
    "spotify_has_nans = np.isnan(spotify_streaming).any()\n",
    "if spotify_has_nans:\n",
    "    print(\"spotify_streaming contains NaN values.\")\n",
    "else:\n",
    "    print(\"spotify_streaming does not contain NaN values.\")\n",
    "\n",
    "# Check for NaN values in youtube_views\n",
    "youtube_has_nans = np.isnan(youtube_views).any()\n",
    "if youtube_has_nans:\n",
    "    print(\"youtube_views contains NaN values.\")\n",
    "else:\n",
    "    print(\"youtube_views does not contain NaN values.\")"
   ]
  },
  {
   "cell_type": "markdown",
   "id": "6077dbfe",
   "metadata": {
    "papermill": {
     "duration": 0.02263,
     "end_time": "2023-07-10T10:12:42.340189",
     "exception": false,
     "start_time": "2023-07-10T10:12:42.317559",
     "status": "completed"
    },
    "tags": []
   },
   "source": [
    "##### Filling NaN values with zero:\n",
    "This code line uses the fillna() method to replace any NaN values in spotify_streaming and youtube_views with zeros (0). This data cleaning step ensures consistency in the dataset and prevents any potential issues or errors in further analysis. This data cleaning method will be applied to the rest of the categories:"
   ]
  },
  {
   "cell_type": "code",
   "execution_count": 6,
   "id": "ed45f0f6",
   "metadata": {
    "execution": {
     "iopub.execute_input": "2023-07-10T10:12:42.388049Z",
     "iopub.status.busy": "2023-07-10T10:12:42.387237Z",
     "iopub.status.idle": "2023-07-10T10:12:42.394779Z",
     "shell.execute_reply": "2023-07-10T10:12:42.393890Z"
    },
    "executionCancelledAt": null,
    "executionTime": 47,
    "lastExecutedAt": 1688819996953,
    "lastScheduledRunId": null,
    "lastSuccessfullyExecutedCode": "# Fill NaN values with zero\nspotify_streaming = spotify_streaming.fillna(0)\nyoutube_views = youtube_views.fillna(0)\n",
    "papermill": {
     "duration": 0.034113,
     "end_time": "2023-07-10T10:12:42.397123",
     "exception": false,
     "start_time": "2023-07-10T10:12:42.363010",
     "status": "completed"
    },
    "tags": []
   },
   "outputs": [],
   "source": [
    "# Fill NaN values with zero\n",
    "spotify_streaming = spotify_streaming.fillna(0)\n",
    "youtube_views = youtube_views.fillna(0)\n"
   ]
  },
  {
   "cell_type": "code",
   "execution_count": 7,
   "id": "122d2c45",
   "metadata": {
    "execution": {
     "iopub.execute_input": "2023-07-10T10:12:42.446348Z",
     "iopub.status.busy": "2023-07-10T10:12:42.445478Z",
     "iopub.status.idle": "2023-07-10T10:12:42.450172Z",
     "shell.execute_reply": "2023-07-10T10:12:42.449187Z"
    },
    "executionCancelledAt": null,
    "executionTime": 51,
    "lastExecutedAt": 1688819997005,
    "lastScheduledRunId": null,
    "lastSuccessfullyExecutedCode": "# Step 6: Perform statistical analysis using the Central Limit Theorem\n\n# Set the number of iterations and the sample size for each iteration\nnum_iterations = 1000\nsample_size = 30",
    "papermill": {
     "duration": 0.032113,
     "end_time": "2023-07-10T10:12:42.452660",
     "exception": false,
     "start_time": "2023-07-10T10:12:42.420547",
     "status": "completed"
    },
    "tags": []
   },
   "outputs": [],
   "source": [
    "# Perform statistical analysis using the Central Limit Theorem\n",
    "\n",
    "# Set the number of iterations and the sample size for each iteration\n",
    "num_iterations = 1000\n",
    "sample_size = 30"
   ]
  },
  {
   "cell_type": "code",
   "execution_count": 8,
   "id": "54da269b",
   "metadata": {
    "execution": {
     "iopub.execute_input": "2023-07-10T10:12:42.502351Z",
     "iopub.status.busy": "2023-07-10T10:12:42.501688Z",
     "iopub.status.idle": "2023-07-10T10:12:42.507039Z",
     "shell.execute_reply": "2023-07-10T10:12:42.505943Z"
    },
    "executionCancelledAt": null,
    "executionTime": 47,
    "lastExecutedAt": 1688819997053,
    "lastScheduledRunId": null,
    "lastSuccessfullyExecutedCode": "# Create an array to store the sample means\nsample_means = np.zeros(num_iterations)",
    "papermill": {
     "duration": 0.033338,
     "end_time": "2023-07-10T10:12:42.509439",
     "exception": false,
     "start_time": "2023-07-10T10:12:42.476101",
     "status": "completed"
    },
    "tags": []
   },
   "outputs": [],
   "source": [
    "# Create an array to store the sample means\n",
    "sample_means = np.zeros(num_iterations)"
   ]
  },
  {
   "cell_type": "code",
   "execution_count": 9,
   "id": "c870431f",
   "metadata": {
    "execution": {
     "iopub.execute_input": "2023-07-10T10:12:42.558122Z",
     "iopub.status.busy": "2023-07-10T10:12:42.557414Z",
     "iopub.status.idle": "2023-07-10T10:12:42.665746Z",
     "shell.execute_reply": "2023-07-10T10:12:42.664540Z"
    },
    "executionCancelledAt": null,
    "executionTime": 111,
    "lastExecutedAt": 1688819997165,
    "lastScheduledRunId": null,
    "lastSuccessfullyExecutedCode": "# Iterate through the specified number of iterations\nfor i in range(num_iterations):\n    # Randomly sample from Spotify streaming and calculate the sample mean\n    spotify_sample = np.random.choice(spotify_streaming, size=sample_size, replace=True)\n    spotify_sample_mean = np.mean(spotify_sample)\n\n    # Randomly sample from YouTube views and calculate the sample mean\n    youtube_sample = np.random.choice(youtube_views, size=sample_size, replace=True)\n    youtube_sample_mean = np.mean(youtube_sample)\n\n    # Calculate the difference in sample means\n    sample_means[i] = spotify_sample_mean - youtube_sample_mean",
    "papermill": {
     "duration": 0.136087,
     "end_time": "2023-07-10T10:12:42.668549",
     "exception": false,
     "start_time": "2023-07-10T10:12:42.532462",
     "status": "completed"
    },
    "tags": []
   },
   "outputs": [],
   "source": [
    "# Iterate through the specified number of iterations\n",
    "for i in range(num_iterations):\n",
    "    # Randomly sample from Spotify streaming and calculate the sample mean\n",
    "    spotify_sample = np.random.choice(spotify_streaming, size=sample_size, replace=True)\n",
    "    spotify_sample_mean = np.mean(spotify_sample)\n",
    "\n",
    "    # Randomly sample from YouTube views and calculate the sample mean\n",
    "    youtube_sample = np.random.choice(youtube_views, size=sample_size, replace=True)\n",
    "    youtube_sample_mean = np.mean(youtube_sample)\n",
    "\n",
    "    # Calculate the difference in sample means\n",
    "    sample_means[i] = spotify_sample_mean - youtube_sample_mean"
   ]
  },
  {
   "cell_type": "code",
   "execution_count": 10,
   "id": "318a738e",
   "metadata": {
    "execution": {
     "iopub.execute_input": "2023-07-10T10:12:42.717583Z",
     "iopub.status.busy": "2023-07-10T10:12:42.717148Z",
     "iopub.status.idle": "2023-07-10T10:12:42.729449Z",
     "shell.execute_reply": "2023-07-10T10:12:42.728237Z"
    },
    "executionCancelledAt": null,
    "executionTime": 48,
    "lastExecutedAt": 1688819997213,
    "lastScheduledRunId": null,
    "lastSuccessfullyExecutedCode": "# Perform statistical test on the original data\nt_stat, p_value = ttest_ind(spotify_streaming, youtube_views)\nt_stat, p_value",
    "papermill": {
     "duration": 0.039716,
     "end_time": "2023-07-10T10:12:42.731894",
     "exception": false,
     "start_time": "2023-07-10T10:12:42.692178",
     "status": "completed"
    },
    "tags": []
   },
   "outputs": [
    {
     "data": {
      "text/plain": [
       "(15.966448914758043, 3.244680051127646e-57)"
      ]
     },
     "execution_count": 10,
     "metadata": {},
     "output_type": "execute_result"
    }
   ],
   "source": [
    "# Perform statistical test on the original data\n",
    "t_stat, p_value = ttest_ind(spotify_streaming, youtube_views)\n",
    "t_stat, p_value"
   ]
  },
  {
   "cell_type": "code",
   "execution_count": 11,
   "id": "fbe81294",
   "metadata": {
    "execution": {
     "iopub.execute_input": "2023-07-10T10:12:42.780673Z",
     "iopub.status.busy": "2023-07-10T10:12:42.780249Z",
     "iopub.status.idle": "2023-07-10T10:12:43.215209Z",
     "shell.execute_reply": "2023-07-10T10:12:43.213779Z"
    },
    "papermill": {
     "duration": 0.463317,
     "end_time": "2023-07-10T10:12:43.218972",
     "exception": false,
     "start_time": "2023-07-10T10:12:42.755655",
     "status": "completed"
    },
    "tags": []
   },
   "outputs": [
    {
     "data": {
      "image/png": "[encoded data removed]",
      "text/plain": [
       "<Figure size 640x480 with 1 Axes>"
      ]
     },
     "metadata": {},
     "output_type": "display_data"
    }
   ],
   "source": [
    "# Plot a histogram of the sampling distribution\n",
    "plt.hist(sample_means, bins=30, alpha=0.5, edgecolor='black')\n",
    "plt.xlabel('Difference in Sample Means')\n",
    "plt.ylabel('Frequency')\n",
    "plt.title('Sampling Distribution of Difference in Sample Means')\n",
    "plt.grid(True)\n",
    "\n",
    "# Add a vertical line to represent the observed difference in sample means\n",
    "observed_diff = np.mean(spotify_streaming) - np.mean(youtube_views)\n",
    "plt.axvline(x=observed_diff, color='red', linestyle='--', label='Observed Difference')\n",
    "plt.legend()\n",
    "\n",
    "plt.show()"
   ]
  },
  {
   "cell_type": "code",
   "execution_count": 12,
   "id": "f889cc94",
   "metadata": {
    "execution": {
     "iopub.execute_input": "2023-07-10T10:12:43.270129Z",
     "iopub.status.busy": "2023-07-10T10:12:43.269718Z",
     "iopub.status.idle": "2023-07-10T10:12:43.275989Z",
     "shell.execute_reply": "2023-07-10T10:12:43.275123Z"
    },
    "executionCancelledAt": null,
    "executionTime": 50,
    "lastExecutedAt": 1688819997263,
    "lastScheduledRunId": null,
    "lastSuccessfullyExecutedCode": "# Step 7: Interpret the results\nalpha = 0.05  # Significance level\nif p_value < alpha:\n    print(\"There is a significant difference between Spotify streaming and YouTube views.\")\nelse:\n    print(\"There is no significant difference between Spotify streaming and YouTube views.\")\n",
    "papermill": {
     "duration": 0.034095,
     "end_time": "2023-07-10T10:12:43.278632",
     "exception": false,
     "start_time": "2023-07-10T10:12:43.244537",
     "status": "completed"
    },
    "tags": []
   },
   "outputs": [
    {
     "name": "stdout",
     "output_type": "stream",
     "text": [
      "There is a significant difference between Spotify streaming and YouTube views.\n"
     ]
    }
   ],
   "source": [
    "# Interpret the results\n",
    "alpha = 0.05  # Significance level\n",
    "if p_value < alpha:\n",
    "    print(\"There is a significant difference between Spotify streaming and YouTube views.\")\n",
    "else:\n",
    "    print(\"There is no significant difference between Spotify streaming and YouTube views.\")\n"
   ]
  },
  {
   "cell_type": "code",
   "execution_count": 13,
   "id": "3661864d",
   "metadata": {
    "execution": {
     "iopub.execute_input": "2023-07-10T10:12:43.332443Z",
     "iopub.status.busy": "2023-07-10T10:12:43.332059Z",
     "iopub.status.idle": "2023-07-10T10:12:43.339846Z",
     "shell.execute_reply": "2023-07-10T10:12:43.338382Z"
    },
    "executionCancelledAt": null,
    "executionTime": 50,
    "lastExecutedAt": 1688819997313,
    "lastScheduledRunId": null,
    "lastSuccessfullyExecutedCode": "# Additional analysis\nspotify_mean = np.mean(spotify_streaming)\nyoutube_mean = np.mean(youtube_views)\nprint(\"Mean Spotify streaming:\", spotify_mean)\nprint(\"Mean YouTube views:\", youtube_mean)\n",
    "papermill": {
     "duration": 0.038789,
     "end_time": "2023-07-10T10:12:43.342480",
     "exception": false,
     "start_time": "2023-07-10T10:12:43.303691",
     "status": "completed"
    },
    "tags": []
   },
   "outputs": [
    {
     "name": "stdout",
     "output_type": "stream",
     "text": [
      "Mean Spotify streaming: 132162737.65295878\n",
      "Mean YouTube views: 91806786.48069312\n"
     ]
    }
   ],
   "source": [
    "# Additional analysis\n",
    "spotify_mean = np.mean(spotify_streaming)\n",
    "youtube_mean = np.mean(youtube_views)\n",
    "print(\"Mean Spotify streaming:\", spotify_mean)\n",
    "print(\"Mean YouTube views:\", youtube_mean)\n"
   ]
  },
  {
   "cell_type": "code",
   "execution_count": 14,
   "id": "4794b310",
   "metadata": {
    "execution": {
     "iopub.execute_input": "2023-07-10T10:12:43.392912Z",
     "iopub.status.busy": "2023-07-10T10:12:43.392527Z",
     "iopub.status.idle": "2023-07-10T10:12:43.401181Z",
     "shell.execute_reply": "2023-07-10T10:12:43.399845Z"
    },
    "executionCancelledAt": null,
    "executionTime": 49,
    "lastExecutedAt": 1688819997362,
    "lastScheduledRunId": null,
    "lastSuccessfullyExecutedCode": "# Step 8: Calculate the mean and standard deviation of the sampling distribution\nsampling_mean = np.mean(sample_means)\nsampling_std = np.std(sample_means)\nsampling_mean, sampling_std",
    "papermill": {
     "duration": 0.036715,
     "end_time": "2023-07-10T10:12:43.403346",
     "exception": false,
     "start_time": "2023-07-10T10:12:43.366631",
     "status": "completed"
    },
    "tags": []
   },
   "outputs": [
    {
     "data": {
      "text/plain": [
       "(44708027.759399995, 65679334.78581383)"
      ]
     },
     "execution_count": 14,
     "metadata": {},
     "output_type": "execute_result"
    }
   ],
   "source": [
    "# Calculate the mean and standard deviation of the sampling distribution\n",
    "sampling_mean = np.mean(sample_means)\n",
    "sampling_std = np.std(sample_means)\n",
    "sampling_mean, sampling_std"
   ]
  },
  {
   "cell_type": "code",
   "execution_count": 15,
   "id": "6579c27d",
   "metadata": {
    "execution": {
     "iopub.execute_input": "2023-07-10T10:12:43.452983Z",
     "iopub.status.busy": "2023-07-10T10:12:43.452539Z",
     "iopub.status.idle": "2023-07-10T10:12:43.462387Z",
     "shell.execute_reply": "2023-07-10T10:12:43.461161Z"
    },
    "executionCancelledAt": null,
    "executionTime": 48,
    "lastExecutedAt": 1688819997410,
    "lastScheduledRunId": null,
    "lastSuccessfullyExecutedCode": "# Step 9: Hypothesis testing on the sampling distribution\nfrom scipy.stats import ttest_1samp\n\nhypothesized_mean_diff = 0  # hypothesized difference in means (null hypothesis)\nt_stat_sampling, p_value_sampling = ttest_1samp(sample_means, hypothesized_mean_diff)\nt_stat_sampling, p_value_sampling",
    "papermill": {
     "duration": 0.03776,
     "end_time": "2023-07-10T10:12:43.464966",
     "exception": false,
     "start_time": "2023-07-10T10:12:43.427206",
     "status": "completed"
    },
    "tags": []
   },
   "outputs": [
    {
     "data": {
      "text/plain": [
       "(21.514908851408084, 1.1447562260808602e-84)"
      ]
     },
     "execution_count": 15,
     "metadata": {},
     "output_type": "execute_result"
    }
   ],
   "source": [
    "# Hypothesis testing on the sampling distribution\n",
    "\n",
    "hypothesized_mean_diff = 0  # hypothesized difference in means (null hypothesis)\n",
    "t_stat_sampling, p_value_sampling = ttest_1samp(sample_means, hypothesized_mean_diff)\n",
    "t_stat_sampling, p_value_sampling"
   ]
  },
  {
   "cell_type": "code",
   "execution_count": 16,
   "id": "472e2fbe",
   "metadata": {
    "execution": {
     "iopub.execute_input": "2023-07-10T10:12:43.516685Z",
     "iopub.status.busy": "2023-07-10T10:12:43.515237Z",
     "iopub.status.idle": "2023-07-10T10:12:43.522796Z",
     "shell.execute_reply": "2023-07-10T10:12:43.521365Z"
    },
    "executionCancelledAt": null,
    "executionTime": 47,
    "lastExecutedAt": 1688819997457,
    "lastScheduledRunId": null,
    "lastSuccessfullyExecutedCode": "# Step 10: Interpret the results of hypothesis testing\nif p_value_sampling < alpha:\n    print(\"There is a significant difference between Spotify streaming and YouTube views based on the sampling distribution.\")\nelse:\n    print(\"There is no significant difference between Spotify streaming and YouTube views based on the sampling distribution.\")\n\nprint(\"Sampling Mean:\", sampling_mean)\nprint(\"Sampling Standard Deviation:\", sampling_std)",
    "papermill": {
     "duration": 0.035384,
     "end_time": "2023-07-10T10:12:43.525144",
     "exception": false,
     "start_time": "2023-07-10T10:12:43.489760",
     "status": "completed"
    },
    "tags": []
   },
   "outputs": [
    {
     "name": "stdout",
     "output_type": "stream",
     "text": [
      "There is a significant difference between Spotify streaming and YouTube views based on the sampling distribution.\n",
      "Sampling Mean: 44708027.759399995\n",
      "Sampling Standard Deviation: 65679334.78581383\n"
     ]
    }
   ],
   "source": [
    "# Interpret the results of hypothesis testing\n",
    "if p_value_sampling < alpha:\n",
    "    print(\"There is a significant difference between Spotify streaming and YouTube views based on the sampling distribution.\")\n",
    "else:\n",
    "    print(\"There is no significant difference between Spotify streaming and YouTube views based on the sampling distribution.\")\n",
    "\n",
    "print(\"Sampling Mean:\", sampling_mean)\n",
    "print(\"Sampling Standard Deviation:\", sampling_std)"
   ]
  },
  {
   "cell_type": "code",
   "execution_count": 17,
   "id": "d64a77d6",
   "metadata": {
    "execution": {
     "iopub.execute_input": "2023-07-10T10:12:43.575468Z",
     "iopub.status.busy": "2023-07-10T10:12:43.574702Z",
     "iopub.status.idle": "2023-07-10T10:12:43.824332Z",
     "shell.execute_reply": "2023-07-10T10:12:43.823035Z"
    },
    "executionCancelledAt": null,
    "executionTime": 180,
    "lastExecutedAt": 1688819997637,
    "lastScheduledRunId": null,
    "lastSuccessfullyExecutedCode": "# Step 11: Create a bar chart to display the results of Step 7\nlabels = ['Spotify Streaming', 'YouTube Views']\nvalues = [spotify_mean, youtube_mean]\n\nplt.bar(labels, values)\nplt.xlabel('Platforms')\nplt.ylabel('Avg')\nplt.title('Comparison of Avg Streaming/Viewing')\nplt.show()",
    "papermill": {
     "duration": 0.277688,
     "end_time": "2023-07-10T10:12:43.827098",
     "exception": false,
     "start_time": "2023-07-10T10:12:43.549410",
     "status": "completed"
    },
    "tags": []
   },
   "outputs": [
    {
     "data": {
      "image/png": "[encoded data removed]",
      "text/plain": [
       "<Figure size 640x480 with 1 Axes>"
      ]
     },
     "metadata": {},
     "output_type": "display_data"
    }
   ],
   "source": [
    "# Create a bar chart to display the results \n",
    "labels = ['Spotify Streaming', 'YouTube Views']\n",
    "values = [spotify_mean, youtube_mean]\n",
    "\n",
    "plt.bar(labels, values)\n",
    "plt.xlabel('Platforms')\n",
    "plt.ylabel('Avg')\n",
    "plt.title('Comparison of Avg Streaming/Viewing')\n",
    "plt.show()"
   ]
  },
  {
   "cell_type": "code",
   "execution_count": 18,
   "id": "83a067c5",
   "metadata": {
    "execution": {
     "iopub.execute_input": "2023-07-10T10:12:43.878894Z",
     "iopub.status.busy": "2023-07-10T10:12:43.878213Z",
     "iopub.status.idle": "2023-07-10T10:12:43.883766Z",
     "shell.execute_reply": "2023-07-10T10:12:43.882536Z"
    },
    "papermill": {
     "duration": 0.034553,
     "end_time": "2023-07-10T10:12:43.886451",
     "exception": false,
     "start_time": "2023-07-10T10:12:43.851898",
     "status": "completed"
    },
    "tags": []
   },
   "outputs": [],
   "source": [
    "# Apply Central Limit Theorem, but w/ Sample Sizing and Normal Distribution\n",
    "sample_size = 1000  # Define the sample size\n",
    "num_samples = 1000  # Define the number of samples"
   ]
  },
  {
   "cell_type": "code",
   "execution_count": 19,
   "id": "fe512b66",
   "metadata": {
    "execution": {
     "iopub.execute_input": "2023-07-10T10:12:43.938199Z",
     "iopub.status.busy": "2023-07-10T10:12:43.937722Z",
     "iopub.status.idle": "2023-07-10T10:12:43.996094Z",
     "shell.execute_reply": "2023-07-10T10:12:43.994800Z"
    },
    "papermill": {
     "duration": 0.087473,
     "end_time": "2023-07-10T10:12:43.998892",
     "exception": false,
     "start_time": "2023-07-10T10:12:43.911419",
     "status": "completed"
    },
    "tags": []
   },
   "outputs": [],
   "source": [
    "# Generate random samples for streaming numbers and YouTube views\n",
    "streaming_samples = np.random.choice(df['Stream'].dropna(), size=(num_samples, sample_size))\n",
    "youtube_samples = np.random.choice(df['Views'].dropna(), size=(num_samples, sample_size))"
   ]
  },
  {
   "cell_type": "code",
   "execution_count": 20,
   "id": "59f2e558",
   "metadata": {
    "execution": {
     "iopub.execute_input": "2023-07-10T10:12:44.051847Z",
     "iopub.status.busy": "2023-07-10T10:12:44.051459Z",
     "iopub.status.idle": "2023-07-10T10:12:44.069115Z",
     "shell.execute_reply": "2023-07-10T10:12:44.067778Z"
    },
    "papermill": {
     "duration": 0.047246,
     "end_time": "2023-07-10T10:12:44.072080",
     "exception": false,
     "start_time": "2023-07-10T10:12:44.024834",
     "status": "completed"
    },
    "tags": []
   },
   "outputs": [],
   "source": [
    "# Calculate the means and standard deviations of the samples\n",
    "sample_means_streaming = np.mean(streaming_samples, axis=1)\n",
    "sample_means_youtube = np.mean(youtube_samples, axis=1)\n",
    "sample_std_streaming = np.std(streaming_samples, axis=1, ddof=1)\n",
    "sample_std_youtube = np.std(youtube_samples, axis=1, ddof=1)"
   ]
  },
  {
   "cell_type": "code",
   "execution_count": 21,
   "id": "16b62548",
   "metadata": {
    "execution": {
     "iopub.execute_input": "2023-07-10T10:12:44.128940Z",
     "iopub.status.busy": "2023-07-10T10:12:44.127716Z",
     "iopub.status.idle": "2023-07-10T10:12:44.133908Z",
     "shell.execute_reply": "2023-07-10T10:12:44.133048Z"
    },
    "papermill": {
     "duration": 0.035231,
     "end_time": "2023-07-10T10:12:44.136628",
     "exception": false,
     "start_time": "2023-07-10T10:12:44.101397",
     "status": "completed"
    },
    "tags": []
   },
   "outputs": [],
   "source": [
    "# Perform statistical analysis on sample means\n",
    "t_stat, p_value = ttest_rel(sample_means_streaming, sample_means)"
   ]
  },
  {
   "cell_type": "code",
   "execution_count": 22,
   "id": "acd2be2c",
   "metadata": {
    "execution": {
     "iopub.execute_input": "2023-07-10T10:12:44.190387Z",
     "iopub.status.busy": "2023-07-10T10:12:44.188782Z",
     "iopub.status.idle": "2023-07-10T10:12:44.974212Z",
     "shell.execute_reply": "2023-07-10T10:12:44.973060Z"
    },
    "papermill": {
     "duration": 0.815849,
     "end_time": "2023-07-10T10:12:44.977012",
     "exception": false,
     "start_time": "2023-07-10T10:12:44.161163",
     "status": "completed"
    },
    "tags": []
   },
   "outputs": [
    {
     "data": {
      "image/png": "[encoded data removed]",
      "text/plain": [
       "<Figure size 1000x600 with 2 Axes>"
      ]
     },
     "metadata": {},
     "output_type": "display_data"
    }
   ],
   "source": [
    "# Visualize the distributions of sample means\n",
    "plt.figure(figsize=(10, 6))\n",
    "\n",
    "# Plot the histogram of sample means for streaming numbers\n",
    "plt.subplot(1, 2, 1)\n",
    "plt.hist(sample_means_streaming, bins=30, alpha=0.5, density=True, color='blue')\n",
    "plt.xlabel('Streaming Numbers')\n",
    "plt.ylabel('Density')\n",
    "plt.title('Distribution of Sample Means for Streaming Numbers')\n",
    "plt.grid(True)\n",
    "\n",
    "# Plot the theoretical normal distribution for streaming numbers\n",
    "x = np.linspace(np.min(sample_means_streaming), np.max(sample_means_streaming), 100)\n",
    "pdf_streaming = norm.pdf(x, loc=np.mean(sample_means_streaming), scale=np.std(sample_means_streaming, ddof=1))\n",
    "plt.plot(x, pdf_streaming, color='red', label='Normal Distribution')\n",
    "plt.legend()\n",
    "\n",
    "# Plot the histogram of sample means for YouTube views\n",
    "plt.subplot(1, 2, 2)\n",
    "plt.hist(sample_means_youtube, bins=30, alpha=0.5, density=True, color='green')\n",
    "plt.xlabel('YouTube Views')\n",
    "plt.ylabel('Density')\n",
    "plt.title('Distribution of Sample Means for YouTube Views')\n",
    "plt.grid(True)\n",
    "\n",
    "# Plot the theoretical normal distribution for YouTube views\n",
    "pdf_youtube = norm.pdf(x, loc=np.mean(sample_means_youtube), scale=np.std(sample_means_youtube, ddof=1))\n",
    "plt.plot(x, pdf_youtube, color='red', label='Normal Distribution')\n",
    "plt.legend()\n",
    "\n",
    "plt.tight_layout()\n",
    "plt.show()"
   ]
  },
  {
   "cell_type": "markdown",
   "id": "69121909",
   "metadata": {
    "papermill": {
     "duration": 0.025256,
     "end_time": "2023-07-10T10:12:45.028030",
     "exception": false,
     "start_time": "2023-07-10T10:12:45.002774",
     "status": "completed"
    },
    "tags": []
   },
   "source": [
    "## Comparing Numbers on Albums and Singles:\n",
    "\n",
    "The analysis delves into the differences in streaming numbers and YouTube viewership between albums and singles. This comparison allows for an understanding of the varying preferences and consumption patterns of listeners and viewers for different types of music releases.\n",
    "\n",
    "* **Null Hypothesis (H0):** There is no significant difference between the mean streaming numbers of songs categorized as albums and mean streaming numbers of songs categorized as singles.\n",
    "* **Alternative Hypothesis (H1):** There is a significant difference between the mean streaming numbers of songs categorized as albums and mean streaming numbers of songs categorized as singles."
   ]
  },
  {
   "cell_type": "code",
   "execution_count": 23,
   "id": "036dfdfc",
   "metadata": {
    "execution": {
     "iopub.execute_input": "2023-07-10T10:12:45.082868Z",
     "iopub.status.busy": "2023-07-10T10:12:45.082137Z",
     "iopub.status.idle": "2023-07-10T10:12:45.104229Z",
     "shell.execute_reply": "2023-07-10T10:12:45.103001Z"
    },
    "executionCancelledAt": null,
    "executionTime": 47,
    "lastExecutedAt": 1688819997685,
    "lastScheduledRunId": null,
    "lastSuccessfullyExecutedCode": "# Filter the data for albums and singles\nalbums = df[df['Album_type'] == 'album']\nsingles = df[df['Album_type'] == 'single']",
    "papermill": {
     "duration": 0.052401,
     "end_time": "2023-07-10T10:12:45.107168",
     "exception": false,
     "start_time": "2023-07-10T10:12:45.054767",
     "status": "completed"
    },
    "tags": []
   },
   "outputs": [],
   "source": [
    "# Filter the data for albums and singles\n",
    "albums = df[df['Album_type'] == 'album']\n",
    "singles = df[df['Album_type'] == 'single']"
   ]
  },
  {
   "cell_type": "code",
   "execution_count": 24,
   "id": "9ead15eb",
   "metadata": {
    "execution": {
     "iopub.execute_input": "2023-07-10T10:12:45.160593Z",
     "iopub.status.busy": "2023-07-10T10:12:45.160195Z",
     "iopub.status.idle": "2023-07-10T10:12:45.165258Z",
     "shell.execute_reply": "2023-07-10T10:12:45.164122Z"
    },
    "executionCancelledAt": null,
    "executionTime": 51,
    "lastExecutedAt": 1688819997737,
    "lastScheduledRunId": null,
    "lastSuccessfullyExecutedCode": "# Extract the streaming numbers for albums and singles\nalbum_streaming = albums['Stream']\nsingle_streaming = singles['Stream']",
    "papermill": {
     "duration": 0.034653,
     "end_time": "2023-07-10T10:12:45.167632",
     "exception": false,
     "start_time": "2023-07-10T10:12:45.132979",
     "status": "completed"
    },
    "tags": []
   },
   "outputs": [],
   "source": [
    "# Extract the streaming numbers for albums and singles\n",
    "album_streaming = albums['Stream']\n",
    "single_streaming = singles['Stream']"
   ]
  },
  {
   "cell_type": "code",
   "execution_count": 25,
   "id": "0708fa8c",
   "metadata": {
    "execution": {
     "iopub.execute_input": "2023-07-10T10:12:45.223035Z",
     "iopub.status.busy": "2023-07-10T10:12:45.222638Z",
     "iopub.status.idle": "2023-07-10T10:12:45.228362Z",
     "shell.execute_reply": "2023-07-10T10:12:45.227267Z"
    },
    "executionCancelledAt": null,
    "executionTime": 47,
    "lastExecutedAt": 1688819997785,
    "lastScheduledRunId": null,
    "lastSuccessfullyExecutedCode": "# Extract the viewership numbers for albums and singles on YouTube\nalbum_views = albums['Views']\nsingle_views = singles['Views']\n",
    "papermill": {
     "duration": 0.035875,
     "end_time": "2023-07-10T10:12:45.230671",
     "exception": false,
     "start_time": "2023-07-10T10:12:45.194796",
     "status": "completed"
    },
    "tags": []
   },
   "outputs": [],
   "source": [
    "# Extract the viewership numbers for albums and singles on YouTube\n",
    "album_views = albums['Views']\n",
    "single_views = singles['Views']\n"
   ]
  },
  {
   "cell_type": "code",
   "execution_count": 26,
   "id": "4d568f1b",
   "metadata": {
    "execution": {
     "iopub.execute_input": "2023-07-10T10:12:45.287165Z",
     "iopub.status.busy": "2023-07-10T10:12:45.286005Z",
     "iopub.status.idle": "2023-07-10T10:12:45.296854Z",
     "shell.execute_reply": "2023-07-10T10:12:45.295751Z"
    },
    "executionCancelledAt": null,
    "executionTime": 52,
    "lastExecutedAt": 1688819997838,
    "lastScheduledRunId": null,
    "lastSuccessfullyExecutedCode": "# Check for NaN values in album_streaming\nalbum_streaming_has_nans = np.isnan(album_streaming).any()\nif album_streaming_has_nans:\n    print(\"album_streaming contains NaN values.\")\nelse:\n    print(\"album_streaming does not contain NaN values.\")\n\n# Check for NaN values in single_streaming\nsingle_streaming_has_nans = np.isnan(single_streaming).any()\nif single_streaming_has_nans:\n    print(\"single_streaming contains NaN values.\")\nelse:\n    print(\"single_streaming does not contain NaN values.\")\n\n# Check for NaN values in album_views\nalbum_views_has_nans = np.isnan(album_views).any()\nif album_views_has_nans:\n    print(\"album_views contains NaN values.\")\nelse:\n    print(\"album_views does not contain NaN values.\")\n\n# Check for NaN values in single_views\nsingle_views_has_nans = np.isnan(single_views).any()\nif single_views_has_nans:\n    print(\"single_views contains NaN values.\")\nelse:\n    print(\"single_views does not contain NaN values.\")\n",
    "papermill": {
     "duration": 0.042968,
     "end_time": "2023-07-10T10:12:45.299366",
     "exception": false,
     "start_time": "2023-07-10T10:12:45.256398",
     "status": "completed"
    },
    "tags": []
   },
   "outputs": [
    {
     "name": "stdout",
     "output_type": "stream",
     "text": [
      "album_streaming contains NaN values.\n",
      "single_streaming contains NaN values.\n",
      "album_views contains NaN values.\n",
      "single_views contains NaN values.\n"
     ]
    }
   ],
   "source": [
    "# Check for NaN values in album_streaming\n",
    "album_streaming_has_nans = np.isnan(album_streaming).any()\n",
    "if album_streaming_has_nans:\n",
    "    print(\"album_streaming contains NaN values.\")\n",
    "else:\n",
    "    print(\"album_streaming does not contain NaN values.\")\n",
    "\n",
    "# Check for NaN values in single_streaming\n",
    "single_streaming_has_nans = np.isnan(single_streaming).any()\n",
    "if single_streaming_has_nans:\n",
    "    print(\"single_streaming contains NaN values.\")\n",
    "else:\n",
    "    print(\"single_streaming does not contain NaN values.\")\n",
    "\n",
    "# Check for NaN values in album_views\n",
    "album_views_has_nans = np.isnan(album_views).any()\n",
    "if album_views_has_nans:\n",
    "    print(\"album_views contains NaN values.\")\n",
    "else:\n",
    "    print(\"album_views does not contain NaN values.\")\n",
    "\n",
    "# Check for NaN values in single_views\n",
    "single_views_has_nans = np.isnan(single_views).any()\n",
    "if single_views_has_nans:\n",
    "    print(\"single_views contains NaN values.\")\n",
    "else:\n",
    "    print(\"single_views does not contain NaN values.\")\n"
   ]
  },
  {
   "cell_type": "code",
   "execution_count": 27,
   "id": "b52c887d",
   "metadata": {
    "execution": {
     "iopub.execute_input": "2023-07-10T10:12:45.354255Z",
     "iopub.status.busy": "2023-07-10T10:12:45.353566Z",
     "iopub.status.idle": "2023-07-10T10:12:45.361386Z",
     "shell.execute_reply": "2023-07-10T10:12:45.360013Z"
    },
    "executionCancelledAt": null,
    "executionTime": 47,
    "lastExecutedAt": 1688819997885,
    "lastScheduledRunId": null,
    "lastSuccessfullyExecutedCode": "# Fill NaN values with the mean of album_streaming, single_streaming, album_views, single_views\nalbum_streaming = album_streaming.fillna(0)\nsingle_streaming = single_streaming.fillna(0)\nalbum_views = album_views.fillna(0)\nsingle_views = single_views.fillna(0)\n",
    "papermill": {
     "duration": 0.038132,
     "end_time": "2023-07-10T10:12:45.364127",
     "exception": false,
     "start_time": "2023-07-10T10:12:45.325995",
     "status": "completed"
    },
    "tags": []
   },
   "outputs": [],
   "source": [
    "# Fill NaN values with the mean of album_streaming, single_streaming, album_views, single_views\n",
    "album_streaming = album_streaming.fillna(0)\n",
    "single_streaming = single_streaming.fillna(0)\n",
    "album_views = album_views.fillna(0)\n",
    "single_views = single_views.fillna(0)\n"
   ]
  },
  {
   "cell_type": "code",
   "execution_count": 28,
   "id": "4f4669e6",
   "metadata": {
    "execution": {
     "iopub.execute_input": "2023-07-10T10:12:45.420568Z",
     "iopub.status.busy": "2023-07-10T10:12:45.419543Z",
     "iopub.status.idle": "2023-07-10T10:12:45.428108Z",
     "shell.execute_reply": "2023-07-10T10:12:45.427119Z"
    },
    "executionCancelledAt": null,
    "executionTime": 49,
    "lastExecutedAt": 1688819997934,
    "lastScheduledRunId": null,
    "lastSuccessfullyExecutedCode": "# Step 6: Perform statistical analysis\nt_stat_spotify, p_value_spotify = ttest_ind(album_streaming, single_streaming)\nt_stat_spotify, p_value_spotify",
    "papermill": {
     "duration": 0.038994,
     "end_time": "2023-07-10T10:12:45.430366",
     "exception": false,
     "start_time": "2023-07-10T10:12:45.391372",
     "status": "completed"
    },
    "tags": []
   },
   "outputs": [
    {
     "data": {
      "text/plain": [
       "(11.964357598084991, 7.079423605181845e-33)"
      ]
     },
     "execution_count": 28,
     "metadata": {},
     "output_type": "execute_result"
    }
   ],
   "source": [
    "# Perform statistical analysis\n",
    "t_stat_spotify, p_value_spotify = ttest_ind(album_streaming, single_streaming)\n",
    "t_stat_spotify, p_value_spotify"
   ]
  },
  {
   "cell_type": "code",
   "execution_count": 29,
   "id": "83e04026",
   "metadata": {
    "execution": {
     "iopub.execute_input": "2023-07-10T10:12:45.483910Z",
     "iopub.status.busy": "2023-07-10T10:12:45.483075Z",
     "iopub.status.idle": "2023-07-10T10:12:45.490261Z",
     "shell.execute_reply": "2023-07-10T10:12:45.488918Z"
    },
    "executionCancelledAt": null,
    "executionTime": 48,
    "lastExecutedAt": 1688819997982,
    "lastScheduledRunId": null,
    "lastSuccessfullyExecutedCode": "# Step 7: Interpret the results for Spotify streaming\nalpha = 0.05  # Significance level\nif p_value_spotify < alpha:\n    print(\"There is a significant difference between album streaming and single streaming on Spotify.\")\nelse:\n    print(\"There is no significant difference between album streaming and single streaming on Spotify.\")",
    "papermill": {
     "duration": 0.036514,
     "end_time": "2023-07-10T10:12:45.492579",
     "exception": false,
     "start_time": "2023-07-10T10:12:45.456065",
     "status": "completed"
    },
    "tags": []
   },
   "outputs": [
    {
     "name": "stdout",
     "output_type": "stream",
     "text": [
      "There is a significant difference between album streaming and single streaming on Spotify.\n"
     ]
    }
   ],
   "source": [
    "# Interpret the results for Spotify streaming\n",
    "alpha = 0.05  # Significance level\n",
    "if p_value_spotify < alpha:\n",
    "    print(\"There is a significant difference between album streaming and single streaming on Spotify.\")\n",
    "else:\n",
    "    print(\"There is no significant difference between album streaming and single streaming on Spotify.\")"
   ]
  },
  {
   "cell_type": "code",
   "execution_count": 30,
   "id": "cbd270b2",
   "metadata": {
    "execution": {
     "iopub.execute_input": "2023-07-10T10:12:45.546266Z",
     "iopub.status.busy": "2023-07-10T10:12:45.545793Z",
     "iopub.status.idle": "2023-07-10T10:12:45.553363Z",
     "shell.execute_reply": "2023-07-10T10:12:45.552127Z"
    },
    "executionCancelledAt": null,
    "executionTime": 47,
    "lastExecutedAt": 1688819998029,
    "lastScheduledRunId": null,
    "lastSuccessfullyExecutedCode": "# Additional analysis for Spotify streaming\nalbum_mean_spotify = np.mean(album_streaming)\nsingle_mean_spotify = np.mean(single_streaming)\nprint(\"Mean album streaming on Spotify:\", album_mean_spotify)\nprint(\"Mean single streaming on Spotify:\", single_mean_spotify)",
    "papermill": {
     "duration": 0.037415,
     "end_time": "2023-07-10T10:12:45.555830",
     "exception": false,
     "start_time": "2023-07-10T10:12:45.518415",
     "status": "completed"
    },
    "tags": []
   },
   "outputs": [
    {
     "name": "stdout",
     "output_type": "stream",
     "text": [
      "Mean album streaming on Spotify: 146280492.262361\n",
      "Mean single streaming on Spotify: 98541809.00519584\n"
     ]
    }
   ],
   "source": [
    "# Additional analysis for Spotify streaming\n",
    "album_mean_spotify = np.mean(album_streaming)\n",
    "single_mean_spotify = np.mean(single_streaming)\n",
    "print(\"Mean album streaming on Spotify:\", album_mean_spotify)\n",
    "print(\"Mean single streaming on Spotify:\", single_mean_spotify)"
   ]
  },
  {
   "cell_type": "code",
   "execution_count": 31,
   "id": "b1756c1e",
   "metadata": {
    "execution": {
     "iopub.execute_input": "2023-07-10T10:12:45.609959Z",
     "iopub.status.busy": "2023-07-10T10:12:45.609217Z",
     "iopub.status.idle": "2023-07-10T10:12:45.616405Z",
     "shell.execute_reply": "2023-07-10T10:12:45.615512Z"
    },
    "executionCancelledAt": null,
    "executionTime": 53,
    "lastExecutedAt": 1688819998082,
    "lastScheduledRunId": null,
    "lastSuccessfullyExecutedCode": "# Step 6: Perform statistical analysis on YouTube views\nt_stat_youtube, p_value_youtube = ttest_ind(album_views, single_views)\nt_stat_youtube, p_value_youtube",
    "papermill": {
     "duration": 0.036865,
     "end_time": "2023-07-10T10:12:45.618606",
     "exception": false,
     "start_time": "2023-07-10T10:12:45.581741",
     "status": "completed"
    },
    "tags": []
   },
   "outputs": [
    {
     "data": {
      "text/plain": [
       "(3.597286946205988, 0.000322331767882382)"
      ]
     },
     "execution_count": 31,
     "metadata": {},
     "output_type": "execute_result"
    }
   ],
   "source": [
    "# Perform statistical analysis on YouTube views\n",
    "t_stat_youtube, p_value_youtube = ttest_ind(album_views, single_views)\n",
    "t_stat_youtube, p_value_youtube"
   ]
  },
  {
   "cell_type": "code",
   "execution_count": 32,
   "id": "92ba80be",
   "metadata": {
    "execution": {
     "iopub.execute_input": "2023-07-10T10:12:45.673146Z",
     "iopub.status.busy": "2023-07-10T10:12:45.672301Z",
     "iopub.status.idle": "2023-07-10T10:12:45.678395Z",
     "shell.execute_reply": "2023-07-10T10:12:45.677154Z"
    },
    "executionCancelledAt": null,
    "executionTime": 47,
    "lastExecutedAt": 1688819998129,
    "lastScheduledRunId": null,
    "lastSuccessfullyExecutedCode": "# Step 7: Interpret the results for YouTube views\nif p_value_youtube < alpha:\n    print(\"There is a significant difference between album views and single views on YouTube.\")\nelse:\n    print(\"There is no significant difference between album views and single views on YouTube.\")\n",
    "papermill": {
     "duration": 0.036227,
     "end_time": "2023-07-10T10:12:45.680743",
     "exception": false,
     "start_time": "2023-07-10T10:12:45.644516",
     "status": "completed"
    },
    "tags": []
   },
   "outputs": [
    {
     "name": "stdout",
     "output_type": "stream",
     "text": [
      "There is a significant difference between album views and single views on YouTube.\n"
     ]
    }
   ],
   "source": [
    "# Interpret the results for YouTube views\n",
    "if p_value_youtube < alpha:\n",
    "    print(\"There is a significant difference between album views and single views on YouTube.\")\n",
    "else:\n",
    "    print(\"There is no significant difference between album views and single views on YouTube.\")\n"
   ]
  },
  {
   "cell_type": "code",
   "execution_count": 33,
   "id": "682c2051",
   "metadata": {
    "execution": {
     "iopub.execute_input": "2023-07-10T10:12:45.735142Z",
     "iopub.status.busy": "2023-07-10T10:12:45.734410Z",
     "iopub.status.idle": "2023-07-10T10:12:45.741470Z",
     "shell.execute_reply": "2023-07-10T10:12:45.740113Z"
    },
    "executionCancelledAt": null,
    "executionTime": 49,
    "lastExecutedAt": 1688819998178,
    "lastScheduledRunId": null,
    "lastSuccessfullyExecutedCode": "# Additional analysis for YouTube views\nalbum_mean_youtube = np.mean(album_views)\nsingle_mean_youtube = np.mean(single_views)\nprint(\"Mean album views on YouTube:\", album_mean_youtube)\nprint(\"Mean single views on YouTube:\", single_mean_youtube)",
    "papermill": {
     "duration": 0.036984,
     "end_time": "2023-07-10T10:12:45.743705",
     "exception": false,
     "start_time": "2023-07-10T10:12:45.706721",
     "status": "completed"
    },
    "tags": []
   },
   "outputs": [
    {
     "name": "stdout",
     "output_type": "stream",
     "text": [
      "Mean album views on YouTube: 96402925.03946134\n",
      "Mean single views on YouTube: 80319036.05295764\n"
     ]
    }
   ],
   "source": [
    "# Additional analysis for YouTube views\n",
    "album_mean_youtube = np.mean(album_views)\n",
    "single_mean_youtube = np.mean(single_views)\n",
    "print(\"Mean album views on YouTube:\", album_mean_youtube)\n",
    "print(\"Mean single views on YouTube:\", single_mean_youtube)"
   ]
  },
  {
   "cell_type": "code",
   "execution_count": 34,
   "id": "80d068e2",
   "metadata": {
    "execution": {
     "iopub.execute_input": "2023-07-10T10:12:45.798786Z",
     "iopub.status.busy": "2023-07-10T10:12:45.798244Z",
     "iopub.status.idle": "2023-07-10T10:12:46.490790Z",
     "shell.execute_reply": "2023-07-10T10:12:46.489201Z"
    },
    "executionCancelledAt": null,
    "executionTime": 300,
    "lastExecutedAt": 1688819998478,
    "lastScheduledRunId": null,
    "lastSuccessfullyExecutedCode": "# Calculate mean streaming numbers or views\nalbum_mean_streaming = album_streaming.mean()\nsingle_mean_streaming = single_streaming.mean()\nalbum_mean_views = album_views.mean()\nsingle_mean_views = single_views.mean()\n\n# Create a bar plot\ncategories = ['Albums', 'Singles']\nmean_values_streaming = [album_mean_streaming, single_mean_streaming]\nmean_values_views = [album_mean_views, single_mean_views]\n\nplt.subplot(1, 2, 1)\nplt.bar(categories, mean_values_streaming)\nplt.xlabel('Category')\nplt.ylabel('Avg Streaming Numbers')\nplt.title('Comparison of Avg Streaming Numbers')\n\nplt.subplot(1, 2, 2)\nplt.bar(categories, mean_values_views)\nplt.xlabel('Category')\nplt.ylabel('Avg Views')\nplt.title('Comparison of Avg Views')\n\nplt.tight_layout()\nplt.show()",
    "papermill": {
     "duration": 0.723599,
     "end_time": "2023-07-10T10:12:46.493500",
     "exception": false,
     "start_time": "2023-07-10T10:12:45.769901",
     "status": "completed"
    },
    "tags": []
   },
   "outputs": [
    {
     "data": {
      "image/png": "[encoded data removed]",
      "text/plain": [
       "<Figure size 640x480 with 2 Axes>"
      ]
     },
     "metadata": {},
     "output_type": "display_data"
    }
   ],
   "source": [
    "# Calculate mean streaming numbers or views\n",
    "album_mean_streaming = album_streaming.mean()\n",
    "single_mean_streaming = single_streaming.mean()\n",
    "album_mean_views = album_views.mean()\n",
    "single_mean_views = single_views.mean()\n",
    "\n",
    "# Create a bar plot\n",
    "categories = ['Albums', 'Singles']\n",
    "mean_values_streaming = [album_mean_streaming, single_mean_streaming]\n",
    "mean_values_views = [album_mean_views, single_mean_views]\n",
    "\n",
    "plt.subplot(1, 2, 1)\n",
    "plt.bar(categories, mean_values_streaming)\n",
    "plt.xlabel('Category')\n",
    "plt.ylabel('Avg Streaming Numbers')\n",
    "plt.title('Comparison of Avg Streaming Numbers')\n",
    "\n",
    "plt.subplot(1, 2, 2)\n",
    "plt.bar(categories, mean_values_views)\n",
    "plt.xlabel('Category')\n",
    "plt.ylabel('Avg Views')\n",
    "plt.title('Comparison of Avg Views')\n",
    "\n",
    "plt.tight_layout()\n",
    "plt.show()"
   ]
  },
  {
   "cell_type": "code",
   "execution_count": 35,
   "id": "8580b693",
   "metadata": {
    "execution": {
     "iopub.execute_input": "2023-07-10T10:12:46.558721Z",
     "iopub.status.busy": "2023-07-10T10:12:46.557984Z",
     "iopub.status.idle": "2023-07-10T10:12:47.125197Z",
     "shell.execute_reply": "2023-07-10T10:12:47.123898Z"
    },
    "papermill": {
     "duration": 0.599401,
     "end_time": "2023-07-10T10:12:47.128140",
     "exception": false,
     "start_time": "2023-07-10T10:12:46.528739",
     "status": "completed"
    },
    "tags": []
   },
   "outputs": [
    {
     "data": {
      "image/png": "[encoded data removed]",
      "text/plain": [
       "<Figure size 640x480 with 1 Axes>"
      ]
     },
     "metadata": {},
     "output_type": "display_data"
    }
   ],
   "source": [
    "\n",
    "# Set the number of iterations and the sample size for each iteration\n",
    "num_iterations = 1000\n",
    "sample_size = 30\n",
    "\n",
    "# Create an array to store the sample means\n",
    "album_sample_means = np.zeros(num_iterations)\n",
    "single_sample_means = np.zeros(num_iterations)\n",
    "\n",
    "# Iterate through the specified number of iterations\n",
    "for i in range(num_iterations):\n",
    "    # Randomly sample from album streaming and calculate the sample mean\n",
    "    album_sample = np.random.choice(album_streaming, size=sample_size, replace=True)\n",
    "    album_sample_mean = np.mean(album_sample)\n",
    "\n",
    "    # Randomly sample from single streaming and calculate the sample mean\n",
    "    single_sample = np.random.choice(single_streaming, size=sample_size, replace=True)\n",
    "    single_sample_mean = np.mean(single_sample)\n",
    "\n",
    "    # Calculate the difference in sample means\n",
    "    album_sample_means[i] = album_sample_mean\n",
    "    single_sample_means[i] = single_sample_mean\n",
    "\n",
    "# Perform statistical test on the sampling distribution\n",
    "t_stat, p_value = ttest_ind(album_streaming, single_streaming)\n",
    "\n",
    "# Plot a histogram of the sampling distribution\n",
    "plt.hist(album_sample_means, bins=30, alpha=0.5, edgecolor='black', label='Albums')\n",
    "plt.hist(single_sample_means, bins=30, alpha=0.5, edgecolor='black', label='Singles')\n",
    "plt.xlabel('Difference in Sample Means')\n",
    "plt.ylabel('Frequency')\n",
    "plt.title('Sampling Distribution of Difference in Sample Means (Albums vs Singles)')\n",
    "plt.grid(True)\n",
    "plt.legend()\n",
    "\n",
    "# Add a vertical line to represent the observed difference in sample means\n",
    "observed_diff = np.mean(album_streaming) - np.mean(single_streaming)\n",
    "plt.axvline(x=observed_diff, color='red', linestyle='--', label='Observed Difference')\n",
    "\n",
    "plt.show()"
   ]
  },
  {
   "cell_type": "markdown",
   "id": "b7c0b2aa",
   "metadata": {
    "papermill": {
     "duration": 0.03213,
     "end_time": "2023-07-10T10:12:47.188840",
     "exception": false,
     "start_time": "2023-07-10T10:12:47.156710",
     "status": "completed"
    },
    "tags": []
   },
   "source": [
    "## Comparing Numbers between Major and Minor Keys:\n",
    "\n",
    "The project explores the impact of musical key (represented using standard Pitch Class notation) on streaming numbers and YouTube viewership. By analyzing the differences between songs in major keys and songs in minor keys, insights can be gained into the potential influence of musical tonality on audience engagement.\n",
    "\n",
    "* **Null Hypothesis (H0):** There is no significant difference between the mean streaming numbers of songs in major keys and mean streaming numbers of songs in minor keys.\n",
    "* **Alternative Hypothesis (H1):** There is a significant difference between the mean streaming numbers of songs in major keys and mean streaming numbers of songs in minor keys."
   ]
  },
  {
   "cell_type": "code",
   "execution_count": 36,
   "id": "5beb3f64",
   "metadata": {
    "execution": {
     "iopub.execute_input": "2023-07-10T10:12:47.248653Z",
     "iopub.status.busy": "2023-07-10T10:12:47.248220Z",
     "iopub.status.idle": "2023-07-10T10:12:47.272456Z",
     "shell.execute_reply": "2023-07-10T10:12:47.271556Z"
    },
    "executionCancelledAt": null,
    "executionTime": 52,
    "lastExecutedAt": 1688819998530,
    "lastScheduledRunId": null,
    "lastSuccessfullyExecutedCode": "# Filter the data for major keys and minor keys\nmajor_keys = df[df['Key'].isin([0, 2, 4, 5, 7, 9, 11])]  # Filter for major keys (0, 2, 4, 5, 7, 9, 11)\nminor_keys = df[df['Key'].isin([1, 3, 6, 8, 10])]  # Filter for minor keys (1, 3, 6, 8, 10)\nprint(major_keys)",
    "papermill": {
     "duration": 0.056424,
     "end_time": "2023-07-10T10:12:47.274940",
     "exception": false,
     "start_time": "2023-07-10T10:12:47.218516",
     "status": "completed"
    },
    "tags": []
   },
   "outputs": [],
   "source": [
    "# Filter the data for major keys and minor keys using the Pitch Class notation\n",
    "major_keys = df[df['Key'].isin([0, 2, 4, 5, 7, 9, 11])]  # Filter for major keys (0, 2, 4, 5, 7, 9, 11)\n",
    "minor_keys = df[df['Key'].isin([1, 3, 6, 8, 10])]  # Filter for minor keys (1, 3, 6, 8, 10)"
   ]
  },
  {
   "cell_type": "code",
   "execution_count": 37,
   "id": "25b7669f",
   "metadata": {
    "execution": {
     "iopub.execute_input": "2023-07-10T10:12:47.336130Z",
     "iopub.status.busy": "2023-07-10T10:12:47.335385Z",
     "iopub.status.idle": "2023-07-10T10:12:47.340100Z",
     "shell.execute_reply": "2023-07-10T10:12:47.339257Z"
    },
    "executionCancelledAt": null,
    "executionTime": 49,
    "lastExecutedAt": 1688819998626,
    "lastScheduledRunId": null,
    "lastSuccessfullyExecutedCode": "# Extract the streaming numbers for major keys and minor keys\nmajor_key_streaming = major_keys['Stream']\nminor_key_streaming = minor_keys['Stream']",
    "papermill": {
     "duration": 0.038091,
     "end_time": "2023-07-10T10:12:47.342356",
     "exception": false,
     "start_time": "2023-07-10T10:12:47.304265",
     "status": "completed"
    },
    "tags": []
   },
   "outputs": [],
   "source": [
    "# Extract the streaming numbers for major keys and minor keys\n",
    "major_key_streaming = major_keys['Stream']\n",
    "minor_key_streaming = minor_keys['Stream']"
   ]
  },
  {
   "cell_type": "code",
   "execution_count": 38,
   "id": "feab076b",
   "metadata": {
    "execution": {
     "iopub.execute_input": "2023-07-10T10:12:47.402615Z",
     "iopub.status.busy": "2023-07-10T10:12:47.401941Z",
     "iopub.status.idle": "2023-07-10T10:12:47.493449Z",
     "shell.execute_reply": "2023-07-10T10:12:47.492034Z"
    },
    "executionCancelledAt": null,
    "executionTime": 48,
    "lastExecutedAt": 1688819998674,
    "lastScheduledRunId": null,
    "lastSuccessfullyExecutedCode": "# Check for NaN values in major_keys\nmajor_keys_has_nans = major_keys.isnull().any().any()\nif major_keys_has_nans:\n    print(\"major_keys contains NaN values.\")\nelse:\n    print(\"major_keys does not contain NaN values.\")\n\n# Check for NaN values in minor_keys\nminor_keys_has_nans = minor_keys.isnull().any().any()\nif minor_keys_has_nans:\n    print(\"minor_keys contains NaN values.\")\nelse:\n    print(\"minor_keys does not contain NaN values.\")\n",
    "papermill": {
     "duration": 0.12526,
     "end_time": "2023-07-10T10:12:47.496028",
     "exception": false,
     "start_time": "2023-07-10T10:12:47.370768",
     "status": "completed"
    },
    "tags": []
   },
   "outputs": [
    {
     "name": "stdout",
     "output_type": "stream",
     "text": [
      "major_keys contains NaN values.\n",
      "minor_keys contains NaN values.\n"
     ]
    }
   ],
   "source": [
    "# Check for NaN values in major_keys\n",
    "major_keys_has_nans = major_keys.isnull().any().any()\n",
    "if major_keys_has_nans:\n",
    "    print(\"major_keys contains NaN values.\")\n",
    "else:\n",
    "    print(\"major_keys does not contain NaN values.\")\n",
    "\n",
    "# Check for NaN values in minor_keys\n",
    "minor_keys_has_nans = minor_keys.isnull().any().any()\n",
    "if minor_keys_has_nans:\n",
    "    print(\"minor_keys contains NaN values.\")\n",
    "else:\n",
    "    print(\"minor_keys does not contain NaN values.\")\n"
   ]
  },
  {
   "cell_type": "code",
   "execution_count": 39,
   "id": "f945bf3b",
   "metadata": {
    "execution": {
     "iopub.execute_input": "2023-07-10T10:12:47.554694Z",
     "iopub.status.busy": "2023-07-10T10:12:47.554265Z",
     "iopub.status.idle": "2023-07-10T10:12:47.561078Z",
     "shell.execute_reply": "2023-07-10T10:12:47.559826Z"
    },
    "executionCancelledAt": null,
    "executionTime": 47,
    "lastExecutedAt": 1688819998721,
    "lastScheduledRunId": null,
    "lastSuccessfullyExecutedCode": "# Fill NaN values of major_keys and minor_keys datasets with zero\nmajor_key_streaming = major_key_streaming.fillna(0)\nminor_key_streaming = minor_key_streaming.fillna(0)",
    "papermill": {
     "duration": 0.038721,
     "end_time": "2023-07-10T10:12:47.563539",
     "exception": false,
     "start_time": "2023-07-10T10:12:47.524818",
     "status": "completed"
    },
    "tags": []
   },
   "outputs": [],
   "source": [
    "# Fill NaN values of major_keys and minor_keys datasets with zero\n",
    "major_key_streaming = major_key_streaming.fillna(0)\n",
    "minor_key_streaming = minor_key_streaming.fillna(0)"
   ]
  },
  {
   "cell_type": "code",
   "execution_count": 40,
   "id": "5ec4bfa0",
   "metadata": {
    "execution": {
     "iopub.execute_input": "2023-07-10T10:12:47.621320Z",
     "iopub.status.busy": "2023-07-10T10:12:47.620892Z",
     "iopub.status.idle": "2023-07-10T10:12:47.625551Z",
     "shell.execute_reply": "2023-07-10T10:12:47.624451Z"
    },
    "executionCancelledAt": null,
    "executionTime": 47,
    "lastExecutedAt": 1688819998769,
    "lastScheduledRunId": null,
    "lastSuccessfullyExecutedCode": "# Step 6: Apply Central Limit Theorem - Sampling\nsample_size = 1000  # Define the sample size\nnum_samples = 500  # Define the number of samples",
    "papermill": {
     "duration": 0.036562,
     "end_time": "2023-07-10T10:12:47.627791",
     "exception": false,
     "start_time": "2023-07-10T10:12:47.591229",
     "status": "completed"
    },
    "tags": []
   },
   "outputs": [],
   "source": [
    "# Apply Central Limit Theorem - Sampling\n",
    "sample_size = 1000  # Define the sample size\n",
    "num_samples = 500  # Define the number of samples"
   ]
  },
  {
   "cell_type": "code",
   "execution_count": 41,
   "id": "e6b3b2c3",
   "metadata": {
    "execution": {
     "iopub.execute_input": "2023-07-10T10:12:47.686661Z",
     "iopub.status.busy": "2023-07-10T10:12:47.686124Z",
     "iopub.status.idle": "2023-07-10T10:12:47.692076Z",
     "shell.execute_reply": "2023-07-10T10:12:47.690854Z"
    },
    "executionCancelledAt": null,
    "executionTime": 47,
    "lastExecutedAt": 1688819998817,
    "lastScheduledRunId": null,
    "lastSuccessfullyExecutedCode": "# Initialize arrays to store sample means\nmajor_key_sample_means = np.zeros(num_samples)\nminor_key_sample_means = np.zeros(num_samples)",
    "papermill": {
     "duration": 0.038073,
     "end_time": "2023-07-10T10:12:47.694420",
     "exception": false,
     "start_time": "2023-07-10T10:12:47.656347",
     "status": "completed"
    },
    "tags": []
   },
   "outputs": [],
   "source": [
    "# Initialize arrays to store sample means\n",
    "major_key_sample_means = np.zeros(num_samples)\n",
    "minor_key_sample_means = np.zeros(num_samples)"
   ]
  },
  {
   "cell_type": "code",
   "execution_count": 42,
   "id": "94cba86e",
   "metadata": {
    "execution": {
     "iopub.execute_input": "2023-07-10T10:12:47.752094Z",
     "iopub.status.busy": "2023-07-10T10:12:47.751618Z",
     "iopub.status.idle": "2023-07-10T10:12:47.826013Z",
     "shell.execute_reply": "2023-07-10T10:12:47.824726Z"
    },
    "executionCancelledAt": null,
    "executionTime": 47,
    "lastExecutedAt": 1688819998865,
    "lastScheduledRunId": null,
    "lastSuccessfullyExecutedCode": "# Generate samples and calculate sample means\nfor i in range(num_samples):\n    major_key_sample = np.random.choice(major_key_streaming, size=sample_size, replace=True)\n    minor_key_sample = np.random.choice(minor_key_streaming, size=sample_size, replace=True)\n    major_key_sample_means[i] = np.mean(major_key_sample)\n    minor_key_sample_means[i] = np.mean(minor_key_sample)",
    "papermill": {
     "duration": 0.10678,
     "end_time": "2023-07-10T10:12:47.828913",
     "exception": false,
     "start_time": "2023-07-10T10:12:47.722133",
     "status": "completed"
    },
    "tags": []
   },
   "outputs": [],
   "source": [
    "# Generate samples and calculate sample means\n",
    "for i in range(num_samples):\n",
    "    major_key_sample = np.random.choice(major_key_streaming, size=sample_size, replace=True)\n",
    "    minor_key_sample = np.random.choice(minor_key_streaming, size=sample_size, replace=True)\n",
    "    major_key_sample_means[i] = np.mean(major_key_sample)\n",
    "    minor_key_sample_means[i] = np.mean(minor_key_sample)"
   ]
  },
  {
   "cell_type": "code",
   "execution_count": 43,
   "id": "2def6e15",
   "metadata": {
    "execution": {
     "iopub.execute_input": "2023-07-10T10:12:47.886242Z",
     "iopub.status.busy": "2023-07-10T10:12:47.885776Z",
     "iopub.status.idle": "2023-07-10T10:12:47.894145Z",
     "shell.execute_reply": "2023-07-10T10:12:47.892877Z"
    },
    "executionCancelledAt": null,
    "executionTime": 47,
    "lastExecutedAt": 1688819998961,
    "lastScheduledRunId": null,
    "lastSuccessfullyExecutedCode": "# Step 7: Perform statistical analysis on sample means\nt_stat, p_value = ttest_ind(major_key_sample_means, minor_key_sample_means)",
    "papermill": {
     "duration": 0.039515,
     "end_time": "2023-07-10T10:12:47.896429",
     "exception": false,
     "start_time": "2023-07-10T10:12:47.856914",
     "status": "completed"
    },
    "tags": []
   },
   "outputs": [
    {
     "data": {
      "text/plain": [
       "(-25.57545931639254, 2.334918021714981e-111)"
      ]
     },
     "execution_count": 43,
     "metadata": {},
     "output_type": "execute_result"
    }
   ],
   "source": [
    "# Perform statistical analysis on sample means\n",
    "t_stat, p_value = ttest_ind(major_key_sample_means, minor_key_sample_means)\n",
    "t_stat, p_value"
   ]
  },
  {
   "cell_type": "code",
   "execution_count": 44,
   "id": "05a21a69",
   "metadata": {
    "execution": {
     "iopub.execute_input": "2023-07-10T10:12:47.954762Z",
     "iopub.status.busy": "2023-07-10T10:12:47.954344Z",
     "iopub.status.idle": "2023-07-10T10:12:48.353703Z",
     "shell.execute_reply": "2023-07-10T10:12:48.352575Z"
    },
    "executionCancelledAt": null,
    "executionTime": 189,
    "lastExecutedAt": 1688819999151,
    "lastScheduledRunId": null,
    "lastSuccessfullyExecutedCode": "# Step 8: Visualize the distributions of sample means\nplt.hist(major_key_sample_means, alpha=0.5, label='Major Keys')\nplt.hist(minor_key_sample_means, alpha=0.5, label='Minor Keys')\nplt.xlabel('Sample Mean Streaming Numbers')\nplt.ylabel('Frequency')\nplt.title('Distribution of Sample Means for Major Keys vs. Minor Keys')\nplt.legend()\n\nplt.show()",
    "papermill": {
     "duration": 0.433963,
     "end_time": "2023-07-10T10:12:48.358607",
     "exception": false,
     "start_time": "2023-07-10T10:12:47.924644",
     "status": "completed"
    },
    "tags": []
   },
   "outputs": [
    {
     "data": {
      "image/png": "[encoded data removed]",
      "text/plain": [
       "<Figure size 640x480 with 1 Axes>"
      ]
     },
     "metadata": {},
     "output_type": "display_data"
    }
   ],
   "source": [
    "# Visualize the distributions of sample means\n",
    "plt.hist(major_key_sample_means, alpha=0.5, label='Major Keys')\n",
    "plt.hist(minor_key_sample_means, alpha=0.5, label='Minor Keys')\n",
    "plt.xlabel('Sample Mean Streaming Numbers')\n",
    "plt.ylabel('Frequency')\n",
    "plt.title('Distribution of Sample Means for Major Keys vs. Minor Keys')\n",
    "plt.legend()\n",
    "\n",
    "plt.show()"
   ]
  },
  {
   "cell_type": "code",
   "execution_count": 45,
   "id": "2dbcdd0e",
   "metadata": {
    "execution": {
     "iopub.execute_input": "2023-07-10T10:12:48.441505Z",
     "iopub.status.busy": "2023-07-10T10:12:48.440575Z",
     "iopub.status.idle": "2023-07-10T10:12:48.448451Z",
     "shell.execute_reply": "2023-07-10T10:12:48.447041Z"
    },
    "executionCancelledAt": null,
    "executionTime": 51,
    "lastExecutedAt": 1688819999202,
    "lastScheduledRunId": null,
    "lastSuccessfullyExecutedCode": "# Step 9: Interpret the results\nalpha = 0.05  # Significance level\nif p_value < alpha:\n    print(\"There is a significant difference between major key streaming and minor key streaming.\")\nelse:\n    print(\"There is no significant difference between major key streaming and minor key streaming.\")",
    "papermill": {
     "duration": 0.05255,
     "end_time": "2023-07-10T10:12:48.451179",
     "exception": false,
     "start_time": "2023-07-10T10:12:48.398629",
     "status": "completed"
    },
    "tags": []
   },
   "outputs": [
    {
     "name": "stdout",
     "output_type": "stream",
     "text": [
      "There is a significant difference between major key streaming and minor key streaming.\n"
     ]
    }
   ],
   "source": [
    "# Interpret the results\n",
    "alpha = 0.05  # Significance level\n",
    "if p_value < alpha:\n",
    "    print(\"There is a significant difference between major key streaming and minor key streaming.\")\n",
    "else:\n",
    "    print(\"There is no significant difference between major key streaming and minor key streaming.\")"
   ]
  },
  {
   "cell_type": "code",
   "execution_count": 46,
   "id": "5a881a87",
   "metadata": {
    "execution": {
     "iopub.execute_input": "2023-07-10T10:12:48.512538Z",
     "iopub.status.busy": "2023-07-10T10:12:48.511651Z",
     "iopub.status.idle": "2023-07-10T10:12:48.522203Z",
     "shell.execute_reply": "2023-07-10T10:12:48.520868Z"
    },
    "executionCancelledAt": null,
    "executionTime": 52,
    "lastExecutedAt": 1688819999254,
    "lastScheduledRunId": null,
    "lastSuccessfullyExecutedCode": "# Additional Analysis\nmajor_key_mean = np.mean(major_key_streaming)\nminor_key_mean = np.mean(minor_key_streaming)\n\nmajor_key_sampling_mean = np.mean(major_key_sample_means)\nminor_key_sampling_mean = np.mean(minor_key_sample_means)\n\nmajor_key_sampling_std = np.std(major_key_sample_means)\nminor_key_sampling_std = np.std(minor_key_sample_means)\n\nprint(\"Mean streaming in major keys:\", major_key_mean)\nprint(\"Mean streaming in minor keys:\", minor_key_mean)\n\nprint(\"Sampling mean of major keys:\", major_key_sampling_mean)\nprint(\"Sampling mean of minor keys:\", minor_key_sampling_mean)\n\nprint(\"Sampling standard deviation of major keys:\", major_key_sampling_std)\nprint(\"Sampling standard deviation of minor keys:\", minor_key_sampling_std)",
    "papermill": {
     "duration": 0.044779,
     "end_time": "2023-07-10T10:12:48.524556",
     "exception": false,
     "start_time": "2023-07-10T10:12:48.479777",
     "status": "completed"
    },
    "tags": []
   },
   "outputs": [
    {
     "name": "stdout",
     "output_type": "stream",
     "text": [
      "Mean streaming in Major keys: 127775589.63622865\n",
      "Mean streaming in Minor keys: 140319434.7960254\n",
      "\n",
      "Sampling mean of Major keys: 127609952.379812\n",
      "Sampling mean of Minor keys: 139978977.82950398\n",
      "\n",
      "Sampling standard deviation of Major keys: 7254665.019660689\n",
      "Sampling standard deviation of Minor keys: 8005266.105308195\n"
     ]
    }
   ],
   "source": [
    "# Additional Analysis\n",
    "major_key_mean = np.mean(major_key_streaming)\n",
    "minor_key_mean = np.mean(minor_key_streaming)\n",
    "\n",
    "major_key_sampling_mean = np.mean(major_key_sample_means)\n",
    "minor_key_sampling_mean = np.mean(minor_key_sample_means)\n",
    "\n",
    "major_key_sampling_std = np.std(major_key_sample_means)\n",
    "minor_key_sampling_std = np.std(minor_key_sample_means)\n",
    "\n",
    "print(\"Mean streaming in Major keys:\", major_key_mean)\n",
    "print(\"Mean streaming in Minor keys:\", minor_key_mean)\n",
    "\n",
    "print(\"\\nSampling mean of Major keys:\", major_key_sampling_mean)\n",
    "print(\"Sampling mean of Minor keys:\", minor_key_sampling_mean)\n",
    "\n",
    "print(\"\\nSampling standard deviation of Major keys:\", major_key_sampling_std)\n",
    "print(\"Sampling standard deviation of Minor keys:\", minor_key_sampling_std)"
   ]
  },
  {
   "cell_type": "markdown",
   "id": "078a18da",
   "metadata": {
    "papermill": {
     "duration": 0.03289,
     "end_time": "2023-07-10T10:12:48.586024",
     "exception": false,
     "start_time": "2023-07-10T10:12:48.553134",
     "status": "completed"
    },
    "tags": []
   },
   "source": [
    "## Comparing Numbers between Music Artists:\n",
    "\n",
    "The analysis extends to comparing streaming numbers and YouTube viewership across different music artists. By examining the variations in popularity and viewership between artists, it becomes possible to identify trends and factors contributing to their respective levels of success.\n",
    "\n",
    "* **Null Hypothesis (H0):** There is no significant difference between the mean streaming numbers and mean YouTube views for songs by different music artists in the dataset.\n",
    "* **Alternative Hypothesis (H1):** There is a significant difference between the mean streaming numbers and mean YouTube views for songs by different music artists in the dataset."
   ]
  },
  {
   "cell_type": "code",
   "execution_count": 47,
   "id": "4cfbe97b",
   "metadata": {
    "execution": {
     "iopub.execute_input": "2023-07-10T10:12:48.647483Z",
     "iopub.status.busy": "2023-07-10T10:12:48.647074Z",
     "iopub.status.idle": "2023-07-10T10:12:48.675406Z",
     "shell.execute_reply": "2023-07-10T10:12:48.673971Z"
    },
    "executionCancelledAt": null,
    "executionTime": 83,
    "lastExecutedAt": 1688819999337,
    "lastScheduledRunId": null,
    "lastSuccessfullyExecutedCode": "# Group the data by artist and calculate the mean streaming numbers and YouTube views for each artist\nartist_stats = df.groupby('Artist').agg({'Stream': 'mean', 'Views': 'mean'})\nartist_stats",
    "papermill": {
     "duration": 0.061072,
     "end_time": "2023-07-10T10:12:48.677977",
     "exception": false,
     "start_time": "2023-07-10T10:12:48.616905",
     "status": "completed"
    },
    "tags": []
   },
   "outputs": [
    {
     "data": {
      "text/html": [
       "<div>\n",
       "<style scoped>\n",
       "    .dataframe tbody tr th:only-of-type {\n",
       "        vertical-align: middle;\n",
       "    }\n",
       "\n",
       "    .dataframe tbody tr th {\n",
       "        vertical-align: top;\n",
       "    }\n",
       "\n",
       "    .dataframe thead th {\n",
       "        text-align: right;\n",
       "    }\n",
       "</style>\n",
       "<table border=\"1\" class=\"dataframe\">\n",
       "  <thead>\n",
       "    <tr style=\"text-align: right;\">\n",
       "      <th></th>\n",
       "      <th>Stream</th>\n",
       "      <th>Views</th>\n",
       "    </tr>\n",
       "    <tr>\n",
       "      <th>Artist</th>\n",
       "      <th></th>\n",
       "      <th></th>\n",
       "    </tr>\n",
       "  </thead>\n",
       "  <tbody>\n",
       "    <tr>\n",
       "      <th>$NOT</th>\n",
       "      <td>112763800.2</td>\n",
       "      <td>11078490.3</td>\n",
       "    </tr>\n",
       "    <tr>\n",
       "      <th>$uicideboy$</th>\n",
       "      <td>212674813.0</td>\n",
       "      <td>33413510.8</td>\n",
       "    </tr>\n",
       "    <tr>\n",
       "      <th>(G)I-DLE</th>\n",
       "      <td>130421245.8</td>\n",
       "      <td>175495394.1</td>\n",
       "    </tr>\n",
       "    <tr>\n",
       "      <th>*NSYNC</th>\n",
       "      <td>142783375.6</td>\n",
       "      <td>102783286.2</td>\n",
       "    </tr>\n",
       "    <tr>\n",
       "      <th>070 Shake</th>\n",
       "      <td>46474861.7</td>\n",
       "      <td>9609935.9</td>\n",
       "    </tr>\n",
       "  </tbody>\n",
       "</table>\n",
       "</div>"
      ],
      "text/plain": [
       "                  Stream        Views\n",
       "Artist                               \n",
       "$NOT         112763800.2   11078490.3\n",
       "$uicideboy$  212674813.0   33413510.8\n",
       "(G)I-DLE     130421245.8  175495394.1\n",
       "*NSYNC       142783375.6  102783286.2\n",
       "070 Shake     46474861.7    9609935.9"
      ]
     },
     "execution_count": 47,
     "metadata": {},
     "output_type": "execute_result"
    }
   ],
   "source": [
    "# Group the data by artist and calculate the mean streaming numbers and YouTube views for each artist\n",
    "artist_stats = df.groupby('Artist').agg({'Stream': 'mean', 'Views': 'mean'})\n",
    "artist_stats.head()"
   ]
  },
  {
   "cell_type": "code",
   "execution_count": 48,
   "id": "f6a7aa08",
   "metadata": {
    "execution": {
     "iopub.execute_input": "2023-07-10T10:12:48.739135Z",
     "iopub.status.busy": "2023-07-10T10:12:48.738675Z",
     "iopub.status.idle": "2023-07-10T10:12:48.744185Z",
     "shell.execute_reply": "2023-07-10T10:12:48.742976Z"
    },
    "executionCancelledAt": null,
    "executionTime": 48,
    "lastExecutedAt": 1688819999385,
    "lastScheduledRunId": null,
    "lastSuccessfullyExecutedCode": "# Extract the streaming numbers and YouTube views for each artist\nstreaming_numbers = artist_stats['Stream']\nyoutube_views = artist_stats['Views']",
    "papermill": {
     "duration": 0.038461,
     "end_time": "2023-07-10T10:12:48.746651",
     "exception": false,
     "start_time": "2023-07-10T10:12:48.708190",
     "status": "completed"
    },
    "tags": []
   },
   "outputs": [],
   "source": [
    "# Extract the streaming numbers and YouTube views for each artist\n",
    "streaming_numbers = artist_stats['Stream']\n",
    "youtube_views = artist_stats['Views']"
   ]
  },
  {
   "cell_type": "code",
   "execution_count": 49,
   "id": "d7a02cbb",
   "metadata": {
    "execution": {
     "iopub.execute_input": "2023-07-10T10:12:48.806174Z",
     "iopub.status.busy": "2023-07-10T10:12:48.804876Z",
     "iopub.status.idle": "2023-07-10T10:12:48.812496Z",
     "shell.execute_reply": "2023-07-10T10:12:48.811559Z"
    },
    "papermill": {
     "duration": 0.03998,
     "end_time": "2023-07-10T10:12:48.815041",
     "exception": false,
     "start_time": "2023-07-10T10:12:48.775061",
     "status": "completed"
    },
    "tags": []
   },
   "outputs": [],
   "source": [
    "# Sort artists based on streaming numbers and YouTube views\n",
    "artists_sorted_by_streaming = artist_stats.sort_values(by='Stream', ascending=False)\n",
    "artists_sorted_by_views = artist_stats.sort_values(by='Views', ascending=False)\n"
   ]
  },
  {
   "cell_type": "code",
   "execution_count": 50,
   "id": "a51e39d9",
   "metadata": {
    "execution": {
     "iopub.execute_input": "2023-07-10T10:12:48.876871Z",
     "iopub.status.busy": "2023-07-10T10:12:48.876116Z",
     "iopub.status.idle": "2023-07-10T10:12:48.881497Z",
     "shell.execute_reply": "2023-07-10T10:12:48.880694Z"
    },
    "papermill": {
     "duration": 0.03886,
     "end_time": "2023-07-10T10:12:48.883999",
     "exception": false,
     "start_time": "2023-07-10T10:12:48.845139",
     "status": "completed"
    },
    "tags": []
   },
   "outputs": [],
   "source": [
    "# Get the artists with the most streaming numbers and YouTube views\n",
    "top_streaming_artists = artists_sorted_by_streaming.head(5)\n",
    "top_views_artists = artists_sorted_by_views.head(5)"
   ]
  },
  {
   "cell_type": "code",
   "execution_count": 51,
   "id": "30c2611a",
   "metadata": {
    "execution": {
     "iopub.execute_input": "2023-07-10T10:12:48.943832Z",
     "iopub.status.busy": "2023-07-10T10:12:48.943078Z",
     "iopub.status.idle": "2023-07-10T10:12:48.948872Z",
     "shell.execute_reply": "2023-07-10T10:12:48.948028Z"
    },
    "papermill": {
     "duration": 0.038233,
     "end_time": "2023-07-10T10:12:48.951237",
     "exception": false,
     "start_time": "2023-07-10T10:12:48.913004",
     "status": "completed"
    },
    "tags": []
   },
   "outputs": [],
   "source": [
    "# Fill NaN values with zero\n",
    "streaming_numbers = spotify_streaming.fillna(0)\n",
    "youtube_views = youtube_views.fillna(0)"
   ]
  },
  {
   "cell_type": "code",
   "execution_count": 52,
   "id": "cbda2dc1",
   "metadata": {
    "execution": {
     "iopub.execute_input": "2023-07-10T10:12:49.010160Z",
     "iopub.status.busy": "2023-07-10T10:12:49.009386Z",
     "iopub.status.idle": "2023-07-10T10:12:49.014367Z",
     "shell.execute_reply": "2023-07-10T10:12:49.013586Z"
    },
    "executionCancelledAt": null,
    "executionTime": 46,
    "lastExecutedAt": 1688820041885,
    "lastScheduledRunId": null,
    "lastSuccessfullyExecutedCode": "# Step 6: Apply Central Limit Theorem - Sampling\nsample_size = 1000  # Define the sample size\nnum_samples = 500  # Define the number of samples\n",
    "papermill": {
     "duration": 0.037179,
     "end_time": "2023-07-10T10:12:49.016632",
     "exception": false,
     "start_time": "2023-07-10T10:12:48.979453",
     "status": "completed"
    },
    "tags": []
   },
   "outputs": [],
   "source": [
    "# Apply Central Limit Theorem - Sampling\n",
    "sample_size = 1000  # Define the sample size\n",
    "num_samples = 500  # Define the number of samples\n"
   ]
  },
  {
   "cell_type": "code",
   "execution_count": 53,
   "id": "e02adc9d",
   "metadata": {
    "execution": {
     "iopub.execute_input": "2023-07-10T10:12:49.076235Z",
     "iopub.status.busy": "2023-07-10T10:12:49.075385Z",
     "iopub.status.idle": "2023-07-10T10:12:49.080651Z",
     "shell.execute_reply": "2023-07-10T10:12:49.079870Z"
    },
    "executionCancelledAt": null,
    "executionTime": 9,
    "lastExecutedAt": 1688820044674,
    "lastScheduledRunId": null,
    "lastSuccessfullyExecutedCode": "# Initialize arrays to store sample means\nsample_means_streaming = []\nsample_means_youtube = []",
    "papermill": {
     "duration": 0.037658,
     "end_time": "2023-07-10T10:12:49.082964",
     "exception": false,
     "start_time": "2023-07-10T10:12:49.045306",
     "status": "completed"
    },
    "tags": []
   },
   "outputs": [],
   "source": [
    "# Initialize arrays to store sample means\n",
    "sample_means_streaming = []\n",
    "sample_means_youtube = []"
   ]
  },
  {
   "cell_type": "code",
   "execution_count": 54,
   "id": "6868eb63",
   "metadata": {
    "execution": {
     "iopub.execute_input": "2023-07-10T10:12:49.142283Z",
     "iopub.status.busy": "2023-07-10T10:12:49.141472Z",
     "iopub.status.idle": "2023-07-10T10:13:57.223628Z",
     "shell.execute_reply": "2023-07-10T10:13:57.222232Z"
    },
    "executionCancelledAt": null,
    "executionTime": 43366,
    "lastExecutedAt": 1688820238573,
    "lastScheduledRunId": null,
    "lastSuccessfullyExecutedCode": "# Generate samples and calculate sample means for streaming numbers and YouTube views\nfor artist, streaming, views in zip(artist_stats.index, streaming_numbers, youtube_views):\n    streaming_samples = np.random.normal(loc=streaming, scale=np.std(streaming),\n                                         size=(num_samples, sample_size))\n    youtube_samples = np.random.normal(loc=views, scale=np.std(views),\n                                       size=(num_samples, sample_size))\n    sample_means_streaming.extend(np.mean(streaming_samples, axis=1))\n    sample_means_youtube.extend(np.mean(youtube_samples, axis=1))",
    "papermill": {
     "duration": 68.115286,
     "end_time": "2023-07-10T10:13:57.226701",
     "exception": false,
     "start_time": "2023-07-10T10:12:49.111415",
     "status": "completed"
    },
    "tags": []
   },
   "outputs": [],
   "source": [
    "# Generate samples and calculate sample means for streaming numbers and YouTube views\n",
    "for artist, streaming, views in zip(artist_stats.index, streaming_numbers, youtube_views):\n",
    "    streaming_samples = np.random.normal(loc=streaming, scale=np.std(streaming),\n",
    "                                         size=(num_samples, sample_size))\n",
    "    youtube_samples = np.random.normal(loc=views, scale=np.std(views),\n",
    "                                       size=(num_samples, sample_size))\n",
    "    sample_means_streaming.extend(np.mean(streaming_samples, axis=1))\n",
    "    sample_means_youtube.extend(np.mean(youtube_samples, axis=1))"
   ]
  },
  {
   "cell_type": "code",
   "execution_count": 55,
   "id": "bed77459",
   "metadata": {
    "execution": {
     "iopub.execute_input": "2023-07-10T10:13:57.287988Z",
     "iopub.status.busy": "2023-07-10T10:13:57.287572Z",
     "iopub.status.idle": "2023-07-10T10:13:57.505918Z",
     "shell.execute_reply": "2023-07-10T10:13:57.504709Z"
    },
    "executionCancelledAt": null,
    "executionTime": 110,
    "lastExecutedAt": 1688820288223,
    "lastScheduledRunId": null,
    "lastSuccessfullyExecutedCode": "# Step 7: Perform statistical analysis on sample means\nfrom scipy.stats import ttest_rel\n\nt_stat, p_value = ttest_rel(sample_means_streaming, sample_means_youtube)\nt_stat, p_value",
    "papermill": {
     "duration": 0.25174,
     "end_time": "2023-07-10T10:13:57.508722",
     "exception": false,
     "start_time": "2023-07-10T10:13:57.256982",
     "status": "completed"
    },
    "tags": []
   },
   "outputs": [
    {
     "data": {
      "text/plain": [
       "(411.5797650789638, 0.0)"
      ]
     },
     "execution_count": 55,
     "metadata": {},
     "output_type": "execute_result"
    }
   ],
   "source": [
    "# Perform statistical analysis on sample means\n",
    "from scipy.stats import ttest_rel\n",
    "\n",
    "t_stat, p_value = ttest_rel(sample_means_streaming, sample_means_youtube)\n",
    "t_stat, p_value"
   ]
  },
  {
   "cell_type": "code",
   "execution_count": 56,
   "id": "8356576f",
   "metadata": {
    "execution": {
     "iopub.execute_input": "2023-07-10T10:13:57.571706Z",
     "iopub.status.busy": "2023-07-10T10:13:57.571291Z",
     "iopub.status.idle": "2023-07-10T10:14:08.311815Z",
     "shell.execute_reply": "2023-07-10T10:14:08.310539Z"
    },
    "papermill": {
     "duration": 10.774276,
     "end_time": "2023-07-10T10:14:08.314507",
     "exception": false,
     "start_time": "2023-07-10T10:13:57.540231",
     "status": "completed"
    },
    "tags": []
   },
   "outputs": [
    {
     "data": {
      "image/png": "[encoded data removed]",
      "text/plain": [
       "<Figure size 640x480 with 1 Axes>"
      ]
     },
     "metadata": {},
     "output_type": "display_data"
    }
   ],
   "source": [
    "# Visualize the distributions of sample means\n",
    "plt.hist(sample_means_streaming, alpha=0.5, label='Streaming Numbers')\n",
    "plt.hist(sample_means_youtube, alpha=0.5, label='YouTube Views')\n",
    "plt.xlabel('Sample Mean')\n",
    "plt.ylabel('Frequency')\n",
    "plt.title('Distribution of Sample Means for Streaming Numbers vs. YouTube Views')\n",
    "plt.legend()\n",
    "plt.show()\n"
   ]
  },
  {
   "cell_type": "markdown",
   "id": "8949ce8c",
   "metadata": {
    "papermill": {
     "duration": 0.029793,
     "end_time": "2023-07-10T10:14:08.375835",
     "exception": false,
     "start_time": "2023-07-10T10:14:08.346042",
     "status": "completed"
    },
    "tags": []
   },
   "source": [
    "### Comparison of Avg Streaming Numbers and Avg YouTube Views Among Music Artists:"
   ]
  },
  {
   "cell_type": "code",
   "execution_count": 57,
   "id": "a029fcf3",
   "metadata": {
    "execution": {
     "iopub.execute_input": "2023-07-10T10:14:08.437526Z",
     "iopub.status.busy": "2023-07-10T10:14:08.437113Z",
     "iopub.status.idle": "2023-07-10T10:14:09.106496Z",
     "shell.execute_reply": "2023-07-10T10:14:09.105536Z"
    },
    "papermill": {
     "duration": 0.703206,
     "end_time": "2023-07-10T10:14:09.108844",
     "exception": false,
     "start_time": "2023-07-10T10:14:08.405638",
     "status": "completed"
    },
    "tags": []
   },
   "outputs": [
    {
     "data": {
      "image/png": "[encoded data removed]",
      "text/plain": [
       "<Figure size 1000x600 with 1 Axes>"
      ]
     },
     "metadata": {},
     "output_type": "display_data"
    },
    {
     "data": {
      "image/png": "[encoded data removed]",
      "text/plain": [
       "<Figure size 1000x600 with 1 Axes>"
      ]
     },
     "metadata": {},
     "output_type": "display_data"
    }
   ],
   "source": [
    "# Data visualizations for top streaming artists\n",
    "plt.figure(figsize=(10, 6))\n",
    "plt.bar(top_streaming_artists.index, top_streaming_artists['Stream'])\n",
    "plt.xlabel('Artist')\n",
    "plt.ylabel('Mean Streaming Numbers')\n",
    "plt.title('Top Artists by Streaming Numbers')\n",
    "plt.xticks(rotation=45)\n",
    "plt.show()\n",
    "\n",
    "# Data visualizations for top artists with the most YouTube views \n",
    "plt.figure(figsize=(10, 6))\n",
    "plt.bar(top_views_artists.index, top_views_artists['Views'])\n",
    "plt.xlabel('Artist')\n",
    "plt.ylabel('Mean YouTube Views')\n",
    "plt.title('Top Artists by YouTube Views')\n",
    "plt.xticks(rotation=45)\n",
    "plt.show()\n"
   ]
  },
  {
   "cell_type": "code",
   "execution_count": 58,
   "id": "f7068b4e",
   "metadata": {
    "execution": {
     "iopub.execute_input": "2023-07-10T10:14:09.173201Z",
     "iopub.status.busy": "2023-07-10T10:14:09.172475Z",
     "iopub.status.idle": "2023-07-10T10:14:09.203157Z",
     "shell.execute_reply": "2023-07-10T10:14:09.201618Z"
    },
    "papermill": {
     "duration": 0.066354,
     "end_time": "2023-07-10T10:14:09.205887",
     "exception": false,
     "start_time": "2023-07-10T10:14:09.139533",
     "status": "completed"
    },
    "tags": []
   },
   "outputs": [
    {
     "name": "stdout",
     "output_type": "stream",
     "text": [
      "Top Artists with Highest Streaming Numbers:\n",
      "\n",
      "Post Malone: Avg Streaming Numbers = 1525126385.3\n",
      "\n",
      "Ed Sheeran: Avg Streaming Numbers = 1439488155.7\n",
      "\n",
      "Dua Lipa: Avg Streaming Numbers = 1340807627.4\n",
      "\n",
      "XXXTENTACION: Avg Streaming Numbers = 1322435169.9\n",
      "\n",
      "The Weeknd: Avg Streaming Numbers = 1303197337.6\n",
      "\n",
      "\n",
      "Top Artists with Highest YouTube Views:\n",
      "\n",
      "Ed Sheeran: Avg YouTube Views = 1546020776.9\n",
      "\n",
      "CoComelon: Avg YouTube Views = 1460167121.1\n",
      "\n",
      "Katy Perry: Avg YouTube Views = 1312063207.5\n",
      "\n",
      "Charlie Puth: Avg YouTube Views = 1216759419.1\n",
      "\n",
      "Luis Fonsi: Avg YouTube Views = 1162811303.1\n",
      "\n"
     ]
    }
   ],
   "source": [
    "# Calculate the mean streaming numbers and mean YouTube views for each music artist\n",
    "artist_mean_streaming = df.groupby('Artist')['Stream'].mean()\n",
    "artist_mean_youtube = df.groupby('Artist')['Views'].mean()\n",
    "\n",
    "# Get the top five music artists with the highest streaming numbers\n",
    "top_streaming_artists = artist_mean_streaming.nlargest(5).index.tolist()\n",
    "\n",
    "# Get the top five music artists with the highest YouTube views\n",
    "top_youtube_artists = artist_mean_youtube.nlargest(5).index.tolist()\n",
    "\n",
    "# Compare the mean streaming numbers and mean YouTube views for the top artists\n",
    "print(\"Top Artists with Highest Streaming Numbers:\\n\")\n",
    "for artist in top_streaming_artists:\n",
    "    streaming_mean = artist_mean_streaming[artist]\n",
    "    print(f\"{artist}: Avg Streaming Numbers = {streaming_mean}\\n\")\n",
    "\n",
    "print(\"\\nTop Artists with Highest YouTube Views:\\n\")\n",
    "for artist in top_youtube_artists:\n",
    "    youtube_mean = artist_mean_youtube[artist]\n",
    "    print(f\"{artist}: Avg YouTube Views = {youtube_mean}\\n\")\n",
    "\n",
    "\n"
   ]
  },
  {
   "cell_type": "code",
   "execution_count": 59,
   "id": "6db00e9f",
   "metadata": {
    "execution": {
     "iopub.execute_input": "2023-07-10T10:14:09.270904Z",
     "iopub.status.busy": "2023-07-10T10:14:09.270471Z",
     "iopub.status.idle": "2023-07-10T10:14:09.277312Z",
     "shell.execute_reply": "2023-07-10T10:14:09.276277Z"
    },
    "papermill": {
     "duration": 0.041935,
     "end_time": "2023-07-10T10:14:09.279554",
     "exception": false,
     "start_time": "2023-07-10T10:14:09.237619",
     "status": "completed"
    },
    "tags": []
   },
   "outputs": [
    {
     "name": "stdout",
     "output_type": "stream",
     "text": [
      "There is a significant difference between streaming numbers and YouTube views.\n"
     ]
    }
   ],
   "source": [
    "# Interpret the results\n",
    "alpha = 0.05  # Significance level\n",
    "if p_value < alpha:\n",
    "    print(\"There is a significant difference between streaming numbers and YouTube views.\")\n",
    "else:\n",
    "    print(\"There is no significant difference between streaming numbers and YouTube views.\")"
   ]
  },
  {
   "cell_type": "markdown",
   "id": "c627a84a",
   "metadata": {
    "papermill": {
     "duration": 0.030672,
     "end_time": "2023-07-10T10:14:09.341344",
     "exception": false,
     "start_time": "2023-07-10T10:14:09.310672",
     "status": "completed"
    },
    "tags": []
   },
   "source": [
    "### Correlation Analysis between Streaming Numbers and YouTube Views Among Music Artists:"
   ]
  },
  {
   "cell_type": "code",
   "execution_count": 60,
   "id": "2fbb0e45",
   "metadata": {
    "execution": {
     "iopub.execute_input": "2023-07-10T10:14:09.406599Z",
     "iopub.status.busy": "2023-07-10T10:14:09.406173Z",
     "iopub.status.idle": "2023-07-10T10:14:09.414912Z",
     "shell.execute_reply": "2023-07-10T10:14:09.413313Z"
    },
    "papermill": {
     "duration": 0.04415,
     "end_time": "2023-07-10T10:14:09.417407",
     "exception": false,
     "start_time": "2023-07-10T10:14:09.373257",
     "status": "completed"
    },
    "tags": []
   },
   "outputs": [
    {
     "name": "stdout",
     "output_type": "stream",
     "text": [
      "Correlation between Avg Streaming Numbers and Avg YouTube Views Among the Top Music Artists: 94.53%\n"
     ]
    }
   ],
   "source": [
    "# Create arrays for streaming numbers and YouTube views for the top artists\n",
    "streaming_numbers_top = np.array([artist_mean_streaming[artist] for artist in top_streaming_artists])\n",
    "youtube_views_top = np.array([artist_mean_youtube[artist] for artist in top_youtube_artists])\n",
    "\n",
    "# Perform correlation analysis\n",
    "correlation = np.corrcoef(streaming_numbers_top, youtube_views_top)[0, 1]\n",
    "correlation_percentage = correlation ** 2 * 100\n",
    "\n",
    "print(\"Correlation between Avg Streaming Numbers and Avg YouTube Views Among the Top Music Artists: {:.2f}%\".format(correlation_percentage))\n",
    "\n"
   ]
  }
 ],
 "metadata": {
  "kernelspec": {
   "display_name": "Python 3",
   "language": "python",
   "name": "python3"
  },
  "language_info": {
   "codemirror_mode": {
    "name": "ipython",
    "version": 3
   },
   "file_extension": ".py",
   "mimetype": "text/x-python",
   "name": "python",
   "nbconvert_exporter": "python",
   "pygments_lexer": "ipython3",
   "version": "3.10.10"
  },
  "papermill": {
   "default_parameters": {},
   "duration": 105.238549,
   "end_time": "2023-07-10T10:14:10.673016",
   "environment_variables": {},
   "exception": null,
   "input_path": "__notebook__.ipynb",
   "output_path": "__notebook__.ipynb",
   "parameters": {},
   "start_time": "2023-07-10T10:12:25.434467",
   "version": "2.4.0"
  }
 },
 "nbformat": 4,
 "nbformat_minor": 5
}
